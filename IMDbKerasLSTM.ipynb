{
 "cells": [
  {
   "cell_type": "code",
   "execution_count": 1,
   "id": "f11ba808",
   "metadata": {},
   "outputs": [],
   "source": [
    "from keras.datasets import imdb\n",
    "from keras.preprocessing import sequence\n",
    "from keras.preprocessing.text import Tokenizer\n",
    "from keras.utils import pad_sequences\n",
    "import numpy as np\n",
    "np.random.seed(10)"
   ]
  },
  {
   "cell_type": "code",
   "execution_count": 2,
   "id": "a8f307f6",
   "metadata": {},
   "outputs": [],
   "source": [
    "#使用正規表示式Regular Expression\n",
    "#建立rm_tag函數移除文字中html tag\n",
    "import re                          #匯入Regular Expression模組\n",
    "def rm_tags(text):                 #建立rm_tags函數，輸入參數text文字\n",
    "    re_tag = re.compile(r'<[^>]+>')#建立rm_tag正規表示式變數為'<[^>]+>'\n",
    "    return re_tag.sub('',text)     #使用re_tag將text文字中，符合正規表示式條件的字替換成空字串"
   ]
  },
  {
   "cell_type": "code",
   "execution_count": 3,
   "id": "52d43cf3",
   "metadata": {},
   "outputs": [],
   "source": [
    "#建立read_files函數讀取IMDb檔案目錄\n",
    "import os\n",
    "def read_files(filetype):             #建立read_files函數，輸入參數filetype 讀取[訓練/測試]資料會傳入\"[train/test]\" \n",
    "    path = \"C:/Users/USER/aclImdb/\"   #設定存取路徑\n",
    "    file_list=[]                      #建立檔案list\n",
    "    \n",
    "    positive_path = path + filetype + \"/pos/\"  #設定正面評價的檔案目錄為positive_path\n",
    "    for f in os.listdir(positive_path):         #使用for將positive_path目錄下所有的檔案加入file_list\n",
    "        file_list +=[positive_path + f]\n",
    "    \n",
    "    negative_path = path + filetype + \"/neg/\"  #設定正面評價的檔案目錄為negative_path\n",
    "    for f in os.listdir(negative_path):         #使用for將negative_path目錄下所有的檔案加入file_list\n",
    "        file_list +=[negative_path + f]\n",
    "    \n",
    "    print('read',filetype,'files:',len(file_list)) #顯示目前讀取的filetype(\"train或test\")，目錄下的檔案個數\n",
    "    \n",
    "    all_labels = ([1]*12500+[0]*12500)             #產生all_label因為前12500筆是正面，所以產生12500筆1的list，0則為負面\n",
    "    \n",
    "    all_texts = []            #設定all_text為空list\n",
    "    for fi in file_list:   #fi讀取所有file_list檔案\n",
    "        with open(fi,encoding='utf-8') as file_input: #使用open(fi,encoding='utf-8')開啟檔案為file_input\n",
    "#使用使用 file_input.readlines()讀取檔案，並使用join連接所有檔案內容，然後使用rm_tags移除tag，最後加入 all_texts list\n",
    "            all_texts += [rm_tags(\" \".join(file_input.readlines()))]\n",
    "  \n",
    "    return all_labels,all_texts"
   ]
  },
  {
   "cell_type": "code",
   "execution_count": 4,
   "id": "5299fafe",
   "metadata": {},
   "outputs": [
    {
     "name": "stdout",
     "output_type": "stream",
     "text": [
      "read train files: 25000\n"
     ]
    }
   ],
   "source": [
    "#讀取IMDb資料及目錄\n",
    "y_train,train_text = read_files(\"train\")"
   ]
  },
  {
   "cell_type": "code",
   "execution_count": 5,
   "id": "356e304c",
   "metadata": {},
   "outputs": [
    {
     "name": "stdout",
     "output_type": "stream",
     "text": [
      "read test files: 25000\n"
     ]
    }
   ],
   "source": [
    "#讀取測試資料\n",
    "y_test,test_text = read_files(\"test\")"
   ]
  },
  {
   "cell_type": "code",
   "execution_count": 6,
   "id": "39b6f015",
   "metadata": {},
   "outputs": [],
   "source": [
    "#建立Token\n",
    "#建立Token\n",
    "token = Tokenizer(num_words=3800) #使用Tokenizer建立token，輸入參數num_words=3800，也就是建立2000個字的字典\n",
    "token.fit_on_texts(train_text)    #讀取所有的訓練資料影評，依照每個英文字，在影評中出現的次數進行排序，排序的前2000個會列入字典中"
   ]
  },
  {
   "cell_type": "code",
   "execution_count": 7,
   "id": "5d7e8997",
   "metadata": {},
   "outputs": [],
   "source": [
    "#使用token.texts_to_sequences將訓練資料與測試資料的影評文字轉換籌數字list。\n",
    "x_train_seq = token.texts_to_sequences(train_text)\n",
    "x_test_seq = token.texts_to_sequences(test_text)"
   ]
  },
  {
   "cell_type": "code",
   "execution_count": 8,
   "id": "ac21feff",
   "metadata": {},
   "outputs": [],
   "source": [
    "#使用sequence.pad_sequences()方法截長補短\n",
    "x_train = pad_sequences(x_train_seq,maxlen=380)\n",
    "x_test = pad_sequences(x_test_seq,maxlen=380)"
   ]
  },
  {
   "cell_type": "code",
   "execution_count": 9,
   "id": "b3714261",
   "metadata": {},
   "outputs": [],
   "source": [
    "from keras.models import Sequential\n",
    "from keras.layers.core import Dense,Dropout,Activation,Flatten\n",
    "from keras.layers import Embedding\n",
    "from keras.layers import LSTM"
   ]
  },
  {
   "cell_type": "code",
   "execution_count": 10,
   "id": "61db4c7b",
   "metadata": {},
   "outputs": [],
   "source": [
    "#建立模型\n",
    "model = Sequential()"
   ]
  },
  {
   "cell_type": "code",
   "execution_count": 11,
   "id": "da2bba8d",
   "metadata": {},
   "outputs": [],
   "source": [
    "#將Embedding加入模型\n",
    "model.add(Embedding(output_dim = 32,    #輸出的維度32 希望把「數字list」換為32維度的向量\n",
    "                    input_dim = 3800,   #輸入的維度是3800，因為之前建立的字典是3800字\n",
    "                    input_length = 380  #「數字list」每一筆有380個數字 所以長度為380\n",
    "                   ))\n",
    "model.add(Dropout(0.2)) #每次訓練迭代時，隨機在神經往綠中放棄35%的神經元"
   ]
  },
  {
   "cell_type": "code",
   "execution_count": 12,
   "id": "0404c616",
   "metadata": {},
   "outputs": [],
   "source": [
    "#加入LSTM層\n",
    "model.add(LSTM(32))"
   ]
  },
  {
   "cell_type": "code",
   "execution_count": 13,
   "id": "4d02d82e",
   "metadata": {},
   "outputs": [],
   "source": [
    "#加入隱藏層\n",
    "model.add(Dense(\n",
    "    units=256,        #隱藏層共有256個神經元\n",
    "    activation='relu'\n",
    "))\n",
    "\n",
    "model.add(Dropout(0.2))"
   ]
  },
  {
   "cell_type": "code",
   "execution_count": 14,
   "id": "fe1ea66d",
   "metadata": {},
   "outputs": [],
   "source": [
    "#加入輸出層\n",
    "model.add(Dense(\n",
    "    units = 1,    #輸出層只有一個神經元，1代表正面評價，0代表負面評價\n",
    "    activation = 'sigmoid'\n",
    "))"
   ]
  },
  {
   "cell_type": "code",
   "execution_count": 15,
   "id": "b6ebdce7",
   "metadata": {},
   "outputs": [
    {
     "name": "stdout",
     "output_type": "stream",
     "text": [
      "Model: \"sequential\"\n",
      "_________________________________________________________________\n",
      " Layer (type)                Output Shape              Param #   \n",
      "=================================================================\n",
      " embedding (Embedding)       (None, 380, 32)           121600    \n",
      "                                                                 \n",
      " dropout (Dropout)           (None, 380, 32)           0         \n",
      "                                                                 \n",
      " lstm (LSTM)                 (None, 32)                8320      \n",
      "                                                                 \n",
      " dense (Dense)               (None, 256)               8448      \n",
      "                                                                 \n",
      " dropout_1 (Dropout)         (None, 256)               0         \n",
      "                                                                 \n",
      " dense_1 (Dense)             (None, 1)                 257       \n",
      "                                                                 \n",
      "=================================================================\n",
      "Total params: 138,625\n",
      "Trainable params: 138,625\n",
      "Non-trainable params: 0\n",
      "_________________________________________________________________\n"
     ]
    }
   ],
   "source": [
    "model.summary()"
   ]
  },
  {
   "cell_type": "code",
   "execution_count": 16,
   "id": "54630805",
   "metadata": {},
   "outputs": [],
   "source": [
    "#定義訓練方式\n",
    "model.compile(\n",
    "    loss='binary_crossentropy', #在深度學習使用cross_entropy，訓練效果比較好\n",
    "    optimizer = 'adam',\n",
    "    metrics=['accuracy']\n",
    ")"
   ]
  },
  {
   "cell_type": "code",
   "execution_count": 17,
   "id": "09677003",
   "metadata": {},
   "outputs": [],
   "source": [
    "y_train = np.array(y_train)\n",
    "y_test=np.array(y_test)"
   ]
  },
  {
   "cell_type": "code",
   "execution_count": 18,
   "id": "154207c5",
   "metadata": {},
   "outputs": [
    {
     "name": "stdout",
     "output_type": "stream",
     "text": [
      "Epoch 1/10\n",
      "200/200 - 29s - loss: 0.4840 - accuracy: 0.7576 - val_loss: 0.2835 - val_accuracy: 0.8736 - 29s/epoch - 147ms/step\n",
      "Epoch 2/10\n",
      "200/200 - 26s - loss: 0.2698 - accuracy: 0.8917 - val_loss: 0.6175 - val_accuracy: 0.7354 - 26s/epoch - 128ms/step\n",
      "Epoch 3/10\n",
      "200/200 - 26s - loss: 0.2295 - accuracy: 0.9104 - val_loss: 0.3797 - val_accuracy: 0.8202 - 26s/epoch - 128ms/step\n",
      "Epoch 4/10\n",
      "200/200 - 25s - loss: 0.2097 - accuracy: 0.9200 - val_loss: 0.7301 - val_accuracy: 0.7038 - 25s/epoch - 126ms/step\n",
      "Epoch 5/10\n",
      "200/200 - 25s - loss: 0.1882 - accuracy: 0.9290 - val_loss: 0.4795 - val_accuracy: 0.8190 - 25s/epoch - 125ms/step\n",
      "Epoch 6/10\n",
      "200/200 - 25s - loss: 0.1750 - accuracy: 0.9332 - val_loss: 0.6187 - val_accuracy: 0.7990 - 25s/epoch - 125ms/step\n",
      "Epoch 7/10\n",
      "200/200 - 25s - loss: 0.1586 - accuracy: 0.9390 - val_loss: 0.5112 - val_accuracy: 0.8190 - 25s/epoch - 124ms/step\n",
      "Epoch 8/10\n",
      "200/200 - 25s - loss: 0.1516 - accuracy: 0.9428 - val_loss: 0.4219 - val_accuracy: 0.8474 - 25s/epoch - 124ms/step\n",
      "Epoch 9/10\n",
      "200/200 - 25s - loss: 0.1389 - accuracy: 0.9487 - val_loss: 0.6763 - val_accuracy: 0.7978 - 25s/epoch - 124ms/step\n",
      "Epoch 10/10\n",
      "200/200 - 25s - loss: 0.1483 - accuracy: 0.9447 - val_loss: 0.7650 - val_accuracy: 0.7910 - 25s/epoch - 124ms/step\n"
     ]
    }
   ],
   "source": [
    "#開始訓練\n",
    "\n",
    "train_history = model.fit(x_train,              #feature(「數字list」)\n",
    "                          y_train,              #測試資料的標籤label(正向:1、負向:0)\n",
    "                          batch_size = 100,\n",
    "                          epochs = 10,\n",
    "                          verbose = 2,\n",
    "                          validation_split = 0.2\n",
    "                         )"
   ]
  },
  {
   "cell_type": "code",
   "execution_count": 19,
   "id": "8e07ec4e",
   "metadata": {},
   "outputs": [],
   "source": [
    "#讀取train_history\n",
    "import matplotlib.pyplot as plt\n",
    "def show_train_history(train_history,train,validation): #匯入之前訓練產生的train_history/訓練資料的執行結果/驗證資料的執行結果\n",
    "    plt.plot(train_history.history[train])              #訓練資料的執行結果畫線\n",
    "    plt.plot(train_history.history[validation])         #驗證資料的執行結果\n",
    "    plt.title('Train history')\n",
    "    plt.ylabel(train)\n",
    "    plt.xlabel('Epoch')\n",
    "    plt.legend(['train','validation'],loc='upper left')\n",
    "    plt.show()"
   ]
  },
  {
   "cell_type": "code",
   "execution_count": 20,
   "id": "37d5873f",
   "metadata": {},
   "outputs": [
    {
     "data": {
      "image/png": "[encoded data removed]",
      "text/plain": [
       "<Figure size 640x480 with 1 Axes>"
      ]
     },
     "metadata": {},
     "output_type": "display_data"
    }
   ],
   "source": [
    "#呼叫執行結果\n",
    "show_train_history(train_history,'accuracy','val_accuracy')"
   ]
  },
  {
   "cell_type": "code",
   "execution_count": 21,
   "id": "57c0e3ef",
   "metadata": {},
   "outputs": [
    {
     "data": {
      "image/png": "[encoded data removed]",
      "text/plain": [
       "<Figure size 640x480 with 1 Axes>"
      ]
     },
     "metadata": {},
     "output_type": "display_data"
    }
   ],
   "source": [
    "#loss誤差執行結果\n",
    "show_train_history(train_history,'loss','val_loss')"
   ]
  },
  {
   "cell_type": "code",
   "execution_count": 23,
   "id": "1fecfa6f",
   "metadata": {},
   "outputs": [
    {
     "name": "stdout",
     "output_type": "stream",
     "text": [
      "25000/25000 [==============================] - 335s 13ms/step - loss: 0.5176 - accuracy: 0.8528\n"
     ]
    },
    {
     "data": {
      "text/plain": [
       "0.852840006351471"
      ]
     },
     "execution_count": 23,
     "metadata": {},
     "output_type": "execute_result"
    }
   ],
   "source": [
    "#評估模型準確率\n",
    "scores = model.evaluate(x_test,y_test,verbose = 1,batch_size=1)\n",
    "scores[1]"
   ]
  },
  {
   "cell_type": "code",
   "execution_count": 24,
   "id": "1a57676c",
   "metadata": {},
   "outputs": [
    {
     "name": "stdout",
     "output_type": "stream",
     "text": [
      "782/782 [==============================] - 24s 31ms/step\n"
     ]
    }
   ],
   "source": [
    "#預測機率\n",
    "probility = model.predict(x_test) #使用model.predict_classes進行預測\n",
    "#classes_x=np.argmax(prediction,axis=1)"
   ]
  },
  {
   "cell_type": "code",
   "execution_count": 26,
   "id": "d31d7e68",
   "metadata": {},
   "outputs": [
    {
     "data": {
      "text/plain": [
       "array([[0.9999417 ],\n",
       "       [0.9985425 ],\n",
       "       [0.9879657 ],\n",
       "       [0.99914056],\n",
       "       [0.9941863 ],\n",
       "       [0.9980869 ],\n",
       "       [0.99651706],\n",
       "       [0.95887077],\n",
       "       [0.9986702 ],\n",
       "       [0.9997658 ]], dtype=float32)"
      ]
     },
     "execution_count": 26,
     "metadata": {},
     "output_type": "execute_result"
    }
   ],
   "source": [
    "probility[:10]"
   ]
  },
  {
   "cell_type": "code",
   "execution_count": 27,
   "id": "5cabca62",
   "metadata": {},
   "outputs": [
    {
     "name": "stdout",
     "output_type": "stream",
     "text": [
      "[0.05040307]\n",
      "[0.00830933]\n",
      "[0.00342558]\n",
      "[0.7454324]\n",
      "[0.999563]\n",
      "[0.01010787]\n",
      "[0.04384518]\n",
      "[0.00077418]\n",
      "[0.00633865]\n",
      "[0.03197946]\n"
     ]
    }
   ],
   "source": [
    "for p in probility[12500:12510]:\n",
    "    print(p)"
   ]
  },
  {
   "cell_type": "code",
   "execution_count": 28,
   "id": "5ffbd541",
   "metadata": {},
   "outputs": [
    {
     "name": "stdout",
     "output_type": "stream",
     "text": [
      "782/782 [==============================] - 25s 31ms/step\n"
     ]
    }
   ],
   "source": [
    "#預測結果\n",
    "prediction = model.predict(x_test) #使用model.predict_classes進行預測\n",
    "classes_x = np.round(prediction).astype(int)"
   ]
  },
  {
   "cell_type": "code",
   "execution_count": 29,
   "id": "0b2989e7",
   "metadata": {},
   "outputs": [
    {
     "data": {
      "text/plain": [
       "array([[1],\n",
       "       [1],\n",
       "       [1],\n",
       "       [1],\n",
       "       [1],\n",
       "       [1],\n",
       "       [1],\n",
       "       [1],\n",
       "       [1],\n",
       "       [1]])"
      ]
     },
     "execution_count": 29,
     "metadata": {},
     "output_type": "execute_result"
    }
   ],
   "source": [
    "classes_x[:10]"
   ]
  },
  {
   "cell_type": "code",
   "execution_count": 30,
   "id": "311388bd",
   "metadata": {},
   "outputs": [
    {
     "data": {
      "text/plain": [
       "(25000, 1)"
      ]
     },
     "execution_count": 30,
     "metadata": {},
     "output_type": "execute_result"
    }
   ],
   "source": [
    "classes_x.shape"
   ]
  },
  {
   "cell_type": "code",
   "execution_count": 31,
   "id": "97b7c020",
   "metadata": {},
   "outputs": [
    {
     "data": {
      "text/plain": [
       "array([1, 1, 1, ..., 0, 0, 1])"
      ]
     },
     "execution_count": 31,
     "metadata": {},
     "output_type": "execute_result"
    }
   ],
   "source": [
    "classes_x=classes_x.reshape(25000)\n",
    "classes_x"
   ]
  },
  {
   "cell_type": "code",
   "execution_count": 32,
   "id": "9d3d303d",
   "metadata": {},
   "outputs": [],
   "source": [
    "SentimentDict={1:'正面的',0:'負面的'}\n",
    "def display_test_Sentiment(i):\n",
    "    print(test_text[i])\n",
    "    print('label真實值:',SentimentDict[y_test[i]],\n",
    "          '預測結果:',SentimentDict[classes_x[i]])"
   ]
  },
  {
   "cell_type": "code",
   "execution_count": 33,
   "id": "9e8c092a",
   "metadata": {},
   "outputs": [
    {
     "name": "stdout",
     "output_type": "stream",
     "text": [
      "As a recreational golfer with some knowledge of the sport's history, I was pleased with Disney's sensitivity to the issues of class in golf in the early twentieth century. The movie depicted well the psychological battles that Harry Vardon fought within himself, from his childhood trauma of being evicted to his own inability to break that glass ceiling that prevents him from being accepted as an equal in English golf society. Likewise, the young Ouimet goes through his own class struggles, being a mere caddie in the eyes of the upper crust Americans who scoff at his attempts to rise above his standing. What I loved best, however, is how this theme of class is manifested in the characters of Ouimet's parents. His father is a working-class drone who sees the value of hard work but is intimidated by the upper class; his mother, however, recognizes her son's talent and desire and encourages him to pursue his dream of competing against those who think he is inferior.Finally, the golf scenes are well photographed. Although the course used in the movie was not the actual site of the historical tournament, the little liberties taken by Disney do not detract from the beauty of the film. There's one little Disney moment at the pool table; otherwise, the viewer does not really think Disney. The ending, as in \"Miracle,\" is not some Disney creation, but one that only human history could have written.\n",
      "label真實值: 正面的 預測結果: 正面的\n"
     ]
    }
   ],
   "source": [
    "display_test_Sentiment(2)"
   ]
  },
  {
   "cell_type": "code",
   "execution_count": 34,
   "id": "a8313f04",
   "metadata": {},
   "outputs": [
    {
     "name": "stdout",
     "output_type": "stream",
     "text": [
      "I saw this film in a sneak preview, and it is delightful. The cinematography is unusually creative, the acting is good, and the story is fabulous. If this movie does not do well, it won't be because it doesn't deserve to. Before this film, I didn't realize how charming Shia Lebouf could be. He does a marvelous, self-contained, job as the lead. There's something incredibly sweet about him, and it makes the movie even better. The other actors do a good job as well, and the film contains moments of really high suspense, more than one might expect from a movie about golf. Sports movies are a dime a dozen, but this one stands out. This is one I'd recommend to anyone.\n",
      "label真實值: 正面的 預測結果: 正面的\n"
     ]
    }
   ],
   "source": [
    "display_test_Sentiment(3)"
   ]
  },
  {
   "cell_type": "code",
   "execution_count": 35,
   "id": "93196791",
   "metadata": {},
   "outputs": [
    {
     "data": {
      "text/plain": [
       "array([0, 0, 0, 1, 1, 0, 0, 0, 0, 0])"
      ]
     },
     "execution_count": 35,
     "metadata": {},
     "output_type": "execute_result"
    }
   ],
   "source": [
    "classes_x[12500:12510]"
   ]
  },
  {
   "cell_type": "code",
   "execution_count": 38,
   "id": "2ed046b0",
   "metadata": {},
   "outputs": [
    {
     "name": "stdout",
     "output_type": "stream",
     "text": [
      "Once again Mr. Costner has dragged out a movie for far longer than necessary. Aside from the terrific sea rescue sequences, of which there are very few I just did not care about any of the characters. Most of us have ghosts in the closet, and Costner's character are realized early on, and then forgotten until much later, by which time I did not care. The character we should really care about is a very cocky, overconfident Ashton Kutcher. The problem is he comes off as kid who thinks he's better than anyone else around him and shows no signs of a cluttered closet. His only obstacle appears to be winning over Costner. Finally when we are well past the half way point of this stinker, Costner tells us all about Kutcher's ghosts. We are told why Kutcher is driven to be the best with no prior inkling or foreshadowing. No magic here, it was all I could do to keep from turning it off an hour in.\n",
      "label真實值: 負面的 預測結果: 負面的\n"
     ]
    }
   ],
   "source": [
    "display_test_Sentiment(12500)"
   ]
  },
  {
   "cell_type": "code",
   "execution_count": 43,
   "id": "d99b79fc",
   "metadata": {},
   "outputs": [],
   "source": [
    "input_text='''\n",
    "Oh dear, oh dear, oh dear: where should I start folks. I had low expectations already because I hated each and every single trailer so far, but boy did Disney make a blunder here. I'm sure the film will still make a billion dollars - hey: if Transformers 11 can do it, why not Belle? - but this film kills every subtle beautiful little thing that had made the original special, and it does so already in the very early stages. It's like the dinosaur stampede scene in Jackson's King Kong: only with even worse CGI (and, well, kitchen devices instead of dinos).\n",
    "The worst sin, though, is that everything (and I mean really EVERYTHING) looks fake. What's the point of making a live-action version of a beloved cartoon if you make every prop look like a prop? I know it's a fairy tale for kids, but even Belle's village looks like it had only recently been put there by a subpar production designer trying to copy the images from the cartoon. There is not a hint of authenticity here. Unlike in Jungle Book, where we got great looking CGI, this really is the by-the-numbers version and corporate filmmaking at its worst. Of course it's not really a \"bad\" film; those 200 million blockbusters rarely are (this isn't 'The Room' after all), but it's so infuriatingly generic and dull - and it didn't have to be. In the hands of a great director the potential for this film would have been huge.\n",
    "Oh and one more thing: bad CGI wolves (who actually look even worse than the ones in Twilight) is one thing, and the kids probably won't care. But making one of the two lead characters - Beast - look equally bad is simply unforgivably stupid. No wonder Emma Watson seems to phone it in: she apparently had to act against an guy with a green-screen in the place where his face should have been. \n",
    "'''"
   ]
  },
  {
   "cell_type": "code",
   "execution_count": 44,
   "id": "93f7e9e8",
   "metadata": {},
   "outputs": [],
   "source": [
    "#將影評轉換成數字list\n",
    "input_seq = token.texts_to_sequences([input_text])"
   ]
  },
  {
   "cell_type": "code",
   "execution_count": 45,
   "id": "65ea9b00",
   "metadata": {},
   "outputs": [
    {
     "name": "stdout",
     "output_type": "stream",
     "text": [
      "[445, 3219, 445, 3219, 445, 3219, 117, 140, 9, 376, 1585, 9, 65, 360, 1394, 454, 83, 9, 1795, 253, 2, 171, 682, 1469, 34, 226, 17, 426, 118, 909, 93, 3, 129, 142, 248, 1, 18, 76, 127, 93, 3, 2501, 1400, 44, 1498, 66, 78, 8, 134, 20, 17, 10, 18, 1093, 171, 1303, 303, 113, 151, 11, 65, 89, 1, 200, 314, 2, 8, 123, 34, 454, 7, 1, 51, 398, 41, 36, 1, 132, 7, 704, 1985, 60, 15, 56, 429, 1679, 2, 69, 300, 4, 1, 245, 3078, 147, 6, 11, 282, 2, 9, 378, 62, 282, 268, 1215, 799, 1, 209, 4, 227, 3, 408, 202, 306, 4, 3, 2756, 1068, 44, 21, 93, 171, 164, 36, 3, 9, 120, 41, 3, 2452, 780, 14, 358, 17, 56, 2053, 268, 36, 8, 65, 60, 1028, 73, 272, 46, 30, 3, 361, 265, 5, 1034, 1, 1211, 35, 1, 1068, 46, 6, 20, 3, 3158, 4, 129, 1021, 7, 2685, 270, 117, 71, 184, 84, 263, 1679, 10, 62, 6, 1, 30, 1, 1390, 306, 2, 29, 90, 245, 4, 261, 41, 20, 62, 3, 75, 18, 144, 1427, 1706, 22, 10, 214, 1051, 99, 28, 17, 41, 34, 2, 749, 2, 8, 156, 24, 5, 25, 7, 1, 952, 4, 3, 84, 163, 1, 982, 14, 10, 18, 58, 24, 73, 662, 445, 2, 27, 49, 151, 75, 1679, 33, 161, 164, 56, 429, 70, 1, 661, 7, 6, 27, 151, 2, 1, 358, 238, 524, 453, 17, 227, 27, 4, 1, 103, 481, 101, 2772, 164, 1301, 75, 6, 327, 374, 53, 590, 2637, 182, 5, 1692, 8, 7, 55, 681, 65, 5, 507, 425, 31, 229, 15, 3, 1416, 264, 7, 1, 269, 117, 23, 389, 140, 24, 73]\n"
     ]
    }
   ],
   "source": [
    "#查看數字list\n",
    "print(input_seq[0])"
   ]
  },
  {
   "cell_type": "code",
   "execution_count": 46,
   "id": "3178b082",
   "metadata": {},
   "outputs": [
    {
     "data": {
      "text/plain": [
       "297"
      ]
     },
     "execution_count": 46,
     "metadata": {},
     "output_type": "execute_result"
    }
   ],
   "source": [
    "#查看list長度\n",
    "len(input_seq[0])"
   ]
  },
  {
   "cell_type": "code",
   "execution_count": 47,
   "id": "6b091ae6",
   "metadata": {},
   "outputs": [],
   "source": [
    "#將list截取長度為380\n",
    "pad_input_seq = pad_sequences(input_seq,maxlen=380)"
   ]
  },
  {
   "cell_type": "code",
   "execution_count": 48,
   "id": "99e039bc",
   "metadata": {},
   "outputs": [
    {
     "data": {
      "text/plain": [
       "380"
      ]
     },
     "execution_count": 48,
     "metadata": {},
     "output_type": "execute_result"
    }
   ],
   "source": [
    "len(pad_input_seq[0])"
   ]
  },
  {
   "cell_type": "code",
   "execution_count": 49,
   "id": "38aa9c53",
   "metadata": {},
   "outputs": [
    {
     "name": "stdout",
     "output_type": "stream",
     "text": [
      "1/1 [==============================] - 0s 32ms/step\n"
     ]
    }
   ],
   "source": [
    "predict_result = model.predict(pad_input_seq)\n",
    "classes_x = np.round(predict_result).astype(int)"
   ]
  },
  {
   "cell_type": "code",
   "execution_count": 50,
   "id": "a2da9369",
   "metadata": {},
   "outputs": [
    {
     "data": {
      "text/plain": [
       "array([[0]])"
      ]
     },
     "execution_count": 50,
     "metadata": {},
     "output_type": "execute_result"
    }
   ],
   "source": [
    "classes_x"
   ]
  },
  {
   "cell_type": "code",
   "execution_count": 51,
   "id": "d5209ade",
   "metadata": {},
   "outputs": [
    {
     "data": {
      "text/plain": [
       "0"
      ]
     },
     "execution_count": 51,
     "metadata": {},
     "output_type": "execute_result"
    }
   ],
   "source": [
    "classes_x[0][0]"
   ]
  },
  {
   "cell_type": "code",
   "execution_count": 52,
   "id": "d14643f9",
   "metadata": {},
   "outputs": [
    {
     "data": {
      "text/plain": [
       "'負面的'"
      ]
     },
     "execution_count": 52,
     "metadata": {},
     "output_type": "execute_result"
    }
   ],
   "source": [
    "SentimentDict[classes_x[0][0]]"
   ]
  },
  {
   "cell_type": "code",
   "execution_count": 53,
   "id": "a6f850e9",
   "metadata": {},
   "outputs": [],
   "source": [
    "#把命令全部整理成predict_review()函數\n",
    "def predict_review(input_text):\n",
    "    input_seq = token.texts_to_sequences([input_text])\n",
    "    pad_input_seq = pad_sequences(input_seq,maxlen=100)\n",
    "    predict_result = model.predict(pad_input_seq)\n",
    "    classes_x = np.round(predict_result).astype(int)\n",
    "    print(SentimentDict[classes_x[0][0]])"
   ]
  },
  {
   "cell_type": "code",
   "execution_count": 54,
   "id": "baffc311",
   "metadata": {},
   "outputs": [
    {
     "name": "stdout",
     "output_type": "stream",
     "text": [
      "1/1 [==============================] - 0s 360ms/step\n",
      "負面的\n"
     ]
    }
   ],
   "source": [
    "predict_review('''\n",
    "It's hard to believe that the same talented director who made the influential cult action classic The Road Warrior had anything to do with this disaster.\n",
    "Road Warrior was raw, gritty, violent and uncompromising, and this movie is the exact opposite. It's like Road Warrior for kids who need constant action in their movies.\n",
    "This is the movie. The good guys get into a fight with the bad guys, outrun them, they break down in their vehicle and fix it. Rinse and repeat. The second half of the movie is the first half again just done faster.\n",
    "The Road Warrior may have been a simple premise but it made you feel something, even with it's opening narration before any action was even shown. And the supporting characters were given just enough time for each of them to be likable or relatable.\n",
    "In this movie there is absolutely nothing and no one to care about. We're supposed to care about the characters because... well we should. George Miller just wants us to, and in one of the most cringe worthy moments Charlize Theron's character breaks down while dramatic music plays to try desperately to make us care.\n",
    "Tom Hardy is pathetic as Max. One of the dullest leading men I've seen in a long time. There's not one single moment throughout the entire movie where he comes anywhere near reaching the same level of charisma Mel Gibson did in the role. Gibson made more of an impression just eating a tin of dog food. I'm still confused as to what accent Hardy was even trying to do.\n",
    "I was amazed that Max has now become a cartoon character as well. Gibson's Max was a semi-realistic tough guy who hurt, bled, and nearly died several times. Now he survives car crashes and tornadoes with ease?\n",
    "In the previous movies, fuel and guns and bullets were rare. Not anymore. It doesn't even seem Post-Apocalyptic. There's no sense of desperation anymore and everything is too glossy looking. And the main villain's super model looking wives with their perfect skin are about as convincing as apocalyptic survivors as Hardy's Australian accent is. They're so boring and one-dimensional, George Miller could have combined them all into one character and you wouldn't miss anyone.\n",
    "Some of the green screen is very obvious and fake looking, and the CGI sandstorm is laughably bad. It wouldn't look out of place in a Pixar movie.\n",
    "There's no tension, no real struggle, or any real dirt and grit that Road Warrior had. Everything George Miller got right with that masterpiece he gets completely wrong here. \n",
    "''')"
   ]
  },
  {
   "cell_type": "code",
   "execution_count": 55,
   "id": "c9b70859",
   "metadata": {},
   "outputs": [
    {
     "name": "stdout",
     "output_type": "stream",
     "text": [
      "1/1 [==============================] - 0s 23ms/step\n",
      "負面的\n"
     ]
    }
   ],
   "source": [
    "predict_review('''\n",
    "Sure, I'm a huge film snob who (on the surface) only likes artsy-fartsy foreign films from before the 60's, but that hasn't stopped me from loving Disney's Beauty & The Beast; in fact, it's probably my favorite American animated film and is easily Disney's finest work. It's beautiful, it's breathtaking, it's warm, it's hilarious, it's captivating, and, in Disney fashion, it's magical. When I learned that Disney would be remaking their classic films, B&TB was undeniably the best wrapped package. How could they go wrong?\n",
    "Oh man, they went wrong.\n",
    "First thing's first: this film is so flat. The directing was dull and uninteresting throughout the entire film and it honestly felt like one of the Twilight sequels...and then I looked it up and found out that, yes, director Bill Condon was the man behind Breaking Dawn parts 1 & 2. Every shot looks bored and uninterested, which contrasts heavily with the original animated film that was constantly popping with vibrancy. The script too is boring because it's almost a complete remake of the original, though I guess most people won't mind that.\n",
    "Next: the CGI is horrid. Although I didn't care for The Jungle Book from last year, I could at least admit that the CGI was breathtaking. The same cant be said for this film. Characters like Lumière, Cogsworth, Mrs Potts, and most of the cursed appliances have very strange, lifeless faces that are pretty off putting to be looking at for such a long time. All of the sets too look artificial and fake, especially the town towards the beginning. However, the biggest offender is easily and infuriatingly the character that mattered most: The Beast. The CGI on the Beast's face is so distracting that it completely takes you out of the film. His eyes are completely devoid of soul, and his mouth is a gaping video game black hole of fiction. Klaus Kinski looked much better in the Faerie Tale Theatre episode of Beauty & The Beast, and that was a 1984 TV show episode. But do you know why it looked better? Because it was an actual face with actual eyes, not some video game computerized synthetic monstrosity. When will studios learn that practical effects will always top CGI?\n",
    "Finally: wasted casting. Emma Watson is beautiful, but she's no Belle. She is completely devoid of the warmth and humanity that made the animated Belle so beloved. Instead, she is cold and heartless throughout most of the film. Kevin Kline is 100% wasted and does nothing except look old. Ian McKellan, Ewan McGregor, Emma Thompson, and even Dan Stevens as the Beast are very expendable and could've been played by anyone else. The only good characters are Gaston and LeFou, mostly because they are fun and played by actors who breathe new life into their original shapes. If anything, this film should've been about Gaston and LeFou, but that would never happen because that would mean Disney couldn't cater to blind nostalgic 90's kids.\n",
    "Overall, this film is a complete bore. It could've been better if even the special effects were good, but the CGI in particular is horrendous. I'm all for Disney remaking their nostalgia- catering 90's films, but they need to be interesting. This film, sadly, is not. Even the Christmas sequel is better than this film because it's at least something. \n",
    "''')"
   ]
  },
  {
   "cell_type": "code",
   "execution_count": null,
   "id": "38c2b779",
   "metadata": {},
   "outputs": [],
   "source": []
  }
 ],
 "metadata": {
  "kernelspec": {
   "display_name": "Python 3 (ipykernel)",
   "language": "python",
   "name": "python3"
  },
  "language_info": {
   "codemirror_mode": {
    "name": "ipython",
    "version": 3
   },
   "file_extension": ".py",
   "mimetype": "text/x-python",
   "name": "python",
   "nbconvert_exporter": "python",
   "pygments_lexer": "ipython3",
   "version": "3.9.13"
  }
 },
 "nbformat": 4,
 "nbformat_minor": 5
}
