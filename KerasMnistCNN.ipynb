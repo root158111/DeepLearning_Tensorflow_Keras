{
 "cells": [
  {
   "cell_type": "code",
   "execution_count": 1,
   "id": "e2d53214",
   "metadata": {},
   "outputs": [],
   "source": [
    "from keras.datasets import mnist\n",
    "from keras.utils import np_utils\n",
    "import numpy as np\n",
    "np.random.seed(10)\n"
   ]
  },
  {
   "cell_type": "code",
   "execution_count": 2,
   "id": "cc0cc214",
   "metadata": {},
   "outputs": [],
   "source": [
    "(x_Train,y_Train),(x_Test,y_Test) =  mnist.load_data()"
   ]
  },
  {
   "cell_type": "code",
   "execution_count": 3,
   "id": "f84250bc",
   "metadata": {},
   "outputs": [],
   "source": [
    "#CNN因為必須先進行卷積與池化運算，所以必須保持影像的維度，所以reshape 轉換為60000筆，每一筆有28×28×1的影像，\n",
    "#分别是28（寬）×28（高）×1（單色）\n",
    "\n",
    "#將features(影像特徵)以reshape轉換為6000*28*28*1的4維矩陣\n",
    "x_Train4D = x_Train.reshape(x_Train.shape[0],28,28,1).astype('float32')\n",
    "x_Test4D = x_Test.reshape(x_Test.shape[0],28,28,1).astype('float32')"
   ]
  },
  {
   "cell_type": "code",
   "execution_count": 4,
   "id": "aa1f1907",
   "metadata": {},
   "outputs": [],
   "source": [
    "#將features標準化,可以提高模型預測準確度,並更快收斂。\n",
    "x_Train4D_normalize = x_Train4D/255\n",
    "x_Test4D_normalize = x_Test4D/255"
   ]
  },
  {
   "cell_type": "code",
   "execution_count": 5,
   "id": "8d768a4e",
   "metadata": {},
   "outputs": [],
   "source": [
    "#使用np_utils.to_categorical，將訓練資料與測試資料的label，進行Onehot encoding轉換\n",
    "y_TrainOneHot = np_utils.to_categorical(y_Train)\n",
    "y_TestOneHot = np_utils.to_categorical(y_Test)"
   ]
  },
  {
   "cell_type": "markdown",
   "id": "174eeb87",
   "metadata": {},
   "source": [
    "建立模型"
   ]
  },
  {
   "cell_type": "code",
   "execution_count": 6,
   "id": "37c63c1b",
   "metadata": {},
   "outputs": [],
   "source": [
    "from keras.models import Sequential\n",
    "from keras.layers import Dense,Dropout,Flatten,Conv2D,MaxPooling2D"
   ]
  },
  {
   "cell_type": "code",
   "execution_count": 7,
   "id": "5557bdc1",
   "metadata": {},
   "outputs": [],
   "source": [
    "model = Sequential()"
   ]
  },
  {
   "cell_type": "code",
   "execution_count": 8,
   "id": "921a18a5",
   "metadata": {
    "scrolled": true
   },
   "outputs": [],
   "source": [
    "#建立卷積層1。輸入數字大小事28*28大小，執行第1次卷積運算會產生16個影像，大小不會改變。\n",
    "model.add(Conv2D(filters=6,            #建立16個濾鏡filter weight\n",
    "                 kernel_size=(5,5),    #每個綠徑5*5大小\n",
    "                 padding='same',       #設定讓卷積運算，產生的卷積大小不變\n",
    "                 activation='relu',    #設定ReLU激活函數\n",
    "                 input_shape=(28,28,1) #第1、2維度:表輸入的影像形狀28*28大小，第3維度:因為是單色灰階所以維度是1\n",
    "                ))  "
   ]
  },
  {
   "cell_type": "code",
   "execution_count": 9,
   "id": "d02e520f",
   "metadata": {},
   "outputs": [],
   "source": [
    "#建立池化層1 執行第1次縮減取樣 將16個28*28縮小為16個14*14的影像\n",
    "model.add(MaxPooling2D(pool_size=(2,2)))"
   ]
  },
  {
   "cell_type": "code",
   "execution_count": 10,
   "id": "7ca538ad",
   "metadata": {},
   "outputs": [],
   "source": [
    "#建立卷積層2\n",
    "model.add(Conv2D(filters=36,            #建立16個濾鏡filter weight\n",
    "                 kernel_size=(5,5),    #每個綠徑5*5大小\n",
    "                 padding='same',       #設定讓卷積運算，產生的卷積大小不變\n",
    "                 activation='relu',    #設定ReLU激活函數\n",
    "                ))  "
   ]
  },
  {
   "cell_type": "code",
   "execution_count": 11,
   "id": "cbbebff4",
   "metadata": {},
   "outputs": [],
   "source": [
    "#建立池化層2並加入Dropout避免overfitting\n",
    "model.add(MaxPooling2D(pool_size=(2,2)))"
   ]
  },
  {
   "cell_type": "code",
   "execution_count": 12,
   "id": "0aa43b21",
   "metadata": {},
   "outputs": [],
   "source": [
    "model.add(Dropout(0.25)) #每次訓練迭代時，會隨機在神經網路中放棄25%的神經元，以避免overfitting。"
   ]
  },
  {
   "cell_type": "markdown",
   "id": "c36a11c5",
   "metadata": {},
   "source": [
    "將之前的步驟已經建立好池化層2，共有36個7*7*影像，轉換為1維的向量，長度是36*7*7=1764個float數字，正好對到1764神經元。"
   ]
  },
  {
   "cell_type": "code",
   "execution_count": 13,
   "id": "b70ca422",
   "metadata": {},
   "outputs": [],
   "source": [
    "#建立平坦層\n",
    "model.add(Flatten())"
   ]
  },
  {
   "cell_type": "code",
   "execution_count": 14,
   "id": "c87945db",
   "metadata": {},
   "outputs": [],
   "source": [
    "#建立隱藏層\n",
    "model.add(Dense(128,activation='relu'))"
   ]
  },
  {
   "cell_type": "code",
   "execution_count": 15,
   "id": "b2a6d757",
   "metadata": {},
   "outputs": [],
   "source": [
    "model.add(Dropout(0.5))"
   ]
  },
  {
   "cell_type": "code",
   "execution_count": 16,
   "id": "3dbbab5a",
   "metadata": {},
   "outputs": [],
   "source": [
    "#建立輸出層，使用softmax激活函數進行轉換。softmax可以將神經元的輸出，轉換為預測每一個數字的機率。\n",
    "model.add(Dense(10,activation='softmax'))"
   ]
  },
  {
   "cell_type": "code",
   "execution_count": 17,
   "id": "02df703b",
   "metadata": {},
   "outputs": [
    {
     "name": "stdout",
     "output_type": "stream",
     "text": [
      "Model: \"sequential\"\n",
      "_________________________________________________________________\n",
      " Layer (type)                Output Shape              Param #   \n",
      "=================================================================\n",
      " conv2d (Conv2D)             (None, 28, 28, 6)         156       \n",
      "                                                                 \n",
      " max_pooling2d (MaxPooling2D  (None, 14, 14, 6)        0         \n",
      " )                                                               \n",
      "                                                                 \n",
      " conv2d_1 (Conv2D)           (None, 14, 14, 36)        5436      \n",
      "                                                                 \n",
      " max_pooling2d_1 (MaxPooling  (None, 7, 7, 36)         0         \n",
      " 2D)                                                             \n",
      "                                                                 \n",
      " dropout (Dropout)           (None, 7, 7, 36)          0         \n",
      "                                                                 \n",
      " flatten (Flatten)           (None, 1764)              0         \n",
      "                                                                 \n",
      " dense (Dense)               (None, 128)               225920    \n",
      "                                                                 \n",
      " dropout_1 (Dropout)         (None, 128)               0         \n",
      "                                                                 \n",
      " dense_1 (Dense)             (None, 10)                1290      \n",
      "                                                                 \n",
      "=================================================================\n",
      "Total params: 232,802\n",
      "Trainable params: 232,802\n",
      "Non-trainable params: 0\n",
      "_________________________________________________________________\n",
      "None\n"
     ]
    }
   ],
   "source": [
    "#查看模型摘要\n",
    "print(model.summary())"
   ]
  },
  {
   "cell_type": "code",
   "execution_count": 22,
   "id": "5a9751b3",
   "metadata": {},
   "outputs": [],
   "source": [
    "#定義訓練方式\n",
    "model.compile(loss='categorical_crossentropy', #設定損失函數\n",
    "              optimizer='adam',                #設定訓練最優化方法\n",
    "              metrics=['accuracy'])            #評估模型的方式是accuracy準確率"
   ]
  },
  {
   "cell_type": "code",
   "execution_count": 23,
   "id": "ad973b89",
   "metadata": {},
   "outputs": [
    {
     "name": "stdout",
     "output_type": "stream",
     "text": [
      "Epoch 1/10\n",
      "160/160 - 12s - loss: 0.5667 - accuracy: 0.8206 - val_loss: 0.1208 - val_accuracy: 0.9629 - 12s/epoch - 72ms/step\n",
      "Epoch 2/10\n",
      "160/160 - 10s - loss: 0.1618 - accuracy: 0.9516 - val_loss: 0.0760 - val_accuracy: 0.9770 - 10s/epoch - 65ms/step\n",
      "Epoch 3/10\n",
      "160/160 - 10s - loss: 0.1122 - accuracy: 0.9665 - val_loss: 0.0649 - val_accuracy: 0.9803 - 10s/epoch - 65ms/step\n",
      "Epoch 4/10\n",
      "160/160 - 10s - loss: 0.0925 - accuracy: 0.9720 - val_loss: 0.0508 - val_accuracy: 0.9840 - 10s/epoch - 64ms/step\n",
      "Epoch 5/10\n",
      "160/160 - 10s - loss: 0.0781 - accuracy: 0.9764 - val_loss: 0.0458 - val_accuracy: 0.9869 - 10s/epoch - 64ms/step\n",
      "Epoch 6/10\n",
      "160/160 - 10s - loss: 0.0683 - accuracy: 0.9799 - val_loss: 0.0435 - val_accuracy: 0.9875 - 10s/epoch - 65ms/step\n",
      "Epoch 7/10\n",
      "160/160 - 10s - loss: 0.0602 - accuracy: 0.9818 - val_loss: 0.0423 - val_accuracy: 0.9887 - 10s/epoch - 65ms/step\n",
      "Epoch 8/10\n",
      "160/160 - 10s - loss: 0.0567 - accuracy: 0.9831 - val_loss: 0.0407 - val_accuracy: 0.9891 - 10s/epoch - 65ms/step\n",
      "Epoch 9/10\n",
      "160/160 - 10s - loss: 0.0504 - accuracy: 0.9845 - val_loss: 0.0381 - val_accuracy: 0.9896 - 10s/epoch - 64ms/step\n",
      "Epoch 10/10\n",
      "160/160 - 10s - loss: 0.0463 - accuracy: 0.9861 - val_loss: 0.0390 - val_accuracy: 0.9883 - 10s/epoch - 65ms/step\n"
     ]
    }
   ],
   "source": [
    "#開始訓練\n",
    "train_history = model.fit(\n",
    "    x=x_Train4D_normalize,\n",
    "    y=y_TrainOneHot,\n",
    "    validation_split=0.2,\n",
    "    epochs=10,\n",
    "    batch_size=300,\n",
    "    verbose=2)"
   ]
  },
  {
   "cell_type": "code",
   "execution_count": 25,
   "id": "84563f9d",
   "metadata": {},
   "outputs": [],
   "source": [
    "import matplotlib.pyplot as plt\n",
    "def show_train_history(train_acc,test_acc):\n",
    "    plt.plot(train_history.history[train_acc])\n",
    "    plt.plot(train_history.history[test_acc])\n",
    "    plt.title('Train History')\n",
    "    plt.ylabel('Accuracy')\n",
    "    plt.xlabel('Epoch')\n",
    "    plt.legend(['train', 'test'], loc='upper left')\n",
    "    plt.show()"
   ]
  },
  {
   "cell_type": "code",
   "execution_count": 26,
   "id": "15ef8a20",
   "metadata": {},
   "outputs": [
    {
     "data": {
      "image/png": "[encoded data removed]",
      "text/plain": [
       "<Figure size 640x480 with 1 Axes>"
      ]
     },
     "metadata": {},
     "output_type": "display_data"
    }
   ],
   "source": [
    "#畫出accuracy執行結果\n",
    "show_train_history('accuracy','val_accuracy')"
   ]
  },
  {
   "cell_type": "code",
   "execution_count": 27,
   "id": "15cbe21c",
   "metadata": {},
   "outputs": [
    {
     "data": {
      "image/png": "[encoded data removed]",
      "text/plain": [
       "<Figure size 640x480 with 1 Axes>"
      ]
     },
     "metadata": {},
     "output_type": "display_data"
    }
   ],
   "source": [
    "show_train_history('loss','val_loss')"
   ]
  },
  {
   "cell_type": "markdown",
   "id": "983ca921",
   "metadata": {},
   "source": [
    "透過以上圖片得知，不論訓練或驗證，準確率越來越高。而且驗證的誤差越來越低。"
   ]
  },
  {
   "cell_type": "code",
   "execution_count": 28,
   "id": "9f5c5c31",
   "metadata": {},
   "outputs": [
    {
     "name": "stdout",
     "output_type": "stream",
     "text": [
      "313/313 [==============================] - 1s 4ms/step - loss: 0.0283 - accuracy: 0.9910\n"
     ]
    },
    {
     "data": {
      "text/plain": [
       "0.9909999966621399"
      ]
     },
     "execution_count": 28,
     "metadata": {},
     "output_type": "execute_result"
    }
   ],
   "source": [
    "#評估模型準確率\n",
    "scores = model.evaluate(x_Test4D_normalize , y_TestOneHot)\n",
    "scores[1]"
   ]
  },
  {
   "cell_type": "code",
   "execution_count": 30,
   "id": "db4c08a4",
   "metadata": {},
   "outputs": [
    {
     "name": "stdout",
     "output_type": "stream",
     "text": [
      "313/313 [==============================] - 1s 4ms/step\n"
     ]
    }
   ],
   "source": [
    "#進行預測\n",
    "prediction=model.predict(x_Test4D_normalize)\n",
    "classes_x=np.argmax(prediction,axis=1)"
   ]
  },
  {
   "cell_type": "code",
   "execution_count": 31,
   "id": "eae2b019",
   "metadata": {},
   "outputs": [
    {
     "data": {
      "text/plain": [
       "array([7, 2, 1, ..., 4, 5, 6], dtype=int64)"
      ]
     },
     "execution_count": 31,
     "metadata": {},
     "output_type": "execute_result"
    }
   ],
   "source": [
    "classes_x"
   ]
  },
  {
   "cell_type": "code",
   "execution_count": 32,
   "id": "5ca0e7c8",
   "metadata": {},
   "outputs": [],
   "source": [
    "import matplotlib.pyplot as plt\n",
    "def plot_images_labels_prediction(images,labels,prediction,idx,num=10):\n",
    "    fig = plt.gcf()\n",
    "    fig.set_size_inches(12, 14)\n",
    "    if num>25: num=25 \n",
    "    for i in range(0, num):\n",
    "        ax=plt.subplot(5,5, 1+i)\n",
    "        ax.imshow(images[idx], cmap='binary')\n",
    "\n",
    "        ax.set_title(\"label=\" +str(labels[idx])+\n",
    "                     \",predict=\"+str(prediction[idx])\n",
    "                     ,fontsize=10) \n",
    "        \n",
    "        ax.set_xticks([]);ax.set_yticks([])        \n",
    "        idx+=1 \n",
    "    plt.show()"
   ]
  },
  {
   "cell_type": "code",
   "execution_count": 33,
   "id": "f15fc33a",
   "metadata": {},
   "outputs": [
    {
     "data": {
      "image/png": "[encoded data removed]",
      "text/plain": [
       "<Figure size 1200x1400 with 10 Axes>"
      ]
     },
     "metadata": {},
     "output_type": "display_data"
    }
   ],
   "source": [
    "#顯示前10筆資料\n",
    "plot_images_labels_prediction(x_Test,y_Test,classes_x,idx=0)"
   ]
  },
  {
   "cell_type": "code",
   "execution_count": 34,
   "id": "6f592555",
   "metadata": {},
   "outputs": [
    {
     "data": {
      "text/html": [
       "<div>\n",
       "<style scoped>\n",
       "    .dataframe tbody tr th:only-of-type {\n",
       "        vertical-align: middle;\n",
       "    }\n",
       "\n",
       "    .dataframe tbody tr th {\n",
       "        vertical-align: top;\n",
       "    }\n",
       "\n",
       "    .dataframe thead th {\n",
       "        text-align: right;\n",
       "    }\n",
       "</style>\n",
       "<table border=\"1\" class=\"dataframe\">\n",
       "  <thead>\n",
       "    <tr style=\"text-align: right;\">\n",
       "      <th>predict</th>\n",
       "      <th>0</th>\n",
       "      <th>1</th>\n",
       "      <th>2</th>\n",
       "      <th>3</th>\n",
       "      <th>4</th>\n",
       "      <th>5</th>\n",
       "      <th>6</th>\n",
       "      <th>7</th>\n",
       "      <th>8</th>\n",
       "      <th>9</th>\n",
       "    </tr>\n",
       "    <tr>\n",
       "      <th>label</th>\n",
       "      <th></th>\n",
       "      <th></th>\n",
       "      <th></th>\n",
       "      <th></th>\n",
       "      <th></th>\n",
       "      <th></th>\n",
       "      <th></th>\n",
       "      <th></th>\n",
       "      <th></th>\n",
       "      <th></th>\n",
       "    </tr>\n",
       "  </thead>\n",
       "  <tbody>\n",
       "    <tr>\n",
       "      <th>0</th>\n",
       "      <td>975</td>\n",
       "      <td>1</td>\n",
       "      <td>0</td>\n",
       "      <td>0</td>\n",
       "      <td>0</td>\n",
       "      <td>0</td>\n",
       "      <td>2</td>\n",
       "      <td>1</td>\n",
       "      <td>1</td>\n",
       "      <td>0</td>\n",
       "    </tr>\n",
       "    <tr>\n",
       "      <th>1</th>\n",
       "      <td>0</td>\n",
       "      <td>1133</td>\n",
       "      <td>1</td>\n",
       "      <td>0</td>\n",
       "      <td>0</td>\n",
       "      <td>0</td>\n",
       "      <td>1</td>\n",
       "      <td>0</td>\n",
       "      <td>0</td>\n",
       "      <td>0</td>\n",
       "    </tr>\n",
       "    <tr>\n",
       "      <th>2</th>\n",
       "      <td>0</td>\n",
       "      <td>2</td>\n",
       "      <td>1024</td>\n",
       "      <td>0</td>\n",
       "      <td>0</td>\n",
       "      <td>0</td>\n",
       "      <td>0</td>\n",
       "      <td>5</td>\n",
       "      <td>1</td>\n",
       "      <td>0</td>\n",
       "    </tr>\n",
       "    <tr>\n",
       "      <th>3</th>\n",
       "      <td>0</td>\n",
       "      <td>0</td>\n",
       "      <td>1</td>\n",
       "      <td>1001</td>\n",
       "      <td>0</td>\n",
       "      <td>3</td>\n",
       "      <td>0</td>\n",
       "      <td>3</td>\n",
       "      <td>2</td>\n",
       "      <td>0</td>\n",
       "    </tr>\n",
       "    <tr>\n",
       "      <th>4</th>\n",
       "      <td>0</td>\n",
       "      <td>1</td>\n",
       "      <td>0</td>\n",
       "      <td>0</td>\n",
       "      <td>979</td>\n",
       "      <td>0</td>\n",
       "      <td>0</td>\n",
       "      <td>0</td>\n",
       "      <td>0</td>\n",
       "      <td>2</td>\n",
       "    </tr>\n",
       "    <tr>\n",
       "      <th>5</th>\n",
       "      <td>2</td>\n",
       "      <td>1</td>\n",
       "      <td>0</td>\n",
       "      <td>3</td>\n",
       "      <td>0</td>\n",
       "      <td>884</td>\n",
       "      <td>1</td>\n",
       "      <td>0</td>\n",
       "      <td>0</td>\n",
       "      <td>1</td>\n",
       "    </tr>\n",
       "    <tr>\n",
       "      <th>6</th>\n",
       "      <td>4</td>\n",
       "      <td>1</td>\n",
       "      <td>0</td>\n",
       "      <td>0</td>\n",
       "      <td>2</td>\n",
       "      <td>2</td>\n",
       "      <td>948</td>\n",
       "      <td>0</td>\n",
       "      <td>1</td>\n",
       "      <td>0</td>\n",
       "    </tr>\n",
       "    <tr>\n",
       "      <th>7</th>\n",
       "      <td>0</td>\n",
       "      <td>2</td>\n",
       "      <td>2</td>\n",
       "      <td>1</td>\n",
       "      <td>0</td>\n",
       "      <td>0</td>\n",
       "      <td>0</td>\n",
       "      <td>1022</td>\n",
       "      <td>1</td>\n",
       "      <td>0</td>\n",
       "    </tr>\n",
       "    <tr>\n",
       "      <th>8</th>\n",
       "      <td>2</td>\n",
       "      <td>1</td>\n",
       "      <td>3</td>\n",
       "      <td>2</td>\n",
       "      <td>1</td>\n",
       "      <td>1</td>\n",
       "      <td>0</td>\n",
       "      <td>3</td>\n",
       "      <td>957</td>\n",
       "      <td>4</td>\n",
       "    </tr>\n",
       "    <tr>\n",
       "      <th>9</th>\n",
       "      <td>2</td>\n",
       "      <td>4</td>\n",
       "      <td>0</td>\n",
       "      <td>0</td>\n",
       "      <td>8</td>\n",
       "      <td>1</td>\n",
       "      <td>0</td>\n",
       "      <td>5</td>\n",
       "      <td>2</td>\n",
       "      <td>987</td>\n",
       "    </tr>\n",
       "  </tbody>\n",
       "</table>\n",
       "</div>"
      ],
      "text/plain": [
       "predict    0     1     2     3    4    5    6     7    8    9\n",
       "label                                                        \n",
       "0        975     1     0     0    0    0    2     1    1    0\n",
       "1          0  1133     1     0    0    0    1     0    0    0\n",
       "2          0     2  1024     0    0    0    0     5    1    0\n",
       "3          0     0     1  1001    0    3    0     3    2    0\n",
       "4          0     1     0     0  979    0    0     0    0    2\n",
       "5          2     1     0     3    0  884    1     0    0    1\n",
       "6          4     1     0     0    2    2  948     0    1    0\n",
       "7          0     2     2     1    0    0    0  1022    1    0\n",
       "8          2     1     3     2    1    1    0     3  957    4\n",
       "9          2     4     0     0    8    1    0     5    2  987"
      ]
     },
     "execution_count": 34,
     "metadata": {},
     "output_type": "execute_result"
    }
   ],
   "source": [
    "#建立混淆矩陣\n",
    "import pandas as pd\n",
    "pd.crosstab(y_Test,              #輸入真實值\n",
    "            classes_x,           #預測結果\n",
    "            rownames=['label'],\n",
    "            colnames=['predict'])"
   ]
  },
  {
   "cell_type": "code",
   "execution_count": null,
   "id": "b6ac27b3",
   "metadata": {},
   "outputs": [],
   "source": []
  }
 ],
 "metadata": {
  "kernelspec": {
   "display_name": "Python 3 (ipykernel)",
   "language": "python",
   "name": "python3"
  },
  "language_info": {
   "codemirror_mode": {
    "name": "ipython",
    "version": 3
   },
   "file_extension": ".py",
   "mimetype": "text/x-python",
   "name": "python",
   "nbconvert_exporter": "python",
   "pygments_lexer": "ipython3",
   "version": "3.9.13"
  }
 },
 "nbformat": 4,
 "nbformat_minor": 5
}
