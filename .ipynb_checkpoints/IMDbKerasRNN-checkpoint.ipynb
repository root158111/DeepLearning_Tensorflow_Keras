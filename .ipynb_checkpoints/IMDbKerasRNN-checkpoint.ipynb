{
 "cells": [
  {
   "cell_type": "code",
   "execution_count": 20,
   "id": "bd1698e2",
   "metadata": {},
   "outputs": [],
   "source": [
    "from keras.datasets import imdb\n",
    "from keras.preprocessing import sequence\n",
    "from keras.preprocessing.text import Tokenizer\n",
    "from keras.utils import pad_sequences\n",
    "import numpy as np\n",
    "np.random.seed(10)"
   ]
  },
  {
   "cell_type": "code",
   "execution_count": 2,
   "id": "fa4ae915",
   "metadata": {},
   "outputs": [],
   "source": [
    "#使用正規表示式Regular Expression\n",
    "#建立rm_tag函數移除文字中html tag\n",
    "import re                          #匯入Regular Expression模組\n",
    "def rm_tags(text):                 #建立rm_tags函數，輸入參數text文字\n",
    "    re_tag = re.compile(r'<[^>]+>')#建立rm_tag正規表示式變數為'<[^>]+>'\n",
    "    return re_tag.sub('',text)     #使用re_tag將text文字中，符合正規表示式條件的字替換成空字串"
   ]
  },
  {
   "cell_type": "code",
   "execution_count": 3,
   "id": "0ad6a165",
   "metadata": {},
   "outputs": [],
   "source": [
    "#建立read_files函數讀取IMDb檔案目錄\n",
    "import os\n",
    "def read_files(filetype):             #建立read_files函數，輸入參數filetype 讀取[訓練/測試]資料會傳入\"[train/test]\" \n",
    "    path = \"C:/Users/USER/aclImdb/\"   #設定存取路徑\n",
    "    file_list=[]                      #建立檔案list\n",
    "    \n",
    "    positive_path = path + filetype + \"/pos/\"  #設定正面評價的檔案目錄為positive_path\n",
    "    for f in os.listdir(positive_path):         #使用for將positive_path目錄下所有的檔案加入file_list\n",
    "        file_list +=[positive_path + f]\n",
    "    \n",
    "    negative_path = path + filetype + \"/neg/\"  #設定正面評價的檔案目錄為negative_path\n",
    "    for f in os.listdir(negative_path):         #使用for將negative_path目錄下所有的檔案加入file_list\n",
    "        file_list +=[negative_path + f]\n",
    "    \n",
    "    print('read',filetype,'files:',len(file_list)) #顯示目前讀取的filetype(\"train或test\")，目錄下的檔案個數\n",
    "    \n",
    "    all_labels = ([1]*12500+[0]*12500)             #產生all_label因為前12500筆是正面，所以產生12500筆1的list，0則為負面\n",
    "    \n",
    "    all_texts = []            #設定all_text為空list\n",
    "    for fi in file_list:   #fi讀取所有file_list檔案\n",
    "        with open(fi,encoding='utf-8') as file_input: #使用open(fi,encoding='utf-8')開啟檔案為file_input\n",
    "#使用使用 file_input.readlines()讀取檔案，並使用join連接所有檔案內容，然後使用rm_tags移除tag，最後加入 all_texts list\n",
    "            all_texts += [rm_tags(\" \".join(file_input.readlines()))]\n",
    "  \n",
    "    return all_labels,all_texts"
   ]
  },
  {
   "cell_type": "code",
   "execution_count": 4,
   "id": "56da6491",
   "metadata": {},
   "outputs": [
    {
     "name": "stdout",
     "output_type": "stream",
     "text": [
      "read train files: 25000\n"
     ]
    }
   ],
   "source": [
    "#讀取IMDb資料及目錄\n",
    "y_train,train_text = read_files(\"train\")"
   ]
  },
  {
   "cell_type": "code",
   "execution_count": 5,
   "id": "270e4c0f",
   "metadata": {},
   "outputs": [
    {
     "name": "stdout",
     "output_type": "stream",
     "text": [
      "read test files: 25000\n"
     ]
    }
   ],
   "source": [
    "#讀取測試資料\n",
    "y_test,test_text = read_files(\"test\")"
   ]
  },
  {
   "cell_type": "code",
   "execution_count": 8,
   "id": "e8e0392e",
   "metadata": {},
   "outputs": [],
   "source": [
    "#建立Token\n",
    "#建立Token\n",
    "token = Tokenizer(num_words=3800) #使用Tokenizer建立token，輸入參數num_words=3800，也就是建立2000個字的字典\n",
    "token.fit_on_texts(train_text)    #讀取所有的訓練資料影評，依照每個英文字，在影評中出現的次數進行排序，排序的前2000個會列入字典中"
   ]
  },
  {
   "cell_type": "code",
   "execution_count": 9,
   "id": "27d0106c",
   "metadata": {},
   "outputs": [],
   "source": [
    "#使用token.texts_to_sequences將訓練資料與測試資料的影評文字轉換籌數字list。\n",
    "x_train_seq = token.texts_to_sequences(train_text)\n",
    "x_test_seq = token.texts_to_sequences(test_text)"
   ]
  },
  {
   "cell_type": "code",
   "execution_count": 10,
   "id": "4b360917",
   "metadata": {},
   "outputs": [],
   "source": [
    "#使用sequence.pad_sequences()方法截長補短\n",
    "x_train = pad_sequences(x_train_seq,maxlen=380)\n",
    "x_test = pad_sequences(x_test_seq,maxlen=380)"
   ]
  },
  {
   "cell_type": "markdown",
   "id": "bd742262",
   "metadata": {},
   "source": [
    "以上資料預處理完成後產生訓練資料與測試資料\n",
    "●訓練資料:將送進各種深度學習模型進行訓練\n",
    "    訓練資料:\n",
    "            x_train(feature) : 0-12499筆:正面評價「數字list」、 12500-24999筆：負面評價「數字list」\n",
    "            y_train(label)   : 0-12499筆：正面評價，全部是1 、 12500-24999筆：負面評價，全部是0     \n",
    "●測試資料:將用於評估深度學習模型準確率，以及進行預測\n",
    "    測試資料:\n",
    "            x_test(feature) :  0-12499筆:正面評價「數字list」、 12500-24999筆：負面評價「數字list」\n",
    "            y_test(label)   :  0-12499筆：正面評價，全部是1 、 12500-24999筆：負面評價，全部是0"
   ]
  },
  {
   "cell_type": "code",
   "execution_count": 11,
   "id": "438d5b6a",
   "metadata": {},
   "outputs": [],
   "source": [
    "from keras.models import Sequential\n",
    "from keras.layers.core import Dense,Dropout,Activation\n",
    "from keras.layers import Embedding\n",
    "from keras.layers import SimpleRNN"
   ]
  },
  {
   "cell_type": "code",
   "execution_count": 12,
   "id": "cb30ab33",
   "metadata": {},
   "outputs": [],
   "source": [
    "#建立模型\n",
    "model = Sequential()"
   ]
  },
  {
   "cell_type": "code",
   "execution_count": 13,
   "id": "02c92634",
   "metadata": {},
   "outputs": [],
   "source": [
    "#將Embedding加入模型\n",
    "model.add(Embedding(output_dim = 32,    #輸出的維度32 希望把「數字list」換為32維度的向量\n",
    "                    input_dim = 3800,   #輸入的維度是3800，因為之前建立的字典是3800字\n",
    "                    input_length = 380  #「數字list」每一筆有380個數字 所以長度為380\n",
    "                   ))\n",
    "model.add(Dropout(0.35)) #每次訓練迭代時，隨機在神經往綠中放棄35%的神經元"
   ]
  },
  {
   "cell_type": "code",
   "execution_count": 14,
   "id": "c2a629c0",
   "metadata": {},
   "outputs": [],
   "source": [
    "#加入RNN層\n",
    "model.add(SimpleRNN(units=16))"
   ]
  },
  {
   "cell_type": "code",
   "execution_count": 15,
   "id": "5fa38f55",
   "metadata": {},
   "outputs": [],
   "source": [
    "#加入隱藏層\n",
    "model.add(Dense(\n",
    "    units=256,        #隱藏層共有256個神經元\n",
    "    activation='relu'\n",
    "))\n",
    "\n",
    "model.add(Dropout(0.35))"
   ]
  },
  {
   "cell_type": "code",
   "execution_count": 16,
   "id": "7055dc6b",
   "metadata": {},
   "outputs": [],
   "source": [
    "#加入輸出層\n",
    "model.add(Dense(\n",
    "    units = 1,    #輸出層只有一個神經元，1代表正面評價，0代表負面評價\n",
    "    activation = 'sigmoid'\n",
    "))"
   ]
  },
  {
   "cell_type": "code",
   "execution_count": 17,
   "id": "0aaf38ec",
   "metadata": {},
   "outputs": [
    {
     "name": "stdout",
     "output_type": "stream",
     "text": [
      "Model: \"sequential\"\n",
      "_________________________________________________________________\n",
      " Layer (type)                Output Shape              Param #   \n",
      "=================================================================\n",
      " embedding (Embedding)       (None, 380, 32)           121600    \n",
      "                                                                 \n",
      " dropout (Dropout)           (None, 380, 32)           0         \n",
      "                                                                 \n",
      " simple_rnn (SimpleRNN)      (None, 16)                784       \n",
      "                                                                 \n",
      " dense (Dense)               (None, 256)               4352      \n",
      "                                                                 \n",
      " dropout_1 (Dropout)         (None, 256)               0         \n",
      "                                                                 \n",
      " dense_1 (Dense)             (None, 1)                 257       \n",
      "                                                                 \n",
      "=================================================================\n",
      "Total params: 126,993\n",
      "Trainable params: 126,993\n",
      "Non-trainable params: 0\n",
      "_________________________________________________________________\n"
     ]
    }
   ],
   "source": [
    "model.summary()"
   ]
  },
  {
   "cell_type": "code",
   "execution_count": 18,
   "id": "22ad1dcf",
   "metadata": {},
   "outputs": [],
   "source": [
    "#定義訓練方式\n",
    "model.compile(\n",
    "    loss='binary_crossentropy', #在深度學習使用cross_entropy，訓練效果比較好\n",
    "    optimizer = 'adam',\n",
    "    metrics=['accuracy']\n",
    ")"
   ]
  },
  {
   "cell_type": "code",
   "execution_count": 21,
   "id": "ab561d17",
   "metadata": {},
   "outputs": [],
   "source": [
    "y_train = np.array(y_train)\n",
    "y_test=np.array(y_test)"
   ]
  },
  {
   "cell_type": "code",
   "execution_count": 22,
   "id": "a079de40",
   "metadata": {},
   "outputs": [
    {
     "name": "stdout",
     "output_type": "stream",
     "text": [
      "Epoch 1/10\n",
      "200/200 - 13s - loss: 0.5680 - accuracy: 0.7014 - val_loss: 0.6598 - val_accuracy: 0.7018 - 13s/epoch - 63ms/step\n",
      "Epoch 2/10\n",
      "200/200 - 11s - loss: 0.3422 - accuracy: 0.8593 - val_loss: 0.4372 - val_accuracy: 0.8246 - 11s/epoch - 55ms/step\n",
      "Epoch 3/10\n",
      "200/200 - 11s - loss: 0.2884 - accuracy: 0.8845 - val_loss: 0.6119 - val_accuracy: 0.7366 - 11s/epoch - 55ms/step\n",
      "Epoch 4/10\n",
      "200/200 - 11s - loss: 0.2395 - accuracy: 0.9074 - val_loss: 0.5194 - val_accuracy: 0.8020 - 11s/epoch - 56ms/step\n",
      "Epoch 5/10\n",
      "200/200 - 11s - loss: 0.2017 - accuracy: 0.9240 - val_loss: 0.4932 - val_accuracy: 0.8262 - 11s/epoch - 56ms/step\n",
      "Epoch 6/10\n",
      "200/200 - 11s - loss: 0.1786 - accuracy: 0.9324 - val_loss: 0.5653 - val_accuracy: 0.7814 - 11s/epoch - 55ms/step\n",
      "Epoch 7/10\n",
      "200/200 - 11s - loss: 0.2093 - accuracy: 0.9149 - val_loss: 0.4334 - val_accuracy: 0.8534 - 11s/epoch - 54ms/step\n",
      "Epoch 8/10\n",
      "200/200 - 11s - loss: 0.1363 - accuracy: 0.9481 - val_loss: 0.4631 - val_accuracy: 0.8680 - 11s/epoch - 54ms/step\n",
      "Epoch 9/10\n",
      "200/200 - 11s - loss: 0.1182 - accuracy: 0.9574 - val_loss: 0.7771 - val_accuracy: 0.7472 - 11s/epoch - 54ms/step\n",
      "Epoch 10/10\n",
      "200/200 - 11s - loss: 0.0957 - accuracy: 0.9663 - val_loss: 0.7928 - val_accuracy: 0.7944 - 11s/epoch - 55ms/step\n"
     ]
    }
   ],
   "source": [
    "#開始訓練\n",
    "\n",
    "train_history = model.fit(x_train,              #feature(「數字list」)\n",
    "                          y_train,              #測試資料的標籤label(正向:1、負向:0)\n",
    "                          batch_size = 100,\n",
    "                          epochs = 10,\n",
    "                          verbose = 2,\n",
    "                          validation_split = 0.2\n",
    "                         )"
   ]
  },
  {
   "cell_type": "code",
   "execution_count": 23,
   "id": "6cdb5e6c",
   "metadata": {},
   "outputs": [],
   "source": [
    "#讀取train_history\n",
    "import matplotlib.pyplot as plt\n",
    "def show_train_history(train_history,train,validation): #匯入之前訓練產生的train_history/訓練資料的執行結果/驗證資料的執行結果\n",
    "    plt.plot(train_history.history[train])              #訓練資料的執行結果畫線\n",
    "    plt.plot(train_history.history[validation])         #驗證資料的執行結果\n",
    "    plt.title('Train history')\n",
    "    plt.ylabel(train)\n",
    "    plt.xlabel('Epoch')\n",
    "    plt.legend(['train','validation'],loc='upper left')\n",
    "    plt.show()"
   ]
  },
  {
   "cell_type": "code",
   "execution_count": 24,
   "id": "3e207abe",
   "metadata": {},
   "outputs": [
    {
     "data": {
      "image/png": "[encoded data removed]",
      "text/plain": [
       "<Figure size 640x480 with 1 Axes>"
      ]
     },
     "metadata": {},
     "output_type": "display_data"
    }
   ],
   "source": [
    "#呼叫執行結果\n",
    "show_train_history(train_history,'accuracy','val_accuracy')"
   ]
  },
  {
   "cell_type": "code",
   "execution_count": 25,
   "id": "0200d0db",
   "metadata": {},
   "outputs": [
    {
     "data": {
      "image/png": "[encoded data removed]",
      "text/plain": [
       "<Figure size 640x480 with 1 Axes>"
      ]
     },
     "metadata": {},
     "output_type": "display_data"
    }
   ],
   "source": [
    "#loss誤差執行結果\n",
    "show_train_history(train_history,'loss','val_loss')"
   ]
  },
  {
   "cell_type": "code",
   "execution_count": 100,
   "id": "d608339a",
   "metadata": {},
   "outputs": [
    {
     "name": "stdout",
     "output_type": "stream",
     "text": [
      "25000/25000 [==============================] - 199s 8ms/step - loss: 0.5797 - accuracy: 0.8406\n"
     ]
    },
    {
     "data": {
      "text/plain": [
       "0.8406400084495544"
      ]
     },
     "execution_count": 100,
     "metadata": {},
     "output_type": "execute_result"
    }
   ],
   "source": [
    "#評估模型準確率\n",
    "scores = model.evaluate(x_test,y_test,verbose = 1)\n",
    "scores[1]"
   ]
  },
  {
   "cell_type": "code",
   "execution_count": 33,
   "id": "6b8ede86",
   "metadata": {},
   "outputs": [
    {
     "name": "stdout",
     "output_type": "stream",
     "text": [
      "782/782 [==============================] - 9s 11ms/step\n"
     ]
    }
   ],
   "source": [
    "#預測機率\n",
    "probility = model.predict(x_test) #使用model.predict_classes進行預測\n",
    "#classes_x=np.argmax(prediction,axis=1)"
   ]
  },
  {
   "cell_type": "code",
   "execution_count": 34,
   "id": "0fe66a33",
   "metadata": {},
   "outputs": [
    {
     "data": {
      "text/plain": [
       "array([[0.99583685],\n",
       "       [0.9967314 ],\n",
       "       [0.9759226 ],\n",
       "       [0.9989723 ],\n",
       "       [0.9096006 ],\n",
       "       [0.999535  ],\n",
       "       [0.99989605],\n",
       "       [0.35049653],\n",
       "       [0.9988138 ],\n",
       "       [0.98780775]], dtype=float32)"
      ]
     },
     "execution_count": 34,
     "metadata": {},
     "output_type": "execute_result"
    }
   ],
   "source": [
    "probility[:10]"
   ]
  },
  {
   "cell_type": "code",
   "execution_count": 35,
   "id": "9aa6404f",
   "metadata": {},
   "outputs": [
    {
     "name": "stdout",
     "output_type": "stream",
     "text": [
      "[0.06859599]\n",
      "[0.00029193]\n",
      "[0.08191617]\n",
      "[0.0007901]\n",
      "[0.2690024]\n",
      "[0.01934787]\n",
      "[0.12141887]\n",
      "[0.00025681]\n",
      "[0.00141238]\n",
      "[0.0012674]\n"
     ]
    }
   ],
   "source": [
    "for p in probility[12500:12510]:\n",
    "    print(p)"
   ]
  },
  {
   "cell_type": "code",
   "execution_count": 94,
   "id": "ea331523",
   "metadata": {},
   "outputs": [
    {
     "name": "stdout",
     "output_type": "stream",
     "text": [
      "782/782 [==============================] - 9s 11ms/step\n"
     ]
    }
   ],
   "source": [
    "#預測結果\n",
    "prediction = model.predict(x_test) #使用model.predict_classes進行預測\n",
    "classes_x = np.round(prediction).astype(int)"
   ]
  },
  {
   "cell_type": "code",
   "execution_count": 41,
   "id": "30d66126",
   "metadata": {},
   "outputs": [
    {
     "data": {
      "text/plain": [
       "array([[1],\n",
       "       [1],\n",
       "       [1],\n",
       "       [1],\n",
       "       [1],\n",
       "       [1],\n",
       "       [1],\n",
       "       [0],\n",
       "       [1],\n",
       "       [1]])"
      ]
     },
     "execution_count": 41,
     "metadata": {},
     "output_type": "execute_result"
    }
   ],
   "source": [
    "classes_x[:10]"
   ]
  },
  {
   "cell_type": "code",
   "execution_count": 42,
   "id": "3d8f15f7",
   "metadata": {},
   "outputs": [
    {
     "data": {
      "text/plain": [
       "(25000, 1)"
      ]
     },
     "execution_count": 42,
     "metadata": {},
     "output_type": "execute_result"
    }
   ],
   "source": [
    "classes_x.shape"
   ]
  },
  {
   "cell_type": "code",
   "execution_count": 44,
   "id": "a91e8c17",
   "metadata": {},
   "outputs": [
    {
     "data": {
      "text/plain": [
       "array([1, 1, 1, ..., 0, 1, 1])"
      ]
     },
     "execution_count": 44,
     "metadata": {},
     "output_type": "execute_result"
    }
   ],
   "source": [
    "classes_x=classes_x.reshape(25000)\n",
    "classes_x"
   ]
  },
  {
   "cell_type": "code",
   "execution_count": 45,
   "id": "b47691eb",
   "metadata": {},
   "outputs": [],
   "source": [
    "SentimentDict={1:'正面的',0:'負面的'}\n",
    "def display_test_Sentiment(i):\n",
    "    print(test_text[i])\n",
    "    print('label真實值:',SentimentDict[y_test[i]],\n",
    "          '預測結果:',SentimentDict[classes_x[i]])"
   ]
  },
  {
   "cell_type": "code",
   "execution_count": 46,
   "id": "6f647f87",
   "metadata": {},
   "outputs": [
    {
     "name": "stdout",
     "output_type": "stream",
     "text": [
      "As a recreational golfer with some knowledge of the sport's history, I was pleased with Disney's sensitivity to the issues of class in golf in the early twentieth century. The movie depicted well the psychological battles that Harry Vardon fought within himself, from his childhood trauma of being evicted to his own inability to break that glass ceiling that prevents him from being accepted as an equal in English golf society. Likewise, the young Ouimet goes through his own class struggles, being a mere caddie in the eyes of the upper crust Americans who scoff at his attempts to rise above his standing. What I loved best, however, is how this theme of class is manifested in the characters of Ouimet's parents. His father is a working-class drone who sees the value of hard work but is intimidated by the upper class; his mother, however, recognizes her son's talent and desire and encourages him to pursue his dream of competing against those who think he is inferior.Finally, the golf scenes are well photographed. Although the course used in the movie was not the actual site of the historical tournament, the little liberties taken by Disney do not detract from the beauty of the film. There's one little Disney moment at the pool table; otherwise, the viewer does not really think Disney. The ending, as in \"Miracle,\" is not some Disney creation, but one that only human history could have written.\n",
      "label真實值: 正面的 預測結果: 正面的\n"
     ]
    }
   ],
   "source": [
    "display_test_Sentiment(2)"
   ]
  },
  {
   "cell_type": "code",
   "execution_count": 47,
   "id": "ee3609a6",
   "metadata": {},
   "outputs": [
    {
     "name": "stdout",
     "output_type": "stream",
     "text": [
      "I saw this film in a sneak preview, and it is delightful. The cinematography is unusually creative, the acting is good, and the story is fabulous. If this movie does not do well, it won't be because it doesn't deserve to. Before this film, I didn't realize how charming Shia Lebouf could be. He does a marvelous, self-contained, job as the lead. There's something incredibly sweet about him, and it makes the movie even better. The other actors do a good job as well, and the film contains moments of really high suspense, more than one might expect from a movie about golf. Sports movies are a dime a dozen, but this one stands out. This is one I'd recommend to anyone.\n",
      "label真實值: 正面的 預測結果: 正面的\n"
     ]
    }
   ],
   "source": [
    "display_test_Sentiment(3)"
   ]
  },
  {
   "cell_type": "code",
   "execution_count": 70,
   "id": "c061ce6c",
   "metadata": {},
   "outputs": [
    {
     "data": {
      "text/plain": [
       "array([1, 1, 1, 0, 1, 1, 1, 1, 1, 1, 1, 1, 0, 1, 1])"
      ]
     },
     "execution_count": 70,
     "metadata": {},
     "output_type": "execute_result"
    }
   ],
   "source": [
    "classes_x[11030:11045]"
   ]
  },
  {
   "cell_type": "code",
   "execution_count": 75,
   "id": "2740354d",
   "metadata": {},
   "outputs": [
    {
     "name": "stdout",
     "output_type": "stream",
     "text": [
      "If you keep rigid historical perspective out of it, this film is actually quite entertaining. It's got action, adventure and romance, and one of the premiere casting match-ups of the era with Errol Flynn and Olivia de Havilland in the lead roles. As evident on this board, the picture doesn't pass muster with purists who look for one hundred percent accuracy in their story telling. To get beyond that, one need only put aside the history book, and enjoy the story as if it were a work of fiction. I know, I know, that's hard to do when you consider Custer's Last Stand at the Little Big Horn and it's prominence in the history of post Civil War America. So I guess there's an unresolved quandary with the picture, no matter how you look at it.There's a lot to take in here though for the picture's two hour plus run time. Custer's arrival at West Point is probably the first head scratcher, riding up as he does in full military regalia. The practical joke by Sharp (Arthur Kennedy) putting him up in the Major's headquarters probably should have gotten them both in trouble.Ironically, a lot of scenes in this military film play for comedy, as in Custer's first meeting with Libby Bacon, and subsequent encounters that include tea reader Callie (Hattie McDaniel). I hadn't noticed it before in other films, but McDaniel reminded me an awful lot of another favorite character actor of mine from the Forties, Mantan Moreland. So much so that in one scene it looked like it might have been Moreland hamming it up in a dress. With that in mind, the owl scene was a hoot too.As for Flynn, it's interesting to note that a year earlier, he portrayed J.E.B. Stuart opposite Ronald Reagan's depiction of General Custer in \"Santa Fe Trail\", both vying for the attention of none other than Olivia de Havilland. In that film, Reagan put none of the arrogance and flamboyance into the character of Custer that history remembers, while in Flynn's portrayal here it's more than evident. But it doesn't come close to that of Richard Mulligan's take on the military hero in 1970's \"Little Big Man\". Let's just say that one was a bit over the top.The better take away the picture had for me was the manner in which Custer persevered to maintain his good name and not gamble it away on a risky business venture. That and his loyalty to the men he led in battle along with the discipline he developed over the course of the story. Most poignant was that final confrontation with arch rival Sharp just before riding into the Little Big Horn, in which he declared that hell or glory was entirely dependent on one's point of view. Earlier, a similar remark might have given us the best insight of all into Custer's character, when he stated - \"You take glory with you when it's your time to go\".\n",
      "label真實值: 正面的 預測結果: 正面的\n"
     ]
    }
   ],
   "source": [
    "display_test_Sentiment(11030)"
   ]
  },
  {
   "cell_type": "code",
   "execution_count": 76,
   "id": "126a1ea3",
   "metadata": {},
   "outputs": [],
   "source": [
    "input_text='''\n",
    "I can't vote because I have not watched this movie yet. I've been wanting to watch this movie since the time they announced making it which is about 2 years ago (!)\n",
    "I was planning to go with the family to see the anticipated movie but my nieces had school exams at the opening time so we all decided to wait for the next weekend. I was utterly shocked to learn yesterday that they pulled the movie from the Kuwaiti theaters \"temporarily\" so that the outrageous censorship system can remove some unwanted scenes.\n",
    "The controversial gay \"moment\" according to my online research is barely there, so I can't find any logical reason for all the fuss that's been going on. And it was bad enough when fanatics and haters tried (in vain) to kill the movie with low ratings and negative reviews even before it was in the cinemas and I'm pretty sure most of those trolls never got the chance to watch the movie at that time.\n",
    "Based on the trailers, I think the movie is very promising and entertaining and you can't simply overlook the tremendous efforts made to bring this beloved tale to life. To knock down hundreds of people's obvious hard work with unprofessional critique and negative reviews just for the sake of hatred is unfathomable. I hope people won't judge a movie before having the experience of watching it in the first place.\n",
    "Impatiently waiting for the Kuwaiti cinemas to bring back the movie... \n",
    "'''"
   ]
  },
  {
   "cell_type": "code",
   "execution_count": 77,
   "id": "92372a12",
   "metadata": {},
   "outputs": [],
   "source": [
    "#將影評轉換成數字list\n",
    "input_seq = token.texts_to_sequences([input_text])"
   ]
  },
  {
   "cell_type": "code",
   "execution_count": 78,
   "id": "e49bfb86",
   "metadata": {},
   "outputs": [
    {
     "name": "stdout",
     "output_type": "stream",
     "text": [
      "[9, 187, 2304, 83, 9, 24, 20, 292, 10, 16, 242, 203, 73, 1782, 5, 102, 10, 16, 233, 1, 54, 32, 227, 8, 59, 6, 40, 237, 149, 593, 9, 12, 3582, 5, 136, 15, 1, 219, 5, 63, 1, 16, 17, 57, 65, 391, 29, 1, 632, 54, 34, 71, 28, 867, 5, 854, 14, 1, 371, 2491, 9, 12, 1250, 2412, 5, 847, 11, 32, 1903, 1, 16, 35, 1, 2254, 34, 11, 1, 3599, 1504, 66, 45, 135, 1, 3123, 987, 557, 1787, 5, 57, 2294, 6, 1196, 46, 34, 9, 187, 165, 97, 3684, 279, 14, 28, 1, 194, 73, 166, 19, 2, 8, 12, 75, 191, 50, 2, 798, 7, 5, 511, 1, 16, 15, 360, 2888, 2, 1560, 852, 56, 154, 8, 12, 7, 1, 2, 142, 180, 248, 87, 4, 144, 111, 184, 1, 576, 5, 102, 1, 16, 29, 11, 54, 444, 19, 1, 9, 100, 1, 16, 6, 51, 2430, 2, 438, 2, 21, 187, 327, 1, 3529, 2045, 89, 5, 717, 10, 2756, 780, 5, 109, 5, 3296, 176, 3100, 4, 2848, 573, 250, 153, 15, 2, 1560, 852, 39, 14, 1, 2111, 4, 3659, 6, 9, 436, 80, 524, 1920, 3, 16, 154, 256, 1, 581, 4, 145, 8, 7, 1, 82, 269, 1061, 14, 1, 5, 717, 141, 1, 16]\n"
     ]
    }
   ],
   "source": [
    "#查看數字list\n",
    "print(input_seq[0])"
   ]
  },
  {
   "cell_type": "code",
   "execution_count": 79,
   "id": "1723f740",
   "metadata": {},
   "outputs": [
    {
     "data": {
      "text/plain": [
       "223"
      ]
     },
     "execution_count": 79,
     "metadata": {},
     "output_type": "execute_result"
    }
   ],
   "source": [
    "#查看list長度\n",
    "len(input_seq[0])"
   ]
  },
  {
   "cell_type": "code",
   "execution_count": 80,
   "id": "eac11869",
   "metadata": {},
   "outputs": [],
   "source": [
    "#將list截取長度為380\n",
    "pad_input_seq = pad_sequences(input_seq,maxlen=380)"
   ]
  },
  {
   "cell_type": "code",
   "execution_count": 81,
   "id": "29e59ef4",
   "metadata": {},
   "outputs": [
    {
     "data": {
      "text/plain": [
       "380"
      ]
     },
     "execution_count": 81,
     "metadata": {},
     "output_type": "execute_result"
    }
   ],
   "source": [
    "len(pad_input_seq[0])"
   ]
  },
  {
   "cell_type": "code",
   "execution_count": 82,
   "id": "3109140e",
   "metadata": {},
   "outputs": [
    {
     "name": "stdout",
     "output_type": "stream",
     "text": [
      "1/1 [==============================] - 0s 33ms/step\n"
     ]
    }
   ],
   "source": [
    "predict_result = model.predict(pad_input_seq)\n",
    "classes_x = np.round(predict_result).astype(int)"
   ]
  },
  {
   "cell_type": "code",
   "execution_count": 83,
   "id": "b601a351",
   "metadata": {},
   "outputs": [
    {
     "data": {
      "text/plain": [
       "array([[0]])"
      ]
     },
     "execution_count": 83,
     "metadata": {},
     "output_type": "execute_result"
    }
   ],
   "source": [
    "classes_x"
   ]
  },
  {
   "cell_type": "code",
   "execution_count": 84,
   "id": "69509db5",
   "metadata": {},
   "outputs": [
    {
     "data": {
      "text/plain": [
       "0"
      ]
     },
     "execution_count": 84,
     "metadata": {},
     "output_type": "execute_result"
    }
   ],
   "source": [
    "classes_x[0][0]"
   ]
  },
  {
   "cell_type": "code",
   "execution_count": 85,
   "id": "25ec55d9",
   "metadata": {},
   "outputs": [
    {
     "data": {
      "text/plain": [
       "'負面的'"
      ]
     },
     "execution_count": 85,
     "metadata": {},
     "output_type": "execute_result"
    }
   ],
   "source": [
    "SentimentDict[classes_x[0][0]]"
   ]
  },
  {
   "cell_type": "code",
   "execution_count": 86,
   "id": "929f079b",
   "metadata": {},
   "outputs": [],
   "source": [
    "#把命令全部整理成predict_review()函數\n",
    "def predict_review(input_text):\n",
    "    input_seq = token.texts_to_sequences([input_text])\n",
    "    pad_input_seq = pad_sequences(input_seq,maxlen=100)\n",
    "    predict_result = model.predict(pad_input_seq)\n",
    "    classes_x = np.round(predict_result).astype(int)\n",
    "    print(SentimentDict[classes_x[0][0]])"
   ]
  },
  {
   "cell_type": "code",
   "execution_count": 87,
   "id": "a792b0b5",
   "metadata": {},
   "outputs": [
    {
     "name": "stdout",
     "output_type": "stream",
     "text": [
      "1/1 [==============================] - 0s 125ms/step\n",
      "正面的\n"
     ]
    }
   ],
   "source": [
    "predict_review('''\n",
    "As a fan of the original Disney film (Personally I feel it's their masterpiece) I was taken aback to the fact that a new version was in the making. Still excited I had high hopes for the film. Most of was shattered in the first 10 minutes. Campy acting with badly performed singing starts off a long journey holding hands with some of the worst CGI Hollywood have managed to but to screen in ages.\n",
    "A film that is over 50% GCI, should focus on making that part believable, unfortunately for this film, it's far from that. It looks like the original film was ripped apart frame by frame and the beautiful hand-painted drawings have been replaced with digital caricatures. Besides CGI that is bad, it's mostly creepy. As the little teacup boy will give me nightmares for several nights to come. Emma Watson plays the same character as she always does, with very little acting effort and very little conviction as Belle. Although I can see why she was cast in the film based on merits, she is far from the right choice for the role. Dan Stevens does alright under as some motion captured dead-eyed Beast, but his performance feels flat as well. Luke Evans makes for a great pompous Gaston, but a character that has little depth doesn't really make for a great viewing experience. Josh Gad is a great comic relief just like the original movie's LeFou. Other than that, none of the cast stands out enough for me to remember them. Human or CHI creature. I was just bored through out the whole experience. And for a project costing $160 000 000, I can see why the PR department is pushing it so hard because they really need to get some cash back on this pile of wet stinky CGI-fur!\n",
    "All and all, I might be bias from really loving Disney's first adaptation. That for me marks the high-point of all their work, perfectly combining the skills of their animators along with some CGI in a majestic blend. This film however is more like the bucket you wash off your paintbrush in, it has all the same colors, but muddled with water and to thin to make a captivating story from. The film is quite frankly not worth your time, you would be better off watching the original one more time. \n",
    "''')"
   ]
  },
  {
   "cell_type": "code",
   "execution_count": 91,
   "id": "1bab7937",
   "metadata": {},
   "outputs": [
    {
     "name": "stdout",
     "output_type": "stream",
     "text": [
      "1/1 [==============================] - 0s 19ms/step\n",
      "負面的\n"
     ]
    }
   ],
   "source": [
    "predict_review('''\n",
    "I was really looking forward to this film. Not only has Disney recently made excellent live-action versions of their animated masterpieces (Jungle Book, Cinderella), but the cast alone (Emma Watson, Ian McKellen, Kevin Kline) already seemed to make this one a sure hit. Well, not so much as it turns out.\n",
    "Some of the animation is fantastic, but because characters like Cogsworth (the clock), Lumière (the candelabra) and Chip (the little tea cup) now look \"realistic\", they lose a lot of their animated predecessors' charm and actually even look kind of creepy at times. And ironically - unlike in the animated original - in this new realistic version they only have very limited facial expressions (which is a creative decision I can't for the life of me understand).\n",
    "Even when it works: there can be too much of a good thing. The film is overstuffed with lush production design and cgi (which is often weirdly artificial looking though) but sadly lacking in charm and genuine emotion. If this were a music album, I'd say it is \"over-produced\" and in need of more soul and swing. The great voice talent in some cases actually seems wasted, because it drowns in a sea of visual effects that numbs all senses. The most crucial thing that didn't work for me, though, is the Beast. He just never looks convincing. The eyes somehow don't look like real eyes and they're always slightly off.\n",
    "On the positive side, I really liked Gaston, and the actor who played him, Luke Evans, actually gave the perhaps most energized performance of all. Kevin Kline as Belle's father has little to do but to look fatherly and old, but he makes the most of his part. Speaking of Belle, now that I've seen the film, I think her role was miscast. I think someone like Rachel McAdams would actually have been a more natural, lively and perhaps a bit more feisty Belle than Emma Watson.\n",
    "If you love the original, you might want to give this one a pass, it's really not that good (although at least the songs were OK). Also, I'd think twice before bringing small children; without cute animated faces, all those \"realistic\" looking creatures and devices can be rather frightening for a child. ''')"
   ]
  },
  {
   "cell_type": "code",
   "execution_count": 89,
   "id": "d33615cd",
   "metadata": {},
   "outputs": [
    {
     "name": "stdout",
     "output_type": "stream",
     "text": [
      "1/1 [==============================] - 0s 21ms/step\n",
      "正面的\n"
     ]
    }
   ],
   "source": [
    "predict_review('''\n",
    "The original Beauty and the Beast was my favorite cartoon as a kid but it did have major plot holes. Why had no one else ever seen the castle or knew where it was? Didn't anyone miss the people who were cursed? All of that gets an explanation when the enchantress places her curse in the beginning. Why did Belle and her Father move to a small town? Her mother died and the father thought it as best to leave. I love the new songs and added lyrics to the originals. I like the way the cgi beast looks (just the face is CGi). I think Emma Watson is a perfect Belle who is outspoken, fearless, and different. The set design is perfect for the era in France.\n",
    "I know a lot of people disagree but I found this remake with all its changes to be more enchanting, beautiful, and complete than the original 1991 movie. To each his own but I think everyone should see it for themselves. \n",
    "''')"
   ]
  },
  {
   "cell_type": "code",
   "execution_count": 90,
   "id": "e268fd2d",
   "metadata": {},
   "outputs": [
    {
     "name": "stdout",
     "output_type": "stream",
     "text": [
      "1/1 [==============================] - 0s 21ms/step\n",
      "正面的\n"
     ]
    }
   ],
   "source": [
    "predict_review('''\n",
    "\"Beauty and the Beast\" was stunning and gorgeous. Beautifully and artfully performed. Dazzlingly colorful and charming. Fresh and lighthearted. Wonderfully and magically enthralling. I laughed, I cried, I floated along with the music, I bawled and bawled as the spellbinding elegance and splendor took me to another place and time. I was 5 years old again enjoying the Wonderful World of Magic that is Disney, as if for the first time. I will gladly spend my money over and over to see that magic unfold. I willingly and happily concede Emma Watson to be Belle, for this generation of children, instead of Hermione. She has earned her place as a Disney princess and I applaud everyone who had a part in this piece of magic. Truly, Disney knows how to make us all children again. \n",
    "''')"
   ]
  },
  {
   "cell_type": "code",
   "execution_count": 92,
   "id": "f04cdce5",
   "metadata": {},
   "outputs": [
    {
     "name": "stdout",
     "output_type": "stream",
     "text": [
      "Saved model to disk\n"
     ]
    }
   ],
   "source": [
    "model_json = model.to_json()\n",
    "with open(\"SaveModel/Imdb_RNN_model.json\", \"w\") as json_file:\n",
    "    json_file.write(model_json)\n",
    "\n",
    "model.save_weights(\"SaveModel/Imdb_RNN_model.h5\")\n",
    "print(\"Saved model to disk\")"
   ]
  },
  {
   "cell_type": "code",
   "execution_count": null,
   "id": "18630637",
   "metadata": {},
   "outputs": [],
   "source": []
  }
 ],
 "metadata": {
  "kernelspec": {
   "display_name": "Python 3 (ipykernel)",
   "language": "python",
   "name": "python3"
  },
  "language_info": {
   "codemirror_mode": {
    "name": "ipython",
    "version": 3
   },
   "file_extension": ".py",
   "mimetype": "text/x-python",
   "name": "python",
   "nbconvert_exporter": "python",
   "pygments_lexer": "ipython3",
   "version": "3.9.13"
  }
 },
 "nbformat": 4,
 "nbformat_minor": 5
}
