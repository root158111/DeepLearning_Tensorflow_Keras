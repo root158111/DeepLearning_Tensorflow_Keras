{
 "cells": [
  {
   "cell_type": "code",
   "execution_count": 1,
   "id": "b3a8ccb6",
   "metadata": {},
   "outputs": [],
   "source": [
    "import tensorflow.compat.v1 as tf\n",
    "tf.compat.v1.disable_eager_execution()"
   ]
  },
  {
   "cell_type": "markdown",
   "id": "f516abab",
   "metadata": {},
   "source": [
    "Tensorflow張良運算模擬神經網路"
   ]
  },
  {
   "cell_type": "code",
   "execution_count": 3,
   "id": "4f22dd1a",
   "metadata": {},
   "outputs": [
    {
     "name": "stdout",
     "output_type": "stream",
     "text": [
      "XWb:\n",
      "[[-0.35999998  0.28      ]]\n",
      "y:\n",
      "[[0.   0.28]]\n"
     ]
    }
   ],
   "source": [
    "X  =  tf.Variable([[0.4,0.2,0.4]])\n",
    "W =  tf.Variable([[-0.5,-0.2],\n",
    "                 [-0.3,0.4],\n",
    "                 [-0.5,0.2]]\n",
    "                )\n",
    "b = tf.Variable([[0.1,0.2]])\n",
    "XWb = tf.matmul(X,W)+b\n",
    "y=tf.nn.relu(tf.matmul(X,W)+b)\n",
    "with tf.Session() as sess:\n",
    "    init = tf.global_variables_initializer()\n",
    "    sess.run(init)\n",
    "    print('XWb:');print(sess.run(XWb)) #X*W+b的計算結果\n",
    "    print('y:');print(sess.run(y))#y=relu(X*W+b)的計算結果\n",
    "    \n",
    "#在twnsorflow使用tf.nn.relu來引用激活函數relu。relu的好處是，如果<0轉換後市0，如果>0輸出等於輸入"
   ]
  },
  {
   "cell_type": "markdown",
   "id": "76b37dca",
   "metadata": {},
   "source": [
    "運算式加入sigmoid"
   ]
  },
  {
   "cell_type": "code",
   "execution_count": 4,
   "id": "6a2fcc79",
   "metadata": {},
   "outputs": [
    {
     "name": "stdout",
     "output_type": "stream",
     "text": [
      "XWb:\n",
      "[[-0.35999998  0.28      ]]\n",
      "y:\n",
      "[[0.41095957 0.5695462 ]]\n"
     ]
    }
   ],
   "source": [
    "X =  tf.Variable([[0.4,0.2,0.4]])\n",
    "W =  tf.Variable([[-0.5,-0.2],\n",
    "                 [-0.3,0.4],\n",
    "                 [-0.5,0.2]]\n",
    "                )\n",
    "b = tf.Variable([[0.1,0.2]])\n",
    "XWb = tf.matmul(X,W)+b\n",
    "y=tf.nn.sigmoid(tf.matmul(X,W)+b)\n",
    "with tf.Session() as sess:\n",
    "    init = tf.global_variables_initializer()\n",
    "    sess.run(init)\n",
    "    print('XWb:');print(sess.run(XWb)) #X*W+b的計算結果\n",
    "    print('y:');print(sess.run(y))#y=relu(X*W+b)的計算結果"
   ]
  },
  {
   "cell_type": "markdown",
   "id": "cfab693e",
   "metadata": {},
   "source": [
    "以常態分佈的亂數產生weight與bias的初始值"
   ]
  },
  {
   "cell_type": "code",
   "execution_count": 5,
   "id": "adba8c0b",
   "metadata": {},
   "outputs": [
    {
     "name": "stdout",
     "output_type": "stream",
     "text": [
      "b:\n",
      "[[0.48484355 1.6101907 ]]\n",
      "W:\n",
      "[[ 1.2093606   0.9797997 ]\n",
      " [-1.2680724   0.3698575 ]\n",
      " [ 1.2074635   0.20788765]]\n",
      "y:\n",
      "[[1.1979587 2.1592371]]\n"
     ]
    }
   ],
   "source": [
    "W = tf.Variable(tf.random_normal([3,2]))\n",
    "b = tf.Variable(tf.random_normal([1,2]))\n",
    "X = tf.Variable([[0.4,0.2,0.4]])\n",
    "y=tf.nn.relu(tf.matmul(X,W)+b)\n",
    "with tf.Session() as sess:\n",
    "    init = tf.global_variables_initializer()\n",
    "    sess.run(init)\n",
    "    print('b:');print(sess.run(b))\n",
    "    print('W:');print(sess.run(W))\n",
    "    print('y:');print(sess.run(y))"
   ]
  },
  {
   "cell_type": "code",
   "execution_count": null,
   "id": "c956d1ad",
   "metadata": {},
   "outputs": [],
   "source": [
    "#執行1次sess.run就可以取得3個Tensorflow變數\n"
   ]
  },
  {
   "cell_type": "code",
   "execution_count": 8,
   "id": "dee1a27c",
   "metadata": {},
   "outputs": [
    {
     "name": "stdout",
     "output_type": "stream",
     "text": [
      "b:\n",
      "[[0.7849486 1.5330484]]\n",
      "W:\n",
      "[[-0.36163566  0.77689785]\n",
      " [-0.8868885   1.1196054 ]\n",
      " [-1.0323458  -0.9262237 ]]\n",
      "y:\n",
      "[[0.04997826 1.6972392 ]]\n"
     ]
    }
   ],
   "source": [
    "W = tf.Variable(tf.random_normal([3,2]))\n",
    "b = tf.Variable(tf.random_normal([1,2]))\n",
    "X = tf.Variable([[0.4,0.2,0.4]])\n",
    "y=tf.nn.relu(tf.matmul(X,W)+b)\n",
    "with tf.Session() as sess:\n",
    "    init = tf.global_variables_initializer()\n",
    "    sess.run(init)\n",
    "    (b,W,y)=sess.run((b,W,y))\n",
    "    print('b:');\n",
    "    print(b)\n",
    "    print('W:');\n",
    "    print(W)\n",
    "    print('y:');\n",
    "    print(y)"
   ]
  },
  {
   "cell_type": "markdown",
   "id": "a4bf2370",
   "metadata": {},
   "source": [
    "常態分佈的亂數tf.random_normal"
   ]
  },
  {
   "cell_type": "code",
   "execution_count": 9,
   "id": "ddf9e901",
   "metadata": {},
   "outputs": [
    {
     "name": "stdout",
     "output_type": "stream",
     "text": [
      "[-0.22584797  1.4407967   0.4741486  -0.1542855   1.0761472 ]\n"
     ]
    }
   ],
   "source": [
    "#使用tf.random_normal產生:常態分佈亂數的list\n",
    "ts_norm = tf.random_normal([1000])\n",
    "with tf.Session() as session:\n",
    "    norm_data = ts_norm.eval()\n",
    "print(norm_data[:5])"
   ]
  },
  {
   "cell_type": "code",
   "execution_count": 10,
   "id": "3357c9ed",
   "metadata": {},
   "outputs": [
    {
     "data": {
      "image/png": "[encoded data removed]",
      "text/plain": [
       "<Figure size 640x480 with 1 Axes>"
      ]
     },
     "metadata": {},
     "output_type": "display_data"
    }
   ],
   "source": [
    "#plt.hist顯示常態分佈圖形\n",
    "import matplotlib.pyplot as plt\n",
    "plt.hist(norm_data)\n",
    "plt.show()"
   ]
  },
  {
   "cell_type": "code",
   "execution_count": null,
   "id": "8b99cd04",
   "metadata": {},
   "outputs": [],
   "source": []
  }
 ],
 "metadata": {
  "kernelspec": {
   "display_name": "Python 3 (ipykernel)",
   "language": "python",
   "name": "python3"
  },
  "language_info": {
   "codemirror_mode": {
    "name": "ipython",
    "version": 3
   },
   "file_extension": ".py",
   "mimetype": "text/x-python",
   "name": "python",
   "nbconvert_exporter": "python",
   "pygments_lexer": "ipython3",
   "version": "3.9.13"
  }
 },
 "nbformat": 4,
 "nbformat_minor": 5
}
