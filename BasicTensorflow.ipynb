{
 "cells": [
  {
   "cell_type": "code",
   "execution_count": 1,
   "id": "79237391",
   "metadata": {},
   "outputs": [],
   "source": [
    "#匯入模組\n",
    "import tensorflow.compat.v1 as tf\n",
    "tf.compat.v1.disable_eager_execution() #禁用默認的即時執行模式***重要\n",
    "#建立Tensorflow常數\n",
    "ts_c = tf.constant(2,name='ts_c')  #此常數值為2 常數名稱ts_c，會顯示在計算圖上"
   ]
  },
  {
   "cell_type": "code",
   "execution_count": 2,
   "id": "0adbf568",
   "metadata": {},
   "outputs": [
    {
     "data": {
      "text/plain": [
       "<tf.Tensor 'ts_c:0' shape=() dtype=int32>"
      ]
     },
     "execution_count": 2,
     "metadata": {},
     "output_type": "execute_result"
    }
   ],
   "source": [
    "#查看Tensorfloe常數\n",
    "ts_c "
   ]
  },
  {
   "cell_type": "markdown",
   "id": "b16e302e",
   "metadata": {},
   "source": [
    "tf.Tensor : 表示Tensorflow張量\n",
    "shape=()  : 表這是0為的tensor，也就是數值\n",
    "dtype=int32  : 型態是int32"
   ]
  },
  {
   "cell_type": "code",
   "execution_count": 3,
   "id": "a7011633",
   "metadata": {},
   "outputs": [],
   "source": [
    "#建立變數\n",
    "ts_x = tf.Variable(ts_c+5,name='ts_x') #變數值為常數值ts_c再加5 設定變數名稱ts_x"
   ]
  },
  {
   "cell_type": "code",
   "execution_count": 4,
   "id": "932866ba",
   "metadata": {},
   "outputs": [
    {
     "data": {
      "text/plain": [
       "<tf.Variable 'ts_x:0' shape=() dtype=int32>"
      ]
     },
     "execution_count": 4,
     "metadata": {},
     "output_type": "execute_result"
    }
   ],
   "source": [
    "ts_x #查看變數"
   ]
  },
  {
   "cell_type": "markdown",
   "id": "0700c62a",
   "metadata": {},
   "source": [
    "執行計算圖"
   ]
  },
  {
   "cell_type": "code",
   "execution_count": 5,
   "id": "dac92666",
   "metadata": {},
   "outputs": [
    {
     "name": "stdout",
     "output_type": "stream",
     "text": [
      "ts_c= 2\n",
      "ts_x= 7\n",
      "ts_c= 2\n",
      "ts_x= 7\n"
     ]
    }
   ],
   "source": [
    "init = tf.compat.v1.global_variables_initializer()\n",
    "with tf.compat.v1.Session() as sess:\n",
    "    sess.run(init)\n",
    "    print('ts_c=',sess.run(ts_c))#使用sess.run顯示tensorflow常數\n",
    "    print('ts_x=',sess.run(ts_x))#使用sess.run顯示tensorflowt變數\n",
    "    print('ts_c=',ts_c.eval(session = sess))#使用.eval()顯示tensorflow常數\n",
    "    print('ts_x=',ts_x.eval(session = sess))#使用.eval()顯示tensorflow變數"
   ]
  },
  {
   "cell_type": "code",
   "execution_count": 6,
   "id": "331eb9e3",
   "metadata": {},
   "outputs": [],
   "source": [
    "sess.close()"
   ]
  },
  {
   "cell_type": "markdown",
   "id": "0c9abf2c",
   "metadata": {},
   "source": [
    "Tensorflow placeholder 在執行「計算圖」階段才設定參數，就必須使用placeholder"
   ]
  },
  {
   "cell_type": "code",
   "execution_count": 7,
   "id": "ee8300da",
   "metadata": {},
   "outputs": [],
   "source": [
    "width = tf.placeholder(\"int32\")\n",
    "height = tf.placeholder(\"int32\")\n",
    "area = tf.multiply(width,height)#使用multiply相乘"
   ]
  },
  {
   "cell_type": "code",
   "execution_count": 8,
   "id": "1344ad26",
   "metadata": {},
   "outputs": [
    {
     "name": "stdout",
     "output_type": "stream",
     "text": [
      "area= 48\n"
     ]
    }
   ],
   "source": [
    "with tf.Session() as sess:\n",
    "    init = tf.global_variables_initializer()\n",
    "    sess.run(init)\n",
    "    print('area=',sess.run(area,feed_dict={width: 6,height: 8})) #feed_dict : 傳入參數"
   ]
  },
  {
   "cell_type": "markdown",
   "id": "85c11847",
   "metadata": {},
   "source": [
    "TensorBoard"
   ]
  },
  {
   "cell_type": "code",
   "execution_count": 9,
   "id": "51f60c53",
   "metadata": {},
   "outputs": [
    {
     "name": "stdout",
     "output_type": "stream",
     "text": [
      "area= 48\n"
     ]
    }
   ],
   "source": [
    "#匯入模組\n",
    "import tensorflow.compat.v1 as tf\n",
    "width = tf.placeholder(\"int32\",name='width')\n",
    "height = tf.placeholder(\"int32\",name='height')\n",
    "area = tf.multiply(width,height,name='area')#使用multiply相乘\n",
    "\n",
    "with tf.Session() as sess:\n",
    "    init = tf.global_variables_initializer()\n",
    "    sess.run(init)\n",
    "    print('area=',sess.run(area,feed_dict={width: 6,height: 8})) #feed_dict : 傳入參數"
   ]
  },
  {
   "cell_type": "code",
   "execution_count": 10,
   "id": "112ce1ee",
   "metadata": {},
   "outputs": [],
   "source": [
    "#建立tensorflow variable\n",
    "tf.summary.merge_all()  #將所有要顯示在TensorBorad的資料整和\n",
    "train_write = tf.summary.FileWriter('log/area',sess.graph)#將所有要顯示在Tensorborad的資料，寫入log檔。log檔會儲存在目前執行程式目錄下的log/area子目錄"
   ]
  },
  {
   "cell_type": "code",
   "execution_count": 11,
   "id": "db43f857",
   "metadata": {},
   "outputs": [
    {
     "name": "stdout",
     "output_type": "stream",
     "text": [
      "[0.4 0.2 0.4]\n"
     ]
    }
   ],
   "source": []
  },
  {
   "cell_type": "code",
   "execution_count": null,
   "id": "5de2ddee",
   "metadata": {},
   "outputs": [],
   "source": []
  }
 ],
 "metadata": {
  "kernelspec": {
   "display_name": "Python 3 (ipykernel)",
   "language": "python",
   "name": "python3"
  },
  "language_info": {
   "codemirror_mode": {
    "name": "ipython",
    "version": 3
   },
   "file_extension": ".py",
   "mimetype": "text/x-python",
   "name": "python",
   "nbconvert_exporter": "python",
   "pygments_lexer": "ipython3",
   "version": "3.9.13"
  }
 },
 "nbformat": 4,
 "nbformat_minor": 5
}
