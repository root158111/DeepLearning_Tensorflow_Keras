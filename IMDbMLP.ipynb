{
 "cells": [
  {
   "cell_type": "code",
   "execution_count": 1,
   "id": "2e24ec36",
   "metadata": {},
   "outputs": [],
   "source": [
    "#匯入所需模組\n",
    "from keras.datasets import imdb\n",
    "from keras.preprocessing import sequence\n",
    "from keras.utils import pad_sequences\n",
    "from keras.preprocessing.text import Tokenizer\n",
    "import numpy as np\n",
    "np.random.seed(10)"
   ]
  },
  {
   "cell_type": "code",
   "execution_count": 2,
   "id": "978763a2",
   "metadata": {},
   "outputs": [],
   "source": [
    "#使用正規表示式Regular Expression\n",
    "#建立rm_tag函數移除文字中html tag\n",
    "import re                          #匯入Regular Expression模組\n",
    "def rm_tags(text):                 #建立rm_tags函數，輸入參數text文字\n",
    "    re_tag = re.compile(r'<[^>]+>')#建立rm_tag正規表示式變數為'<[^>]+>'\n",
    "    return re_tag.sub('',text)     #使用re_tag將text文字中，符合正規表示式條件的字替換成空字串"
   ]
  },
  {
   "cell_type": "code",
   "execution_count": 3,
   "id": "dd1b7b61",
   "metadata": {},
   "outputs": [],
   "source": [
    "#建立read_files函數讀取IMDb檔案目錄\n",
    "import os\n",
    "def read_files(filetype):             #建立read_files函數，輸入參數filetype 讀取[訓練/測試]資料會傳入\"[train/test]\" \n",
    "    path = \"C:/Users/USER/aclImdb/\"   #設定存取路徑\n",
    "    file_list=[]                      #建立檔案list\n",
    "    \n",
    "    positive_path = path + filetype + \"/pos/\"  #設定正面評價的檔案目錄為positive_path\n",
    "    for f in os.listdir(positive_path):         #使用for將positive_path目錄下所有的檔案加入file_list\n",
    "        file_list +=[positive_path + f]\n",
    "    \n",
    "    negative_path = path + filetype + \"/neg/\"  #設定正面評價的檔案目錄為negative_path\n",
    "    for f in os.listdir(negative_path):         #使用for將negative_path目錄下所有的檔案加入file_list\n",
    "        file_list +=[negative_path + f]\n",
    "    \n",
    "    print('read',filetype,'files:',len(file_list)) #顯示目前讀取的filetype(\"train或test\")，目錄下的檔案個數\n",
    "    \n",
    "    all_labels = ([1]*12500+[0]*12500)             #產生all_label因為前12500筆是正面，所以產生12500筆1的list，0則為負面\n",
    "    \n",
    "    all_texts = []            #設定all_text為空list\n",
    "    for fi in file_list:   #fi讀取所有file_list檔案\n",
    "        with open(fi,encoding='utf-8') as file_input: #使用open(fi,encoding='utf-8')開啟檔案為file_input\n",
    "#使用使用 file_input.readlines()讀取檔案，並使用join連接所有檔案內容，然後使用rm_tags移除tag，最後加入 all_texts list\n",
    "            all_texts += [rm_tags(\" \".join(file_input.readlines()))]\n",
    "  \n",
    "    return all_labels,all_texts"
   ]
  },
  {
   "cell_type": "code",
   "execution_count": 4,
   "id": "06326167",
   "metadata": {},
   "outputs": [
    {
     "name": "stdout",
     "output_type": "stream",
     "text": [
      "read train files: 25000\n"
     ]
    }
   ],
   "source": [
    "#讀取IMDb資料及目錄\n",
    "y_train,train_text = read_files(\"train\")"
   ]
  },
  {
   "cell_type": "code",
   "execution_count": 5,
   "id": "bbcc2935",
   "metadata": {},
   "outputs": [
    {
     "name": "stdout",
     "output_type": "stream",
     "text": [
      "read test files: 25000\n"
     ]
    }
   ],
   "source": [
    "#讀取測試資料\n",
    "y_test,test_text = read_files(\"test\")"
   ]
  },
  {
   "cell_type": "code",
   "execution_count": 6,
   "id": "4ba29abb",
   "metadata": {},
   "outputs": [],
   "source": [
    "#建立Token\n",
    "#建立Token\n",
    "token = Tokenizer(num_words=2000) #使用Tokenizer建立token，輸入參數num_words=2000，也就是建立2000個字的字典\n",
    "token.fit_on_texts(train_text)    #讀取所有的訓練資料影評，依照每個英文字，在影評中出現的次數進行排序，排序的前2000個會列入字典中"
   ]
  },
  {
   "cell_type": "code",
   "execution_count": 7,
   "id": "31d9cd72",
   "metadata": {},
   "outputs": [],
   "source": [
    "#使用token.texts_to_sequences將訓練資料與測試資料的影評文字轉換籌數字list。\n",
    "x_train_seq = token.texts_to_sequences(train_text)\n",
    "x_test_seq = token.texts_to_sequences(test_text)"
   ]
  },
  {
   "cell_type": "code",
   "execution_count": 8,
   "id": "9aafbbc0",
   "metadata": {},
   "outputs": [],
   "source": [
    "#使用sequence.pad_sequences()方法截長補短\n",
    "x_train = pad_sequences(x_train_seq,maxlen=100)\n",
    "x_test = pad_sequences(x_test_seq,maxlen=100)"
   ]
  },
  {
   "cell_type": "raw",
   "id": "9c81dc53",
   "metadata": {},
   "source": [
    "以上資料預處理完成後產生訓練資料與測試資料\n",
    "●訓練資料:將送進各種深度學習模型進行訓練\n",
    "    訓練資料:\n",
    "            x_train(feature) : 0-12499筆:正面評價「數字list」、 12500-24999筆：負面評價「數字list」\n",
    "            y_train(label)   : 0-12499筆：正面評價，全部是1 、 12500-24999筆：負面評價，全部是0     \n",
    "●測試資料:將用於評估深度學習模型準確率，以及進行預測\n",
    "    測試資料:\n",
    "            x_test(feature) :  0-12499筆:正面評價「數字list」、 12500-24999筆：負面評價「數字list」\n",
    "            y_test(label)   :  0-12499筆：正面評價，全部是1 、 12500-24999筆：負面評價，全部是0"
   ]
  },
  {
   "cell_type": "raw",
   "id": "4500d672",
   "metadata": {},
   "source": [
    "加入Embding層"
   ]
  },
  {
   "cell_type": "code",
   "execution_count": 9,
   "id": "1a1c4e8d",
   "metadata": {},
   "outputs": [],
   "source": [
    "from keras.models import Sequential\n",
    "from keras.layers.core import Dense,Dropout,Activation,Flatten\n",
    "from keras.layers import Embedding "
   ]
  },
  {
   "cell_type": "code",
   "execution_count": 10,
   "id": "fbf15169",
   "metadata": {},
   "outputs": [],
   "source": [
    "#建立模型\n",
    "model  = Sequential()"
   ]
  },
  {
   "cell_type": "code",
   "execution_count": 11,
   "id": "2a4a2b16",
   "metadata": {},
   "outputs": [],
   "source": [
    "#將Embedding加入模型\n",
    "model.add(Embedding(output_dim = 32,    #輸出的維度32 希望把「數字list」換為32維度的向量\n",
    "                    input_dim = 2000,   #輸入的維度是2000，因為之前建立的字典是2000字\n",
    "                    input_length = 100  #「數字list」每一筆有100個數字 所以長度為100\n",
    "                   ))\n",
    "model.add(Dropout(0.2)) #每次訓練迭代時，隨機在神經往綠中放棄20%的神經元"
   ]
  },
  {
   "cell_type": "code",
   "execution_count": 12,
   "id": "d38e4f66",
   "metadata": {},
   "outputs": [],
   "source": [
    "#建立多層感知器模型\n",
    "model.add(Flatten())"
   ]
  },
  {
   "cell_type": "code",
   "execution_count": 13,
   "id": "5f055ef2",
   "metadata": {},
   "outputs": [],
   "source": [
    "#加入隱藏層\n",
    "model.add(Dense(\n",
    "    units=256,        #隱藏層共有256個神經元\n",
    "    activation='relu'\n",
    "))\n",
    "\n",
    "model.add(Dropout(0.35))"
   ]
  },
  {
   "cell_type": "code",
   "execution_count": 14,
   "id": "1171d60d",
   "metadata": {},
   "outputs": [],
   "source": [
    "#加入輸出層\n",
    "model.add(Dense(\n",
    "    units = 1,    #輸出層只有一個神經元，1代表正面評價，0代表負面評價\n",
    "    activation = 'sigmoid'\n",
    "))"
   ]
  },
  {
   "cell_type": "code",
   "execution_count": 15,
   "id": "4a5e3940",
   "metadata": {},
   "outputs": [
    {
     "name": "stdout",
     "output_type": "stream",
     "text": [
      "Model: \"sequential\"\n",
      "_________________________________________________________________\n",
      " Layer (type)                Output Shape              Param #   \n",
      "=================================================================\n",
      " embedding (Embedding)       (None, 100, 32)           64000     \n",
      "                                                                 \n",
      " dropout (Dropout)           (None, 100, 32)           0         \n",
      "                                                                 \n",
      " flatten (Flatten)           (None, 3200)              0         \n",
      "                                                                 \n",
      " dense (Dense)               (None, 256)               819456    \n",
      "                                                                 \n",
      " dropout_1 (Dropout)         (None, 256)               0         \n",
      "                                                                 \n",
      " dense_1 (Dense)             (None, 1)                 257       \n",
      "                                                                 \n",
      "=================================================================\n",
      "Total params: 883,713\n",
      "Trainable params: 883,713\n",
      "Non-trainable params: 0\n",
      "_________________________________________________________________\n"
     ]
    }
   ],
   "source": [
    "#查看摘要模型\n",
    "model.summary()"
   ]
  },
  {
   "cell_type": "code",
   "execution_count": 16,
   "id": "0fb09d25",
   "metadata": {},
   "outputs": [],
   "source": [
    "#定義訓練方式\n",
    "model.compile(\n",
    "    loss='binary_crossentropy', #在深度學習使用cross_entropy，訓練效果比較好\n",
    "    optimizer = 'adam',\n",
    "    metrics=['accuracy']\n",
    ")"
   ]
  },
  {
   "cell_type": "code",
   "execution_count": 17,
   "id": "89123a13",
   "metadata": {},
   "outputs": [],
   "source": [
    "y_train = np.array(y_train)\n",
    "y_test=np.array(y_test)"
   ]
  },
  {
   "cell_type": "code",
   "execution_count": 18,
   "id": "70b8e03b",
   "metadata": {},
   "outputs": [
    {
     "name": "stdout",
     "output_type": "stream",
     "text": [
      "Epoch 1/10\n",
      "200/200 - 3s - loss: 0.4814 - accuracy: 0.7556 - val_loss: 0.4091 - val_accuracy: 0.8204 - 3s/epoch - 17ms/step\n",
      "Epoch 2/10\n",
      "200/200 - 3s - loss: 0.2724 - accuracy: 0.8878 - val_loss: 0.4835 - val_accuracy: 0.7926 - 3s/epoch - 13ms/step\n",
      "Epoch 3/10\n",
      "200/200 - 3s - loss: 0.1611 - accuracy: 0.9420 - val_loss: 0.5777 - val_accuracy: 0.7792 - 3s/epoch - 13ms/step\n",
      "Epoch 4/10\n",
      "200/200 - 3s - loss: 0.0821 - accuracy: 0.9732 - val_loss: 0.8944 - val_accuracy: 0.7376 - 3s/epoch - 13ms/step\n",
      "Epoch 5/10\n",
      "200/200 - 3s - loss: 0.0490 - accuracy: 0.9829 - val_loss: 1.0648 - val_accuracy: 0.7452 - 3s/epoch - 13ms/step\n",
      "Epoch 6/10\n",
      "200/200 - 3s - loss: 0.0354 - accuracy: 0.9871 - val_loss: 1.1671 - val_accuracy: 0.7456 - 3s/epoch - 13ms/step\n",
      "Epoch 7/10\n",
      "200/200 - 3s - loss: 0.0308 - accuracy: 0.9901 - val_loss: 1.0585 - val_accuracy: 0.7780 - 3s/epoch - 13ms/step\n",
      "Epoch 8/10\n",
      "200/200 - 3s - loss: 0.0279 - accuracy: 0.9902 - val_loss: 1.3919 - val_accuracy: 0.7350 - 3s/epoch - 13ms/step\n",
      "Epoch 9/10\n",
      "200/200 - 3s - loss: 0.0252 - accuracy: 0.9902 - val_loss: 1.3278 - val_accuracy: 0.7586 - 3s/epoch - 13ms/step\n",
      "Epoch 10/10\n",
      "200/200 - 3s - loss: 0.0245 - accuracy: 0.9909 - val_loss: 1.2873 - val_accuracy: 0.7696 - 3s/epoch - 13ms/step\n"
     ]
    }
   ],
   "source": [
    "#開始訓練\n",
    "\n",
    "train_history = model.fit(x_train,              #feature(「數字list」)\n",
    "                          y_train,              #測試資料的標籤label(正向:1、負向:0)\n",
    "                          batch_size = 100,\n",
    "                          epochs = 10,\n",
    "                          verbose = 2,\n",
    "                          validation_split = 0.2\n",
    "                         )"
   ]
  },
  {
   "cell_type": "code",
   "execution_count": 19,
   "id": "9d825e94",
   "metadata": {},
   "outputs": [
    {
     "name": "stdout",
     "output_type": "stream",
     "text": [
      "782/782 [==============================] - 1s 2ms/step - loss: 0.9319 - accuracy: 0.8154\n"
     ]
    },
    {
     "data": {
      "text/plain": [
       "0.8153600096702576"
      ]
     },
     "execution_count": 19,
     "metadata": {},
     "output_type": "execute_result"
    }
   ],
   "source": [
    "#評估模型準確率\n",
    "scores = model.evaluate(x_test,y_test,verbose = 1)\n",
    "scores[1]"
   ]
  },
  {
   "cell_type": "code",
   "execution_count": 91,
   "id": "3378887b",
   "metadata": {},
   "outputs": [
    {
     "name": "stdout",
     "output_type": "stream",
     "text": [
      "782/782 [==============================] - 1s 1ms/step\n"
     ]
    }
   ],
   "source": [
    "#進行預測\n",
    "prediction = model.predict(x_test) #使用model.predict_classes進行預測\n",
    "classes_x=np.argmax(prediction,axis=1)"
   ]
  },
  {
   "cell_type": "code",
   "execution_count": 94,
   "id": "d3475b45",
   "metadata": {},
   "outputs": [
    {
     "data": {
      "text/plain": [
       "array([0, 0, 0, 0, 0, 0, 0, 0, 0, 0], dtype=int64)"
      ]
     },
     "execution_count": 94,
     "metadata": {},
     "output_type": "execute_result"
    }
   ],
   "source": [
    "classes_x[:10]"
   ]
  },
  {
   "cell_type": "code",
   "execution_count": 96,
   "id": "06157a98",
   "metadata": {},
   "outputs": [
    {
     "data": {
      "text/plain": [
       "array([0, 0, 0, 0, 0, 0, 0, 0, 0, 0], dtype=int64)"
      ]
     },
     "execution_count": 96,
     "metadata": {},
     "output_type": "execute_result"
    }
   ],
   "source": [
    "classes_x = classes_x.reshape(-1)\n",
    "classes_x[:10]"
   ]
  },
  {
   "cell_type": "code",
   "execution_count": 32,
   "id": "32aac4ed",
   "metadata": {},
   "outputs": [],
   "source": [
    "SentimentDict={1:'正面的',0:'負面的'}\n",
    "def display_test_Sentiment(i):\n",
    "    print(test_text[i])\n",
    "    print('label真實值:',SentimentDict[y_test[i]],'預測結果',SentimentDict[classes_x[i]])"
   ]
  },
  {
   "cell_type": "code",
   "execution_count": 33,
   "id": "ba29e638",
   "metadata": {},
   "outputs": [
    {
     "name": "stdout",
     "output_type": "stream",
     "text": [
      "As a recreational golfer with some knowledge of the sport's history, I was pleased with Disney's sensitivity to the issues of class in golf in the early twentieth century. The movie depicted well the psychological battles that Harry Vardon fought within himself, from his childhood trauma of being evicted to his own inability to break that glass ceiling that prevents him from being accepted as an equal in English golf society. Likewise, the young Ouimet goes through his own class struggles, being a mere caddie in the eyes of the upper crust Americans who scoff at his attempts to rise above his standing. What I loved best, however, is how this theme of class is manifested in the characters of Ouimet's parents. His father is a working-class drone who sees the value of hard work but is intimidated by the upper class; his mother, however, recognizes her son's talent and desire and encourages him to pursue his dream of competing against those who think he is inferior.Finally, the golf scenes are well photographed. Although the course used in the movie was not the actual site of the historical tournament, the little liberties taken by Disney do not detract from the beauty of the film. There's one little Disney moment at the pool table; otherwise, the viewer does not really think Disney. The ending, as in \"Miracle,\" is not some Disney creation, but one that only human history could have written.\n",
      "label真實值: 正面的 預測結果 負面的\n"
     ]
    }
   ],
   "source": [
    "display_test_Sentiment(2)"
   ]
  },
  {
   "cell_type": "code",
   "execution_count": 34,
   "id": "08f56219",
   "metadata": {},
   "outputs": [
    {
     "name": "stdout",
     "output_type": "stream",
     "text": [
      "First of all I hate those moronic rappers, who could'nt act if they had a gun pressed against their foreheads. All they do is curse and shoot each other and acting like cliché'e version of gangsters.The movie doesn't take more than five minutes to explain what is going on before we're already at the warehouse There is not a single sympathetic character in this movie, except for the homeless guy, who is also the only one with half a brain.Bill Paxton and William Sadler are both hill billies and Sadlers character is just as much a villain as the gangsters. I did'nt like him right from the start.The movie is filled with pointless violence and Walter Hills specialty: people falling through windows with glass flying everywhere. There is pretty much no plot and it is a big problem when you root for no-one. Everybody dies, except from Paxton and the homeless guy and everybody get what they deserve.The only two black people that can act is the homeless guy and the junkie but they're actors by profession, not annoying ugly brain dead rappers.Stay away from this crap and watch 48 hours 1 and 2 instead. At lest they have characters you care about, a sense of humor and nothing but real actors in the cast.\n",
      "label真實值: 負面的 預測結果 負面的\n"
     ]
    }
   ],
   "source": [
    "display_test_Sentiment(12502)"
   ]
  },
  {
   "cell_type": "markdown",
   "id": "1f52bfda",
   "metadata": {},
   "source": [
    "查看美女與野獸的影評"
   ]
  },
  {
   "cell_type": "code",
   "execution_count": 46,
   "id": "2098eb87",
   "metadata": {},
   "outputs": [],
   "source": [
    "input_text ='''A fabulous movie, I enjoyed every moment. So beautifully done that I would watch it again. It's a true musical as they used to be. I cried and laughed, it brought out many emotions. It's a great family film. The artistry and special effects make a great Disney style fantasy come to life. The music and songs were very pleasant in typical Disney fashion.'''"
   ]
  },
  {
   "cell_type": "code",
   "execution_count": 48,
   "id": "c84826d6",
   "metadata": {},
   "outputs": [],
   "source": [
    "#將影評轉換成數字list\n",
    "input_seq = token.texts_to_sequences([input_text])"
   ]
  },
  {
   "cell_type": "code",
   "execution_count": 49,
   "id": "51069741",
   "metadata": {},
   "outputs": [
    {
     "name": "stdout",
     "output_type": "stream",
     "text": [
      "[3, 16, 9, 506, 171, 557, 34, 1289, 220, 11, 9, 58, 102, 8, 170, 41, 3, 278, 618, 13, 32, 338, 5, 25, 9, 2, 1505, 8, 833, 42, 107, 1432, 41, 3, 84, 219, 18, 1, 2, 314, 297, 93, 3, 84, 909, 401, 935, 212, 5, 109, 1, 224, 2, 686, 67, 51, 7, 795, 909, 1596]\n"
     ]
    }
   ],
   "source": [
    "#查看數字list\n",
    "print(input_seq[0])"
   ]
  },
  {
   "cell_type": "code",
   "execution_count": 52,
   "id": "85a9c7b6",
   "metadata": {},
   "outputs": [
    {
     "data": {
      "text/plain": [
       "60"
      ]
     },
     "execution_count": 52,
     "metadata": {},
     "output_type": "execute_result"
    }
   ],
   "source": [
    "#查看list長度\n",
    "len(input_seq[0])"
   ]
  },
  {
   "cell_type": "code",
   "execution_count": 55,
   "id": "f44d3b91",
   "metadata": {},
   "outputs": [],
   "source": [
    "#將list截取長度為100\n",
    "pad_input_seq = pad_sequences(input_seq,maxlen=100)"
   ]
  },
  {
   "cell_type": "code",
   "execution_count": 56,
   "id": "c666ed0f",
   "metadata": {},
   "outputs": [
    {
     "data": {
      "text/plain": [
       "100"
      ]
     },
     "execution_count": 56,
     "metadata": {},
     "output_type": "execute_result"
    }
   ],
   "source": [
    "#查看長度\n",
    "len(pad_input_seq[0])"
   ]
  },
  {
   "cell_type": "code",
   "execution_count": 103,
   "id": "f4ea7cb6",
   "metadata": {},
   "outputs": [
    {
     "name": "stdout",
     "output_type": "stream",
     "text": [
      "1/1 [==============================] - 0s 18ms/step\n"
     ]
    }
   ],
   "source": [
    "predict_result = model.predict(pad_input_seq)\n",
    "classes_x = np.round(predict_result).astype(int)\n",
    "#classes_x=np.argmax(prediction,axis=-1)"
   ]
  },
  {
   "cell_type": "code",
   "execution_count": 104,
   "id": "7657922f",
   "metadata": {},
   "outputs": [
    {
     "data": {
      "text/plain": [
       "array([[1]])"
      ]
     },
     "execution_count": 104,
     "metadata": {},
     "output_type": "execute_result"
    }
   ],
   "source": [
    "classes_x"
   ]
  },
  {
   "cell_type": "code",
   "execution_count": 105,
   "id": "ce40f4d3",
   "metadata": {},
   "outputs": [
    {
     "data": {
      "text/plain": [
       "1"
      ]
     },
     "execution_count": 105,
     "metadata": {},
     "output_type": "execute_result"
    }
   ],
   "source": [
    "classes_x[0][0]"
   ]
  },
  {
   "cell_type": "code",
   "execution_count": 106,
   "id": "0dadde73",
   "metadata": {},
   "outputs": [
    {
     "data": {
      "text/plain": [
       "'正面的'"
      ]
     },
     "execution_count": 106,
     "metadata": {},
     "output_type": "execute_result"
    }
   ],
   "source": [
    "SentimentDict[classes_x[0][0]]"
   ]
  },
  {
   "cell_type": "code",
   "execution_count": 107,
   "id": "d4f0764a",
   "metadata": {},
   "outputs": [],
   "source": [
    "#把命令全部整理成predict_review()函數\n",
    "def predict_review(input_text):\n",
    "    input_seq = token.texts_to_sequences([input_text])\n",
    "    pad_input_seq = pad_sequences(input_seq,maxlen=100)\n",
    "    predict_result = model.predict(pad_input_seq)\n",
    "    classes_x = np.round(predict_result).astype(int)\n",
    "    print(SentimentDict[classes_x[0][0]])"
   ]
  },
  {
   "cell_type": "code",
   "execution_count": 108,
   "id": "aaa508e0",
   "metadata": {},
   "outputs": [
    {
     "name": "stdout",
     "output_type": "stream",
     "text": [
      "1/1 [==============================] - 0s 19ms/step\n",
      "負面的\n"
     ]
    }
   ],
   "source": [
    "predict_review('''I must say, Disney seems to be putting out live action movies of their successful cartoons just for the sake of putting out live action movies! I guess corporate thinking is the initial buzz will make it money on the first weekend! This is the worst of the live actions, the acting is boring, the story mundane, I do not care about the characters at all, it seems it's just made to show how cool Disney can use special effects! If you like the story, stick to the original cartoon!''')"
   ]
  },
  {
   "cell_type": "code",
   "execution_count": 109,
   "id": "ec4f5d90",
   "metadata": {},
   "outputs": [
    {
     "name": "stdout",
     "output_type": "stream",
     "text": [
      "1/1 [==============================] - 0s 19ms/step\n",
      "正面的\n"
     ]
    }
   ],
   "source": [
    "predict_review('''I think this movie was watchable but I also think that this movie was unnecessary because the original was so much better. Disney was smart to cast Emma Watson as Belle, not because she was perfect for the role but they knew she was popular. I don't think she is a good actor, she works well as Hermione in the Harry Potter movie series but that's because she was just playing herself. Here she needed to be kind, humble and sweet and I don't think her version of Belle was any of that. Her singing wasn't up to par either, there was a lot of auto tuning going on with her songs.\n",
    "\n",
    "But Disney is the master of making beautiful movies and this was no exception. But like I said, this movie was unnecessary.''')"
   ]
  },
  {
   "cell_type": "code",
   "execution_count": null,
   "id": "6a81bccd",
   "metadata": {},
   "outputs": [],
   "source": []
  }
 ],
 "metadata": {
  "kernelspec": {
   "display_name": "Python 3 (ipykernel)",
   "language": "python",
   "name": "python3"
  },
  "language_info": {
   "codemirror_mode": {
    "name": "ipython",
    "version": 3
   },
   "file_extension": ".py",
   "mimetype": "text/x-python",
   "name": "python",
   "nbconvert_exporter": "python",
   "pygments_lexer": "ipython3",
   "version": "3.9.13"
  }
 },
 "nbformat": 4,
 "nbformat_minor": 5
}
