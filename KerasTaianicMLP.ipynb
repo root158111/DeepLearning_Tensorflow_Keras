{
 "cells": [
  {
   "cell_type": "code",
   "execution_count": 2,
   "id": "31f6f514",
   "metadata": {},
   "outputs": [],
   "source": [
    "import numpy\n",
    "import pandas as pd\n",
    "from sklearn import preprocessing\n",
    "numpy.random.seed(10)"
   ]
  },
  {
   "cell_type": "code",
   "execution_count": 3,
   "id": "ed28990e",
   "metadata": {},
   "outputs": [],
   "source": [
    "#讀取資料\n",
    "all_df = pd.read_excel(\"C:/Users/USER/PythonWork/titanic3.xls\")"
   ]
  },
  {
   "cell_type": "code",
   "execution_count": 4,
   "id": "89981c07",
   "metadata": {},
   "outputs": [],
   "source": [
    "#選取需要的欄位至dataframe\n",
    "cols=['survived','name','pclass','sex','age','sibsp','parch','fare','embarked']\n",
    "all_df = all_df[cols]"
   ]
  },
  {
   "cell_type": "code",
   "execution_count": 5,
   "id": "2248dd5c",
   "metadata": {},
   "outputs": [],
   "source": [
    "#依照8:2的比例將資料分為訓練資料與測試資料\n",
    "msk = numpy.random.rand(len(all_df)) < 0.8\n",
    "\n",
    "train_df = all_df[msk] #產生訓練資料，為全部資料的80%\n",
    "test_df = all_df[~msk] #產生測試資料，為全部資料的20%"
   ]
  },
  {
   "cell_type": "code",
   "execution_count": 6,
   "id": "d0c9b90e",
   "metadata": {},
   "outputs": [
    {
     "name": "stdout",
     "output_type": "stream",
     "text": [
      "total: 1309 train: 1034 test: 275\n"
     ]
    }
   ],
   "source": [
    "#顯示訓練資料與測試資料筆數\n",
    "print('total:',len(all_df),\n",
    "      'train:',len(train_df),\n",
    "      'test:',len(test_df)\n",
    "     )"
   ]
  },
  {
   "cell_type": "code",
   "execution_count": 7,
   "id": "914028ce",
   "metadata": {},
   "outputs": [],
   "source": [
    "#建立PreprocessData函數進行資料的預處理\n",
    "def PreprocessData(raw_df):\n",
    "    df=raw_df.drop(['name'], axis=1)\n",
    "    age_mean = df['age'].mean()\n",
    "    df['age'] = df['age'].fillna(age_mean)\n",
    "    fare_mean = df['fare'].mean()\n",
    "    df['fare'] = df['fare'].fillna(fare_mean)\n",
    "    df['sex']= df['sex'].map({'female':0, 'male': 1}).astype(int)\n",
    "    x_OneHot_df = pd.get_dummies(data=df,columns=[\"embarked\" ])\n",
    "\n",
    "    ndarray = x_OneHot_df.values\n",
    "    Features = ndarray[:,1:]\n",
    "    Label = ndarray[:,0]\n",
    "\n",
    "    minmax_scale = preprocessing.MinMaxScaler(feature_range=(0, 1))\n",
    "    scaledFeatures=minmax_scale.fit_transform(Features)    \n",
    "    \n",
    "    return scaledFeatures,Label"
   ]
  },
  {
   "cell_type": "code",
   "execution_count": 8,
   "id": "026ab089",
   "metadata": {},
   "outputs": [],
   "source": [
    "#將資料進行預處理\n",
    "train_Features,train_Label=PreprocessData(train_df)\n",
    "test_Features,test_Label=PreprocessData(test_df)"
   ]
  },
  {
   "cell_type": "code",
   "execution_count": 9,
   "id": "af6475f6",
   "metadata": {},
   "outputs": [],
   "source": [
    "#匯入模組\n",
    "from keras.models import Sequential\n",
    "from keras.layers import Dense,Dropout"
   ]
  },
  {
   "cell_type": "code",
   "execution_count": 10,
   "id": "09211096",
   "metadata": {},
   "outputs": [],
   "source": [
    "#建立模型\n",
    "model = Sequential()"
   ]
  },
  {
   "cell_type": "code",
   "execution_count": 11,
   "id": "f6f0a01b",
   "metadata": {},
   "outputs": [],
   "source": [
    "#建立輸入層與隱藏層1\n",
    "model.add(Dense(units=40,                     #輸出是隱藏層1共有40個神經元\n",
    "                input_dim = 9,                #輸入層9個神經元，因為資料預處理後有9個特徵\n",
    "                kernel_initializer='uniform', #使用uniform distribution分布的亂數，初始化weight與bias\n",
    "                activation='relu'             #設定ReLU激活函數\n",
    "               ))"
   ]
  },
  {
   "cell_type": "code",
   "execution_count": 12,
   "id": "8500457c",
   "metadata": {},
   "outputs": [],
   "source": [
    "#建立隱藏層2\n",
    "model.add(Dense(units=30,         #輸出是隱藏層1共有30個神經元                        \n",
    "                kernel_initializer='uniform',\n",
    "                activation='relu'            \n",
    "               ))"
   ]
  },
  {
   "cell_type": "code",
   "execution_count": 13,
   "id": "b031fd95",
   "metadata": {},
   "outputs": [],
   "source": [
    "#建立輸出層\n",
    "model.add(Dense(units=1, \n",
    "                kernel_initializer='uniform',\n",
    "                activation='sigmoid'#設定sigmoid激活函數\n",
    "               ))"
   ]
  },
  {
   "cell_type": "code",
   "execution_count": 14,
   "id": "b25dc874",
   "metadata": {},
   "outputs": [],
   "source": [
    "#定義訓練方式\n",
    "model.compile(\n",
    "    loss='binary_crossentropy',     #設定損失函數\n",
    "    optimizer='adam',               #設定訓練最優化方法\n",
    "    metrics=['accuracy']            #評估模型的方式是accuracy準確率\n",
    ")"
   ]
  },
  {
   "cell_type": "code",
   "execution_count": 15,
   "id": "e8743f52",
   "metadata": {},
   "outputs": [
    {
     "name": "stdout",
     "output_type": "stream",
     "text": [
      "Epoch 1/30\n",
      "31/31 - 1s - loss: 0.6893 - accuracy: 0.5688 - val_loss: 0.6672 - val_accuracy: 0.7885 - 820ms/epoch - 26ms/step\n",
      "Epoch 2/30\n",
      "31/31 - 0s - loss: 0.6631 - accuracy: 0.5925 - val_loss: 0.5695 - val_accuracy: 0.7885 - 59ms/epoch - 2ms/step\n",
      "Epoch 3/30\n",
      "31/31 - 0s - loss: 0.6081 - accuracy: 0.6559 - val_loss: 0.4888 - val_accuracy: 0.8077 - 56ms/epoch - 2ms/step\n",
      "Epoch 4/30\n",
      "31/31 - 0s - loss: 0.5592 - accuracy: 0.7559 - val_loss: 0.4624 - val_accuracy: 0.7596 - 58ms/epoch - 2ms/step\n",
      "Epoch 5/30\n",
      "31/31 - 0s - loss: 0.5237 - accuracy: 0.7656 - val_loss: 0.4486 - val_accuracy: 0.7500 - 56ms/epoch - 2ms/step\n",
      "Epoch 6/30\n",
      "31/31 - 0s - loss: 0.5058 - accuracy: 0.7634 - val_loss: 0.4475 - val_accuracy: 0.7788 - 57ms/epoch - 2ms/step\n",
      "Epoch 7/30\n",
      "31/31 - 0s - loss: 0.4934 - accuracy: 0.7645 - val_loss: 0.4571 - val_accuracy: 0.7885 - 57ms/epoch - 2ms/step\n",
      "Epoch 8/30\n",
      "31/31 - 0s - loss: 0.4879 - accuracy: 0.7656 - val_loss: 0.4405 - val_accuracy: 0.7692 - 57ms/epoch - 2ms/step\n",
      "Epoch 9/30\n",
      "31/31 - 0s - loss: 0.4835 - accuracy: 0.7570 - val_loss: 0.4365 - val_accuracy: 0.7692 - 57ms/epoch - 2ms/step\n",
      "Epoch 10/30\n",
      "31/31 - 0s - loss: 0.4798 - accuracy: 0.7634 - val_loss: 0.4476 - val_accuracy: 0.7981 - 55ms/epoch - 2ms/step\n",
      "Epoch 11/30\n",
      "31/31 - 0s - loss: 0.4774 - accuracy: 0.7645 - val_loss: 0.4353 - val_accuracy: 0.7788 - 60ms/epoch - 2ms/step\n",
      "Epoch 12/30\n",
      "31/31 - 0s - loss: 0.4746 - accuracy: 0.7699 - val_loss: 0.4468 - val_accuracy: 0.7981 - 59ms/epoch - 2ms/step\n",
      "Epoch 13/30\n",
      "31/31 - 0s - loss: 0.4761 - accuracy: 0.7699 - val_loss: 0.4251 - val_accuracy: 0.7981 - 60ms/epoch - 2ms/step\n",
      "Epoch 14/30\n",
      "31/31 - 0s - loss: 0.4714 - accuracy: 0.7677 - val_loss: 0.4305 - val_accuracy: 0.7788 - 59ms/epoch - 2ms/step\n",
      "Epoch 15/30\n",
      "31/31 - 0s - loss: 0.4740 - accuracy: 0.7710 - val_loss: 0.4422 - val_accuracy: 0.7981 - 59ms/epoch - 2ms/step\n",
      "Epoch 16/30\n",
      "31/31 - 0s - loss: 0.4684 - accuracy: 0.7742 - val_loss: 0.4280 - val_accuracy: 0.7788 - 59ms/epoch - 2ms/step\n",
      "Epoch 17/30\n",
      "31/31 - 0s - loss: 0.4670 - accuracy: 0.7882 - val_loss: 0.4436 - val_accuracy: 0.7981 - 56ms/epoch - 2ms/step\n",
      "Epoch 18/30\n",
      "31/31 - 0s - loss: 0.4708 - accuracy: 0.7731 - val_loss: 0.4291 - val_accuracy: 0.7788 - 60ms/epoch - 2ms/step\n",
      "Epoch 19/30\n",
      "31/31 - 0s - loss: 0.4646 - accuracy: 0.7699 - val_loss: 0.4237 - val_accuracy: 0.7885 - 60ms/epoch - 2ms/step\n",
      "Epoch 20/30\n",
      "31/31 - 0s - loss: 0.4646 - accuracy: 0.7839 - val_loss: 0.4209 - val_accuracy: 0.8173 - 58ms/epoch - 2ms/step\n",
      "Epoch 21/30\n",
      "31/31 - 0s - loss: 0.4640 - accuracy: 0.7839 - val_loss: 0.4333 - val_accuracy: 0.7788 - 59ms/epoch - 2ms/step\n",
      "Epoch 22/30\n",
      "31/31 - 0s - loss: 0.4615 - accuracy: 0.7785 - val_loss: 0.4246 - val_accuracy: 0.7788 - 59ms/epoch - 2ms/step\n",
      "Epoch 23/30\n",
      "31/31 - 0s - loss: 0.4624 - accuracy: 0.7828 - val_loss: 0.4208 - val_accuracy: 0.8173 - 59ms/epoch - 2ms/step\n",
      "Epoch 24/30\n",
      "31/31 - 0s - loss: 0.4614 - accuracy: 0.7849 - val_loss: 0.4226 - val_accuracy: 0.7885 - 59ms/epoch - 2ms/step\n",
      "Epoch 25/30\n",
      "31/31 - 0s - loss: 0.4595 - accuracy: 0.7817 - val_loss: 0.4197 - val_accuracy: 0.8173 - 58ms/epoch - 2ms/step\n",
      "Epoch 26/30\n",
      "31/31 - 0s - loss: 0.4587 - accuracy: 0.7871 - val_loss: 0.4336 - val_accuracy: 0.7788 - 60ms/epoch - 2ms/step\n",
      "Epoch 27/30\n",
      "31/31 - 0s - loss: 0.4582 - accuracy: 0.7925 - val_loss: 0.4236 - val_accuracy: 0.7885 - 60ms/epoch - 2ms/step\n",
      "Epoch 28/30\n",
      "31/31 - 0s - loss: 0.4553 - accuracy: 0.7817 - val_loss: 0.4197 - val_accuracy: 0.8173 - 58ms/epoch - 2ms/step\n",
      "Epoch 29/30\n",
      "31/31 - 0s - loss: 0.4591 - accuracy: 0.7774 - val_loss: 0.4220 - val_accuracy: 0.8173 - 57ms/epoch - 2ms/step\n",
      "Epoch 30/30\n",
      "31/31 - 0s - loss: 0.4541 - accuracy: 0.7871 - val_loss: 0.4256 - val_accuracy: 0.8077 - 59ms/epoch - 2ms/step\n"
     ]
    }
   ],
   "source": [
    "#開始訓練\n",
    "train_history = model.fit(\n",
    "    x=train_Features,       #features共9個特徵欄位\n",
    "    y=train_Label,          #label標籤欄位(是否生存?是:1,否:0)\n",
    "    validation_split=0.1,   #設定訓練與驗證資料比例 90%訓練資料 10%驗證資料\n",
    "    epochs=30,\n",
    "    batch_size = 30,\n",
    "    verbose=2               #0:安靜模式，1:進度條，2:每輪一行\n",
    ")"
   ]
  },
  {
   "cell_type": "code",
   "execution_count": 16,
   "id": "834b5032",
   "metadata": {},
   "outputs": [],
   "source": [
    "import matplotlib.pyplot as plt\n",
    "def show_train_history(train_history,train,validation):\n",
    "    plt.plot(train_history.history[train])\n",
    "    plt.plot(train_history.history[validation])\n",
    "    plt.title('Train History')\n",
    "    plt.ylabel(train)\n",
    "    plt.xlabel('Epoch')\n",
    "    plt.legend(['train', 'validation'], loc='upper left')\n",
    "    plt.show()"
   ]
  },
  {
   "cell_type": "code",
   "execution_count": 17,
   "id": "8263bc80",
   "metadata": {},
   "outputs": [
    {
     "data": {
      "image/png": "[encoded data removed]",
      "text/plain": [
       "<Figure size 640x480 with 1 Axes>"
      ]
     },
     "metadata": {},
     "output_type": "display_data"
    }
   ],
   "source": [
    "#畫出accuracy執行結果\n",
    "show_train_history(train_history,'accuracy','val_accuracy')"
   ]
  },
  {
   "cell_type": "code",
   "execution_count": 19,
   "id": "e965a22d",
   "metadata": {},
   "outputs": [
    {
     "data": {
      "image/png": "[encoded data removed]",
      "text/plain": [
       "<Figure size 640x480 with 1 Axes>"
      ]
     },
     "metadata": {},
     "output_type": "display_data"
    }
   ],
   "source": [
    "#畫出loss誤差執行結果\n",
    "show_train_history(train_history,'loss','val_loss')"
   ]
  },
  {
   "cell_type": "code",
   "execution_count": 21,
   "id": "3c948433",
   "metadata": {},
   "outputs": [
    {
     "name": "stdout",
     "output_type": "stream",
     "text": [
      "9/9 [==============================] - 0s 1ms/step - loss: 0.4477 - accuracy: 0.8000\n"
     ]
    }
   ],
   "source": [
    "#評估模型準確率\n",
    "scores = model.evaluate(x=test_Features , y=test_Label)"
   ]
  },
  {
   "cell_type": "code",
   "execution_count": 23,
   "id": "7ec0bc51",
   "metadata": {},
   "outputs": [
    {
     "data": {
      "text/plain": [
       "0.800000011920929"
      ]
     },
     "execution_count": 23,
     "metadata": {},
     "output_type": "execute_result"
    }
   ],
   "source": [
    "scores[1]"
   ]
  },
  {
   "cell_type": "code",
   "execution_count": 24,
   "id": "0a59e303",
   "metadata": {},
   "outputs": [],
   "source": [
    "#加入電影Jack、Rose的資料\n",
    "Jack = pd.Series([0,'Jack',3,'male',23,1,0,5.0000,'S'])\n",
    "Rose = pd.Series([1,'Rose',1,'female',20,1,0,100.0000,'S'])"
   ]
  },
  {
   "cell_type": "code",
   "execution_count": 25,
   "id": "63ba710c",
   "metadata": {},
   "outputs": [],
   "source": [
    "#建立Jack與Rose的dataframe\n",
    "JR_df = pd.DataFrame([list(Jack),list(Rose)],\n",
    "                     columns = ['survived','name','pclass','sex','age','sibsp','parch','fare','embarked']\n",
    "                    )"
   ]
  },
  {
   "cell_type": "code",
   "execution_count": 26,
   "id": "b0edde47",
   "metadata": {},
   "outputs": [],
   "source": [
    "#將JR_df加入all_df\n",
    "all_df = pd.concat([all_df,JR_df])"
   ]
  },
  {
   "cell_type": "code",
   "execution_count": 27,
   "id": "2f86ded0",
   "metadata": {},
   "outputs": [
    {
     "data": {
      "text/html": [
       "<div>\n",
       "<style scoped>\n",
       "    .dataframe tbody tr th:only-of-type {\n",
       "        vertical-align: middle;\n",
       "    }\n",
       "\n",
       "    .dataframe tbody tr th {\n",
       "        vertical-align: top;\n",
       "    }\n",
       "\n",
       "    .dataframe thead th {\n",
       "        text-align: right;\n",
       "    }\n",
       "</style>\n",
       "<table border=\"1\" class=\"dataframe\">\n",
       "  <thead>\n",
       "    <tr style=\"text-align: right;\">\n",
       "      <th></th>\n",
       "      <th>survived</th>\n",
       "      <th>name</th>\n",
       "      <th>pclass</th>\n",
       "      <th>sex</th>\n",
       "      <th>age</th>\n",
       "      <th>sibsp</th>\n",
       "      <th>parch</th>\n",
       "      <th>fare</th>\n",
       "      <th>embarked</th>\n",
       "    </tr>\n",
       "  </thead>\n",
       "  <tbody>\n",
       "    <tr>\n",
       "      <th>0</th>\n",
       "      <td>0</td>\n",
       "      <td>Jack</td>\n",
       "      <td>3</td>\n",
       "      <td>male</td>\n",
       "      <td>23.0</td>\n",
       "      <td>1</td>\n",
       "      <td>0</td>\n",
       "      <td>5.0</td>\n",
       "      <td>S</td>\n",
       "    </tr>\n",
       "    <tr>\n",
       "      <th>1</th>\n",
       "      <td>1</td>\n",
       "      <td>Rose</td>\n",
       "      <td>1</td>\n",
       "      <td>female</td>\n",
       "      <td>20.0</td>\n",
       "      <td>1</td>\n",
       "      <td>0</td>\n",
       "      <td>100.0</td>\n",
       "      <td>S</td>\n",
       "    </tr>\n",
       "  </tbody>\n",
       "</table>\n",
       "</div>"
      ],
      "text/plain": [
       "   survived  name  pclass     sex   age  sibsp  parch   fare embarked\n",
       "0         0  Jack       3    male  23.0      1      0    5.0        S\n",
       "1         1  Rose       1  female  20.0      1      0  100.0        S"
      ]
     },
     "execution_count": 27,
     "metadata": {},
     "output_type": "execute_result"
    }
   ],
   "source": [
    "#查看all_df最後2筆資料\n",
    "all_df[-2:]"
   ]
  },
  {
   "cell_type": "code",
   "execution_count": 28,
   "id": "2178d4f9",
   "metadata": {},
   "outputs": [],
   "source": [
    "#因為Jack與Rose的資料是後來才加入的，所以必須再次執行資料預處理\n",
    "all_Features,Label=PreprocessData(all_df)"
   ]
  },
  {
   "cell_type": "code",
   "execution_count": 29,
   "id": "f3307d36",
   "metadata": {},
   "outputs": [
    {
     "name": "stdout",
     "output_type": "stream",
     "text": [
      "41/41 [==============================] - 0s 927us/step\n"
     ]
    }
   ],
   "source": [
    "#執行預測\n",
    "all_probability = model.predict(all_Features)"
   ]
  },
  {
   "cell_type": "code",
   "execution_count": 30,
   "id": "990d4ab2",
   "metadata": {},
   "outputs": [
    {
     "data": {
      "text/plain": [
       "array([[0.95328164],\n",
       "       [0.61716974],\n",
       "       [0.95167357],\n",
       "       [0.41537896],\n",
       "       [0.9487297 ],\n",
       "       [0.2873121 ],\n",
       "       [0.8942316 ],\n",
       "       [0.33917287],\n",
       "       [0.89146614],\n",
       "       [0.3147911 ]], dtype=float32)"
      ]
     },
     "execution_count": 30,
     "metadata": {},
     "output_type": "execute_result"
    }
   ],
   "source": [
    "#每一位旅客的生存機率\n",
    "all_probability[:10]"
   ]
  },
  {
   "cell_type": "code",
   "execution_count": 31,
   "id": "5230dc38",
   "metadata": {},
   "outputs": [],
   "source": [
    "#將all_df與all_probability整合\n",
    "pd = all_df\n",
    "pd.insert(len(all_df.columns),'probability',all_probability)"
   ]
  },
  {
   "cell_type": "code",
   "execution_count": 33,
   "id": "8632d556",
   "metadata": {},
   "outputs": [
    {
     "data": {
      "text/html": [
       "<div>\n",
       "<style scoped>\n",
       "    .dataframe tbody tr th:only-of-type {\n",
       "        vertical-align: middle;\n",
       "    }\n",
       "\n",
       "    .dataframe tbody tr th {\n",
       "        vertical-align: top;\n",
       "    }\n",
       "\n",
       "    .dataframe thead th {\n",
       "        text-align: right;\n",
       "    }\n",
       "</style>\n",
       "<table border=\"1\" class=\"dataframe\">\n",
       "  <thead>\n",
       "    <tr style=\"text-align: right;\">\n",
       "      <th></th>\n",
       "      <th>survived</th>\n",
       "      <th>name</th>\n",
       "      <th>pclass</th>\n",
       "      <th>sex</th>\n",
       "      <th>age</th>\n",
       "      <th>sibsp</th>\n",
       "      <th>parch</th>\n",
       "      <th>fare</th>\n",
       "      <th>embarked</th>\n",
       "      <th>probability</th>\n",
       "    </tr>\n",
       "  </thead>\n",
       "  <tbody>\n",
       "    <tr>\n",
       "      <th>0</th>\n",
       "      <td>0</td>\n",
       "      <td>Jack</td>\n",
       "      <td>3</td>\n",
       "      <td>male</td>\n",
       "      <td>23.0</td>\n",
       "      <td>1</td>\n",
       "      <td>0</td>\n",
       "      <td>5.0</td>\n",
       "      <td>S</td>\n",
       "      <td>0.129821</td>\n",
       "    </tr>\n",
       "    <tr>\n",
       "      <th>1</th>\n",
       "      <td>1</td>\n",
       "      <td>Rose</td>\n",
       "      <td>1</td>\n",
       "      <td>female</td>\n",
       "      <td>20.0</td>\n",
       "      <td>1</td>\n",
       "      <td>0</td>\n",
       "      <td>100.0</td>\n",
       "      <td>S</td>\n",
       "      <td>0.939755</td>\n",
       "    </tr>\n",
       "  </tbody>\n",
       "</table>\n",
       "</div>"
      ],
      "text/plain": [
       "   survived  name  pclass     sex   age  sibsp  parch   fare embarked  \\\n",
       "0         0  Jack       3    male  23.0      1      0    5.0        S   \n",
       "1         1  Rose       1  female  20.0      1      0  100.0        S   \n",
       "\n",
       "   probability  \n",
       "0     0.129821  \n",
       "1     0.939755  "
      ]
     },
     "execution_count": 33,
     "metadata": {},
     "output_type": "execute_result"
    }
   ],
   "source": [
    "#查看Jack與Rose的生存機率\n",
    "pd[-2:]"
   ]
  },
  {
   "cell_type": "code",
   "execution_count": 34,
   "id": "2fa6d059",
   "metadata": {},
   "outputs": [
    {
     "data": {
      "text/html": [
       "<div>\n",
       "<style scoped>\n",
       "    .dataframe tbody tr th:only-of-type {\n",
       "        vertical-align: middle;\n",
       "    }\n",
       "\n",
       "    .dataframe tbody tr th {\n",
       "        vertical-align: top;\n",
       "    }\n",
       "\n",
       "    .dataframe thead th {\n",
       "        text-align: right;\n",
       "    }\n",
       "</style>\n",
       "<table border=\"1\" class=\"dataframe\">\n",
       "  <thead>\n",
       "    <tr style=\"text-align: right;\">\n",
       "      <th></th>\n",
       "      <th>survived</th>\n",
       "      <th>name</th>\n",
       "      <th>pclass</th>\n",
       "      <th>sex</th>\n",
       "      <th>age</th>\n",
       "      <th>sibsp</th>\n",
       "      <th>parch</th>\n",
       "      <th>fare</th>\n",
       "      <th>embarked</th>\n",
       "      <th>probability</th>\n",
       "    </tr>\n",
       "  </thead>\n",
       "  <tbody>\n",
       "    <tr>\n",
       "      <th>2</th>\n",
       "      <td>0</td>\n",
       "      <td>Allison, Miss. Helen Loraine</td>\n",
       "      <td>1</td>\n",
       "      <td>female</td>\n",
       "      <td>2.0</td>\n",
       "      <td>1</td>\n",
       "      <td>2</td>\n",
       "      <td>151.5500</td>\n",
       "      <td>S</td>\n",
       "      <td>0.951674</td>\n",
       "    </tr>\n",
       "    <tr>\n",
       "      <th>4</th>\n",
       "      <td>0</td>\n",
       "      <td>Allison, Mrs. Hudson J C (Bessie Waldo Daniels)</td>\n",
       "      <td>1</td>\n",
       "      <td>female</td>\n",
       "      <td>25.0</td>\n",
       "      <td>1</td>\n",
       "      <td>2</td>\n",
       "      <td>151.5500</td>\n",
       "      <td>S</td>\n",
       "      <td>0.948730</td>\n",
       "    </tr>\n",
       "    <tr>\n",
       "      <th>105</th>\n",
       "      <td>0</td>\n",
       "      <td>Evans, Miss. Edith Corse</td>\n",
       "      <td>1</td>\n",
       "      <td>female</td>\n",
       "      <td>36.0</td>\n",
       "      <td>0</td>\n",
       "      <td>0</td>\n",
       "      <td>31.6792</td>\n",
       "      <td>C</td>\n",
       "      <td>0.954560</td>\n",
       "    </tr>\n",
       "    <tr>\n",
       "      <th>169</th>\n",
       "      <td>0</td>\n",
       "      <td>Isham, Miss. Ann Elizabeth</td>\n",
       "      <td>1</td>\n",
       "      <td>female</td>\n",
       "      <td>50.0</td>\n",
       "      <td>0</td>\n",
       "      <td>0</td>\n",
       "      <td>28.7125</td>\n",
       "      <td>C</td>\n",
       "      <td>0.952290</td>\n",
       "    </tr>\n",
       "    <tr>\n",
       "      <th>286</th>\n",
       "      <td>0</td>\n",
       "      <td>Straus, Mrs. Isidor (Rosalie Ida Blun)</td>\n",
       "      <td>1</td>\n",
       "      <td>female</td>\n",
       "      <td>63.0</td>\n",
       "      <td>1</td>\n",
       "      <td>0</td>\n",
       "      <td>221.7792</td>\n",
       "      <td>S</td>\n",
       "      <td>0.922689</td>\n",
       "    </tr>\n",
       "  </tbody>\n",
       "</table>\n",
       "</div>"
      ],
      "text/plain": [
       "     survived                                             name  pclass  \\\n",
       "2           0                     Allison, Miss. Helen Loraine       1   \n",
       "4           0  Allison, Mrs. Hudson J C (Bessie Waldo Daniels)       1   \n",
       "105         0                         Evans, Miss. Edith Corse       1   \n",
       "169         0                       Isham, Miss. Ann Elizabeth       1   \n",
       "286         0           Straus, Mrs. Isidor (Rosalie Ida Blun)       1   \n",
       "\n",
       "        sex   age  sibsp  parch      fare embarked  probability  \n",
       "2    female   2.0      1      2  151.5500        S     0.951674  \n",
       "4    female  25.0      1      2  151.5500        S     0.948730  \n",
       "105  female  36.0      0      0   31.6792        C     0.954560  \n",
       "169  female  50.0      0      0   28.7125        C     0.952290  \n",
       "286  female  63.0      1      0  221.7792        S     0.922689  "
      ]
     },
     "execution_count": 34,
     "metadata": {},
     "output_type": "execute_result"
    }
   ],
   "source": [
    "#pandas應用\n",
    "pd[(pd['survived']==0)&(pd['probability']>0.9)]"
   ]
  },
  {
   "cell_type": "code",
   "execution_count": 35,
   "id": "ea062ece",
   "metadata": {},
   "outputs": [
    {
     "data": {
      "text/html": [
       "<div>\n",
       "<style scoped>\n",
       "    .dataframe tbody tr th:only-of-type {\n",
       "        vertical-align: middle;\n",
       "    }\n",
       "\n",
       "    .dataframe tbody tr th {\n",
       "        vertical-align: top;\n",
       "    }\n",
       "\n",
       "    .dataframe thead th {\n",
       "        text-align: right;\n",
       "    }\n",
       "</style>\n",
       "<table border=\"1\" class=\"dataframe\">\n",
       "  <thead>\n",
       "    <tr style=\"text-align: right;\">\n",
       "      <th></th>\n",
       "      <th>survived</th>\n",
       "      <th>name</th>\n",
       "      <th>pclass</th>\n",
       "      <th>sex</th>\n",
       "      <th>age</th>\n",
       "      <th>sibsp</th>\n",
       "      <th>parch</th>\n",
       "      <th>fare</th>\n",
       "      <th>embarked</th>\n",
       "      <th>probability</th>\n",
       "    </tr>\n",
       "  </thead>\n",
       "  <tbody>\n",
       "    <tr>\n",
       "      <th>5</th>\n",
       "      <td>1</td>\n",
       "      <td>Anderson, Mr. Harry</td>\n",
       "      <td>1</td>\n",
       "      <td>male</td>\n",
       "      <td>48.0</td>\n",
       "      <td>0</td>\n",
       "      <td>0</td>\n",
       "      <td>26.5500</td>\n",
       "      <td>S</td>\n",
       "      <td>0.287312</td>\n",
       "    </tr>\n",
       "    <tr>\n",
       "      <th>6</th>\n",
       "      <td>1</td>\n",
       "      <td>Andrews, Miss. Kornelia Theodosia</td>\n",
       "      <td>1</td>\n",
       "      <td>female</td>\n",
       "      <td>63.0</td>\n",
       "      <td>1</td>\n",
       "      <td>0</td>\n",
       "      <td>77.9583</td>\n",
       "      <td>S</td>\n",
       "      <td>0.894232</td>\n",
       "    </tr>\n",
       "    <tr>\n",
       "      <th>7</th>\n",
       "      <td>0</td>\n",
       "      <td>Andrews, Mr. Thomas Jr</td>\n",
       "      <td>1</td>\n",
       "      <td>male</td>\n",
       "      <td>39.0</td>\n",
       "      <td>0</td>\n",
       "      <td>0</td>\n",
       "      <td>0.0000</td>\n",
       "      <td>S</td>\n",
       "      <td>0.339173</td>\n",
       "    </tr>\n",
       "    <tr>\n",
       "      <th>8</th>\n",
       "      <td>1</td>\n",
       "      <td>Appleton, Mrs. Edward Dale (Charlotte Lamson)</td>\n",
       "      <td>1</td>\n",
       "      <td>female</td>\n",
       "      <td>53.0</td>\n",
       "      <td>2</td>\n",
       "      <td>0</td>\n",
       "      <td>51.4792</td>\n",
       "      <td>S</td>\n",
       "      <td>0.891466</td>\n",
       "    </tr>\n",
       "    <tr>\n",
       "      <th>9</th>\n",
       "      <td>0</td>\n",
       "      <td>Artagaveytia, Mr. Ramon</td>\n",
       "      <td>1</td>\n",
       "      <td>male</td>\n",
       "      <td>71.0</td>\n",
       "      <td>0</td>\n",
       "      <td>0</td>\n",
       "      <td>49.5042</td>\n",
       "      <td>C</td>\n",
       "      <td>0.314791</td>\n",
       "    </tr>\n",
       "    <tr>\n",
       "      <th>...</th>\n",
       "      <td>...</td>\n",
       "      <td>...</td>\n",
       "      <td>...</td>\n",
       "      <td>...</td>\n",
       "      <td>...</td>\n",
       "      <td>...</td>\n",
       "      <td>...</td>\n",
       "      <td>...</td>\n",
       "      <td>...</td>\n",
       "      <td>...</td>\n",
       "    </tr>\n",
       "    <tr>\n",
       "      <th>1306</th>\n",
       "      <td>0</td>\n",
       "      <td>Zakarian, Mr. Mapriededer</td>\n",
       "      <td>3</td>\n",
       "      <td>male</td>\n",
       "      <td>26.5</td>\n",
       "      <td>0</td>\n",
       "      <td>0</td>\n",
       "      <td>7.2250</td>\n",
       "      <td>C</td>\n",
       "      <td>0.246062</td>\n",
       "    </tr>\n",
       "    <tr>\n",
       "      <th>1307</th>\n",
       "      <td>0</td>\n",
       "      <td>Zakarian, Mr. Ortin</td>\n",
       "      <td>3</td>\n",
       "      <td>male</td>\n",
       "      <td>27.0</td>\n",
       "      <td>0</td>\n",
       "      <td>0</td>\n",
       "      <td>7.2250</td>\n",
       "      <td>C</td>\n",
       "      <td>0.243736</td>\n",
       "    </tr>\n",
       "    <tr>\n",
       "      <th>1308</th>\n",
       "      <td>0</td>\n",
       "      <td>Zimmerman, Mr. Leo</td>\n",
       "      <td>3</td>\n",
       "      <td>male</td>\n",
       "      <td>29.0</td>\n",
       "      <td>0</td>\n",
       "      <td>0</td>\n",
       "      <td>7.8750</td>\n",
       "      <td>S</td>\n",
       "      <td>0.131687</td>\n",
       "    </tr>\n",
       "    <tr>\n",
       "      <th>0</th>\n",
       "      <td>0</td>\n",
       "      <td>Jack</td>\n",
       "      <td>3</td>\n",
       "      <td>male</td>\n",
       "      <td>23.0</td>\n",
       "      <td>1</td>\n",
       "      <td>0</td>\n",
       "      <td>5.0000</td>\n",
       "      <td>S</td>\n",
       "      <td>0.129821</td>\n",
       "    </tr>\n",
       "    <tr>\n",
       "      <th>1</th>\n",
       "      <td>1</td>\n",
       "      <td>Rose</td>\n",
       "      <td>1</td>\n",
       "      <td>female</td>\n",
       "      <td>20.0</td>\n",
       "      <td>1</td>\n",
       "      <td>0</td>\n",
       "      <td>100.0000</td>\n",
       "      <td>S</td>\n",
       "      <td>0.939755</td>\n",
       "    </tr>\n",
       "  </tbody>\n",
       "</table>\n",
       "<p>1306 rows × 10 columns</p>\n",
       "</div>"
      ],
      "text/plain": [
       "      survived                                           name  pclass     sex  \\\n",
       "5            1                            Anderson, Mr. Harry       1    male   \n",
       "6            1              Andrews, Miss. Kornelia Theodosia       1  female   \n",
       "7            0                         Andrews, Mr. Thomas Jr       1    male   \n",
       "8            1  Appleton, Mrs. Edward Dale (Charlotte Lamson)       1  female   \n",
       "9            0                        Artagaveytia, Mr. Ramon       1    male   \n",
       "...        ...                                            ...     ...     ...   \n",
       "1306         0                      Zakarian, Mr. Mapriededer       3    male   \n",
       "1307         0                            Zakarian, Mr. Ortin       3    male   \n",
       "1308         0                             Zimmerman, Mr. Leo       3    male   \n",
       "0            0                                           Jack       3    male   \n",
       "1            1                                           Rose       1  female   \n",
       "\n",
       "       age  sibsp  parch      fare embarked  probability  \n",
       "5     48.0      0      0   26.5500        S     0.287312  \n",
       "6     63.0      1      0   77.9583        S     0.894232  \n",
       "7     39.0      0      0    0.0000        S     0.339173  \n",
       "8     53.0      2      0   51.4792        S     0.891466  \n",
       "9     71.0      0      0   49.5042        C     0.314791  \n",
       "...    ...    ...    ...       ...      ...          ...  \n",
       "1306  26.5      0      0    7.2250        C     0.246062  \n",
       "1307  27.0      0      0    7.2250        C     0.243736  \n",
       "1308  29.0      0      0    7.8750        S     0.131687  \n",
       "0     23.0      1      0    5.0000        S     0.129821  \n",
       "1     20.0      1      0  100.0000        S     0.939755  \n",
       "\n",
       "[1306 rows x 10 columns]"
      ]
     },
     "execution_count": 35,
     "metadata": {},
     "output_type": "execute_result"
    }
   ],
   "source": [
    "pd[5:]"
   ]
  },
  {
   "cell_type": "code",
   "execution_count": null,
   "id": "84bbd50a",
   "metadata": {},
   "outputs": [],
   "source": []
  }
 ],
 "metadata": {
  "kernelspec": {
   "display_name": "Python 3 (ipykernel)",
   "language": "python",
   "name": "python3"
  },
  "language_info": {
   "codemirror_mode": {
    "name": "ipython",
    "version": 3
   },
   "file_extension": ".py",
   "mimetype": "text/x-python",
   "name": "python",
   "nbconvert_exporter": "python",
   "pygments_lexer": "ipython3",
   "version": "3.9.13"
  }
 },
 "nbformat": 4,
 "nbformat_minor": 5
}
