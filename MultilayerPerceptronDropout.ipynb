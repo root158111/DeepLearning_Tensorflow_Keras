{
 "cells": [
  {
   "cell_type": "code",
   "execution_count": 19,
   "id": "327aed5b",
   "metadata": {},
   "outputs": [],
   "source": [
    "import numpy as np\n",
    "from keras.utils import np_utils\n",
    "np.random.seed(10)\n",
    "from keras.layers import Dropout"
   ]
  },
  {
   "cell_type": "code",
   "execution_count": 20,
   "id": "cb739467",
   "metadata": {},
   "outputs": [],
   "source": [
    "from keras.datasets import mnist\n",
    "(x_train_image, y_train_label),\\\n",
    "(x_test_image, y_test_label) = mnist.load_data()"
   ]
  },
  {
   "cell_type": "code",
   "execution_count": 21,
   "id": "d56a2d40",
   "metadata": {},
   "outputs": [],
   "source": [
    "x_Train = x_train_image.reshape(60000,784).astype('float32')\n",
    "x_Test = x_test_image.reshape(10000,784).astype('float32')"
   ]
  },
  {
   "cell_type": "code",
   "execution_count": 22,
   "id": "7d47cbda",
   "metadata": {},
   "outputs": [],
   "source": [
    "x_Train_normalize = x_Train/255\n",
    "x_Test_normalize = x_Test/255"
   ]
  },
  {
   "cell_type": "code",
   "execution_count": 23,
   "id": "06eb3958",
   "metadata": {},
   "outputs": [],
   "source": [
    "y_Train_OneHot = np_utils.to_categorical(y_train_label)\n",
    "y_Test_OneHot = np_utils.to_categorical(y_test_label)"
   ]
  },
  {
   "cell_type": "code",
   "execution_count": 24,
   "id": "9ac7b735",
   "metadata": {},
   "outputs": [],
   "source": [
    "from keras.models import Sequential\n",
    "from keras.layers import Dense"
   ]
  },
  {
   "cell_type": "code",
   "execution_count": 25,
   "id": "e099efdb",
   "metadata": {},
   "outputs": [],
   "source": [
    "model = Sequential() #建立模型"
   ]
  },
  {
   "cell_type": "code",
   "execution_count": 26,
   "id": "2d31ef83",
   "metadata": {},
   "outputs": [],
   "source": [
    "model.add(Dense(     #輸入層、隱藏層\n",
    "    units = 1000,     #1000層隱藏層\n",
    "    input_dim=784,\n",
    "    kernel_initializer='normal',   #使用常態分佈的亂數，初始化weight(權重) bias(偏差)\n",
    "    activation='relu'))  #定義激活函數為relu"
   ]
  },
  {
   "cell_type": "code",
   "execution_count": 27,
   "id": "529edbc6",
   "metadata": {},
   "outputs": [],
   "source": [
    "model.add(Dropout(0.5))"
   ]
  },
  {
   "cell_type": "code",
   "execution_count": 28,
   "id": "7108e5db",
   "metadata": {},
   "outputs": [],
   "source": [
    "model.add(Dense(\n",
    "    units=10, #輸出層神經元數10\n",
    "    kernel_initializer='normal',\n",
    "    activation='softmax'#定義激活函數為softmax\n",
    "))"
   ]
  },
  {
   "cell_type": "code",
   "execution_count": 29,
   "id": "588272f9",
   "metadata": {},
   "outputs": [
    {
     "name": "stdout",
     "output_type": "stream",
     "text": [
      "Model: \"sequential_1\"\n",
      "_________________________________________________________________\n",
      " Layer (type)                Output Shape              Param #   \n",
      "=================================================================\n",
      " dense_2 (Dense)             (None, 1000)              785000    \n",
      "                                                                 \n",
      " dropout (Dropout)           (None, 1000)              0         \n",
      "                                                                 \n",
      " dense_3 (Dense)             (None, 10)                10010     \n",
      "                                                                 \n",
      "=================================================================\n",
      "Total params: 795,010\n",
      "Trainable params: 795,010\n",
      "Non-trainable params: 0\n",
      "_________________________________________________________________\n",
      "None\n"
     ]
    }
   ],
   "source": [
    "print(model.summary()) #可以使用這個指令炸看模型摘要 param計算方式784*256+256=20096//256*10+10=2570"
   ]
  },
  {
   "cell_type": "code",
   "execution_count": 30,
   "id": "5e7c7f9a",
   "metadata": {},
   "outputs": [],
   "source": [
    "model.compile(loss='categorical_crossentropy',   #設定損失函數\n",
    "             optimizer='adam',                   #設定訓練時最優化方法，使用adam可以更快收斂，提高準確率\n",
    "             metrics=['accuracy'])               #設定評估模型的方式是accuracy準確率"
   ]
  },
  {
   "cell_type": "code",
   "execution_count": 31,
   "id": "ef6b4379",
   "metadata": {},
   "outputs": [
    {
     "name": "stdout",
     "output_type": "stream",
     "text": [
      "Epoch 1/10\n",
      "240/240 - 4s - loss: 0.3584 - accuracy: 0.8926 - val_loss: 0.1602 - val_accuracy: 0.9554 - 4s/epoch - 15ms/step\n",
      "Epoch 2/10\n",
      "240/240 - 3s - loss: 0.1610 - accuracy: 0.9529 - val_loss: 0.1160 - val_accuracy: 0.9657 - 3s/epoch - 12ms/step\n",
      "Epoch 3/10\n",
      "240/240 - 3s - loss: 0.1148 - accuracy: 0.9668 - val_loss: 0.0950 - val_accuracy: 0.9713 - 3s/epoch - 12ms/step\n",
      "Epoch 4/10\n",
      "240/240 - 3s - loss: 0.0920 - accuracy: 0.9729 - val_loss: 0.0855 - val_accuracy: 0.9733 - 3s/epoch - 12ms/step\n",
      "Epoch 5/10\n",
      "240/240 - 3s - loss: 0.0750 - accuracy: 0.9774 - val_loss: 0.0781 - val_accuracy: 0.9761 - 3s/epoch - 14ms/step\n",
      "Epoch 6/10\n",
      "240/240 - 3s - loss: 0.0643 - accuracy: 0.9800 - val_loss: 0.0760 - val_accuracy: 0.9780 - 3s/epoch - 13ms/step\n",
      "Epoch 7/10\n",
      "240/240 - 3s - loss: 0.0545 - accuracy: 0.9832 - val_loss: 0.0720 - val_accuracy: 0.9775 - 3s/epoch - 12ms/step\n",
      "Epoch 8/10\n",
      "240/240 - 3s - loss: 0.0487 - accuracy: 0.9847 - val_loss: 0.0713 - val_accuracy: 0.9791 - 3s/epoch - 12ms/step\n",
      "Epoch 9/10\n",
      "240/240 - 3s - loss: 0.0422 - accuracy: 0.9875 - val_loss: 0.0680 - val_accuracy: 0.9812 - 3s/epoch - 12ms/step\n",
      "Epoch 10/10\n",
      "240/240 - 3s - loss: 0.0387 - accuracy: 0.9873 - val_loss: 0.0678 - val_accuracy: 0.9797 - 3s/epoch - 12ms/step\n"
     ]
    }
   ],
   "source": [
    "#開始訓練\n",
    "train_history = model.fit(     #使用model.fix進行訓練\n",
    "    x=x_Train_normalize,        #輸入x=x_Train_nomalize(Features數字影像的特徵)\n",
    "    y=y_Train_OneHot,          #輸入 y=y_Train_OneHot(label數字影像的真實值)\n",
    "    validation_split=0.2,      #訓練前Keras會自東把資料分成 80%訊練資料 20%驗證資料\n",
    "    epochs=10,                 #執行10次週期訓練\n",
    "    batch_size=200,            #每一批次200筆資料\n",
    "    verbose=2                  #顯示訓練過程\n",
    ")\n",
    "\n",
    "###60000筆  60000*0.8=48000作為訓練資料 12000作為驗證資料\n",
    "###48000筆資料逕行訓練，分為每一批次200筆，所以大約240批次(48000/200=240)逕行訓練\n",
    "###epoch 訓練完後會計算批次訓練週期的accuracy跟loss並記錄在train_history中"
   ]
  },
  {
   "cell_type": "markdown",
   "id": "6f6e8764",
   "metadata": {},
   "source": [
    "accuracy 訓練準確率 與 val_accuracy驗證準確率差距很小，代表已經改善overfitting了"
   ]
  },
  {
   "cell_type": "code",
   "execution_count": 32,
   "id": "8dac6643",
   "metadata": {},
   "outputs": [],
   "source": [
    "#讀取train_history\n",
    "import matplotlib.pyplot as plt\n",
    "def show_train_history(train_history,train,validation): #匯入之前訓練產生的train_history/訓練資料的執行結果/驗證資料的執行結果\n",
    "    plt.plot(train_history.history[train])              #訓練資料的執行結果畫線\n",
    "    plt.plot(train_history.history[validation])         #驗證資料的執行結果\n",
    "    plt.title('Train history')\n",
    "    plt.ylabel(train)\n",
    "    plt.xlabel('Epoch')\n",
    "    plt.legend(['train','validation'],loc='upper left')\n",
    "    plt.show()"
   ]
  },
  {
   "cell_type": "code",
   "execution_count": 33,
   "id": "f8a03b5c",
   "metadata": {},
   "outputs": [
    {
     "data": {
      "image/png": "[encoded data removed]",
      "text/plain": [
       "<Figure size 640x480 with 1 Axes>"
      ]
     },
     "metadata": {},
     "output_type": "display_data"
    }
   ],
   "source": [
    "#呼叫執行結果\n",
    "show_train_history(train_history,'accuracy','val_accuracy')\n",
    "\n",
    "#為何「acc訓練的準確率」比「val_acc 驗證的準確率」高？\n",
    "#這是因爲計算準確率的資料不同。\n",
    "#•acc訓辣的準確率：以訓練的資料，計算準確率，因爲相同的資料已經訓練過了，又拿來計算準確率，所以準確率會比較高\n",
    "#(就好像老師上課後，又使用上課的題目進行考試，準確率會比較高）。\n",
    "\n",
    "#•val acc驗證的準確率：以驗證資料計算準確率，這此驗證資料之前訓練時，並末拿來訓練，所以計算的準確率會比較低。\n",
    "#但是這樣計算出來的準確率比較客觀，比較符合眞實情況（就好像老師上課後，使用獨立的題庫進行考試，這樣準確率沒有那麼高，但是比較客觀）。\n",
    "#如果「acc 訓練的準確率」一直增加，但是 「val acc 驗證的準確率」一直沒有增加，就可能是overftting 過度擬合的現象。\n",
    "#從圖形可以看到，雖然「acc 訓練的準確率」比 「val acc驗證的準確率」高，雖然差異沒有很大，但仍有輕微 overftting 過度擬合的現象。"
   ]
  },
  {
   "cell_type": "markdown",
   "id": "879f3ed3",
   "metadata": {},
   "source": [
    "訓練的準確率 比 驗證的準確率高，overfitting更嚴重 \n",
    "所以要藉由Dropout功能解決"
   ]
  },
  {
   "cell_type": "code",
   "execution_count": 34,
   "id": "b379d45d",
   "metadata": {},
   "outputs": [
    {
     "data": {
      "image/png": "[encoded data removed]",
      "text/plain": [
       "<Figure size 640x480 with 1 Axes>"
      ]
     },
     "metadata": {},
     "output_type": "display_data"
    }
   ],
   "source": [
    "#loss誤差執行結果\n",
    "show_train_history(train_history,'loss','val_loss')"
   ]
  },
  {
   "cell_type": "code",
   "execution_count": 35,
   "id": "c2e8c00c",
   "metadata": {},
   "outputs": [
    {
     "name": "stdout",
     "output_type": "stream",
     "text": [
      "313/313 [==============================] - 1s 3ms/step - loss: 0.0628 - accuracy: 0.9798\n",
      "\n",
      "accuracy= 0.9797999858856201\n"
     ]
    }
   ],
   "source": [
    "#評估模型的準確率\n",
    "scores = model.evaluate(x_Test_normalize,y_Test_OneHot)    #使用model.evaluate評估準確率\n",
    "print()\n",
    "print('accuracy=',scores[1])"
   ]
  },
  {
   "cell_type": "code",
   "execution_count": 51,
   "id": "c8f0c805",
   "metadata": {},
   "outputs": [
    {
     "name": "stdout",
     "output_type": "stream",
     "text": [
      "313/313 [==============================] - 0s 1ms/step\n"
     ]
    }
   ],
   "source": [
    "#進行預測\n",
    "prediction = model.predict(x_Test) #使用model.predict_classes進行預測\n",
    "classes_x=np.argmax(prediction,axis=1)"
   ]
  },
  {
   "cell_type": "code",
   "execution_count": 66,
   "id": "acd3c485",
   "metadata": {},
   "outputs": [
    {
     "data": {
      "text/plain": [
       "array([7, 2, 1, ..., 4, 5, 6], dtype=int64)"
      ]
     },
     "execution_count": 66,
     "metadata": {},
     "output_type": "execute_result"
    }
   ],
   "source": [
    "classes_x"
   ]
  },
  {
   "cell_type": "code",
   "execution_count": 67,
   "id": "d575dcd9",
   "metadata": {},
   "outputs": [],
   "source": [
    "import matplotlib.pyplot as plt\n",
    "def plot_images_labels_prediction(images,labels,prediction,idx,num=10): #數字影像,真實質,預測結果,開始的顯示資料index,要顯示的資料數\n",
    "    fig = plt.gcf()            #圖形大小\n",
    "    fig.set_size_inches(12,14) #圖形大小\n",
    "    if num > 25 : num=25\n",
    "    for i in range(0,num):\n",
    "        ax = plt.subplot(5,5,1+i)#建立subgraph子圖形5行5列\n",
    "        ax.imshow(images[idx],cmap='binary')#劃出subgraph子圖形\n",
    "        title = \"label=\" + str(labels[idx])#設定子圖形title\n",
    "        if len(prediction)>0:             #如果有傳入預測結果\n",
    "            title+=\",predict=\"+str(prediction[idx]) #標題加上預測結果\n",
    "            \n",
    "        ax.set_title(title,fontsize=10)   #設定title大小\n",
    "        ax.set_xticks([]);ax.set_yticks([]) #設定不顯示刻度\n",
    "        idx+=1\n",
    "    plt.show()"
   ]
  },
  {
   "cell_type": "code",
   "execution_count": 68,
   "id": "a436bc12",
   "metadata": {},
   "outputs": [
    {
     "data": {
      "image/png": "[encoded data removed]",
      "text/plain": [
       "<Figure size 1200x1400 with 10 Axes>"
      ]
     },
     "metadata": {},
     "output_type": "display_data"
    }
   ],
   "source": [
    "plot_images_labels_prediction(x_test_image,y_test_label,classes_x,idx=340)"
   ]
  },
  {
   "cell_type": "code",
   "execution_count": 70,
   "id": "c266b68e",
   "metadata": {},
   "outputs": [
    {
     "data": {
      "text/html": [
       "<div>\n",
       "<style scoped>\n",
       "    .dataframe tbody tr th:only-of-type {\n",
       "        vertical-align: middle;\n",
       "    }\n",
       "\n",
       "    .dataframe tbody tr th {\n",
       "        vertical-align: top;\n",
       "    }\n",
       "\n",
       "    .dataframe thead th {\n",
       "        text-align: right;\n",
       "    }\n",
       "</style>\n",
       "<table border=\"1\" class=\"dataframe\">\n",
       "  <thead>\n",
       "    <tr style=\"text-align: right;\">\n",
       "      <th>predict</th>\n",
       "      <th>0</th>\n",
       "      <th>1</th>\n",
       "      <th>2</th>\n",
       "      <th>3</th>\n",
       "      <th>4</th>\n",
       "      <th>5</th>\n",
       "      <th>6</th>\n",
       "      <th>7</th>\n",
       "      <th>8</th>\n",
       "      <th>9</th>\n",
       "    </tr>\n",
       "    <tr>\n",
       "      <th>label</th>\n",
       "      <th></th>\n",
       "      <th></th>\n",
       "      <th></th>\n",
       "      <th></th>\n",
       "      <th></th>\n",
       "      <th></th>\n",
       "      <th></th>\n",
       "      <th></th>\n",
       "      <th></th>\n",
       "      <th></th>\n",
       "    </tr>\n",
       "  </thead>\n",
       "  <tbody>\n",
       "    <tr>\n",
       "      <th>0</th>\n",
       "      <td>971</td>\n",
       "      <td>0</td>\n",
       "      <td>1</td>\n",
       "      <td>1</td>\n",
       "      <td>2</td>\n",
       "      <td>0</td>\n",
       "      <td>2</td>\n",
       "      <td>1</td>\n",
       "      <td>2</td>\n",
       "      <td>0</td>\n",
       "    </tr>\n",
       "    <tr>\n",
       "      <th>1</th>\n",
       "      <td>0</td>\n",
       "      <td>1124</td>\n",
       "      <td>4</td>\n",
       "      <td>0</td>\n",
       "      <td>0</td>\n",
       "      <td>1</td>\n",
       "      <td>2</td>\n",
       "      <td>0</td>\n",
       "      <td>4</td>\n",
       "      <td>0</td>\n",
       "    </tr>\n",
       "    <tr>\n",
       "      <th>2</th>\n",
       "      <td>3</td>\n",
       "      <td>2</td>\n",
       "      <td>1015</td>\n",
       "      <td>2</td>\n",
       "      <td>1</td>\n",
       "      <td>0</td>\n",
       "      <td>2</td>\n",
       "      <td>4</td>\n",
       "      <td>3</td>\n",
       "      <td>0</td>\n",
       "    </tr>\n",
       "    <tr>\n",
       "      <th>3</th>\n",
       "      <td>0</td>\n",
       "      <td>0</td>\n",
       "      <td>9</td>\n",
       "      <td>990</td>\n",
       "      <td>0</td>\n",
       "      <td>1</td>\n",
       "      <td>0</td>\n",
       "      <td>2</td>\n",
       "      <td>2</td>\n",
       "      <td>6</td>\n",
       "    </tr>\n",
       "    <tr>\n",
       "      <th>4</th>\n",
       "      <td>0</td>\n",
       "      <td>1</td>\n",
       "      <td>3</td>\n",
       "      <td>1</td>\n",
       "      <td>959</td>\n",
       "      <td>0</td>\n",
       "      <td>4</td>\n",
       "      <td>2</td>\n",
       "      <td>0</td>\n",
       "      <td>12</td>\n",
       "    </tr>\n",
       "    <tr>\n",
       "      <th>5</th>\n",
       "      <td>5</td>\n",
       "      <td>1</td>\n",
       "      <td>0</td>\n",
       "      <td>19</td>\n",
       "      <td>1</td>\n",
       "      <td>844</td>\n",
       "      <td>10</td>\n",
       "      <td>1</td>\n",
       "      <td>8</td>\n",
       "      <td>3</td>\n",
       "    </tr>\n",
       "    <tr>\n",
       "      <th>6</th>\n",
       "      <td>5</td>\n",
       "      <td>3</td>\n",
       "      <td>3</td>\n",
       "      <td>1</td>\n",
       "      <td>2</td>\n",
       "      <td>3</td>\n",
       "      <td>940</td>\n",
       "      <td>0</td>\n",
       "      <td>1</td>\n",
       "      <td>0</td>\n",
       "    </tr>\n",
       "    <tr>\n",
       "      <th>7</th>\n",
       "      <td>1</td>\n",
       "      <td>7</td>\n",
       "      <td>11</td>\n",
       "      <td>6</td>\n",
       "      <td>0</td>\n",
       "      <td>0</td>\n",
       "      <td>0</td>\n",
       "      <td>997</td>\n",
       "      <td>0</td>\n",
       "      <td>6</td>\n",
       "    </tr>\n",
       "    <tr>\n",
       "      <th>8</th>\n",
       "      <td>4</td>\n",
       "      <td>1</td>\n",
       "      <td>8</td>\n",
       "      <td>8</td>\n",
       "      <td>4</td>\n",
       "      <td>3</td>\n",
       "      <td>3</td>\n",
       "      <td>3</td>\n",
       "      <td>936</td>\n",
       "      <td>4</td>\n",
       "    </tr>\n",
       "    <tr>\n",
       "      <th>9</th>\n",
       "      <td>3</td>\n",
       "      <td>5</td>\n",
       "      <td>0</td>\n",
       "      <td>5</td>\n",
       "      <td>7</td>\n",
       "      <td>1</td>\n",
       "      <td>0</td>\n",
       "      <td>4</td>\n",
       "      <td>1</td>\n",
       "      <td>983</td>\n",
       "    </tr>\n",
       "  </tbody>\n",
       "</table>\n",
       "</div>"
      ],
      "text/plain": [
       "predict    0     1     2    3    4    5    6    7    8    9\n",
       "label                                                      \n",
       "0        971     0     1    1    2    0    2    1    2    0\n",
       "1          0  1124     4    0    0    1    2    0    4    0\n",
       "2          3     2  1015    2    1    0    2    4    3    0\n",
       "3          0     0     9  990    0    1    0    2    2    6\n",
       "4          0     1     3    1  959    0    4    2    0   12\n",
       "5          5     1     0   19    1  844   10    1    8    3\n",
       "6          5     3     3    1    2    3  940    0    1    0\n",
       "7          1     7    11    6    0    0    0  997    0    6\n",
       "8          4     1     8    8    4    3    3    3  936    4\n",
       "9          3     5     0    5    7    1    0    4    1  983"
      ]
     },
     "execution_count": 70,
     "metadata": {},
     "output_type": "execute_result"
    }
   ],
   "source": [
    "#confusion matrix\n",
    "import pandas as pd\n",
    "pd.crosstab(y_test_label,classes_x,rownames=['label'],colnames=['predict'])\n",
    "#使用pd.crosstab建立混淆矩陣,輸入以下參數(真實值/預測結果/行名稱是label/列名稱是predict)"
   ]
  },
  {
   "cell_type": "markdown",
   "id": "7eb6453e",
   "metadata": {},
   "source": [
    "上途中對角線是預測正確，我們發現:真實是1被正確預測為1的有1124筆。真實值5被正確預測為5只有852筆最低最容易混淆。\n",
    "其他非對角線的數字，代表某一個標籤預測錯誤，真實值5但是預測是3共有19筆最高。代表模型5容易混淆成3。"
   ]
  },
  {
   "cell_type": "code",
   "execution_count": 72,
   "id": "f14e53cd",
   "metadata": {},
   "outputs": [
    {
     "data": {
      "text/html": [
       "<div>\n",
       "<style scoped>\n",
       "    .dataframe tbody tr th:only-of-type {\n",
       "        vertical-align: middle;\n",
       "    }\n",
       "\n",
       "    .dataframe tbody tr th {\n",
       "        vertical-align: top;\n",
       "    }\n",
       "\n",
       "    .dataframe thead th {\n",
       "        text-align: right;\n",
       "    }\n",
       "</style>\n",
       "<table border=\"1\" class=\"dataframe\">\n",
       "  <thead>\n",
       "    <tr style=\"text-align: right;\">\n",
       "      <th></th>\n",
       "      <th>label</th>\n",
       "      <th>predict</th>\n",
       "    </tr>\n",
       "  </thead>\n",
       "  <tbody>\n",
       "    <tr>\n",
       "      <th>0</th>\n",
       "      <td>7</td>\n",
       "      <td>7</td>\n",
       "    </tr>\n",
       "    <tr>\n",
       "      <th>1</th>\n",
       "      <td>2</td>\n",
       "      <td>2</td>\n",
       "    </tr>\n",
       "  </tbody>\n",
       "</table>\n",
       "</div>"
      ],
      "text/plain": [
       "   label  predict\n",
       "0      7        7\n",
       "1      2        2"
      ]
     },
     "execution_count": 72,
     "metadata": {},
     "output_type": "execute_result"
    }
   ],
   "source": [
    "#建立真實值與預測dataframe\n",
    "df = pd.DataFrame({'label':y_test_label,'predict':classes_x})\n",
    "df[:2]"
   ]
  },
  {
   "cell_type": "code",
   "execution_count": 74,
   "id": "3478e8e0",
   "metadata": {},
   "outputs": [
    {
     "data": {
      "text/html": [
       "<div>\n",
       "<style scoped>\n",
       "    .dataframe tbody tr th:only-of-type {\n",
       "        vertical-align: middle;\n",
       "    }\n",
       "\n",
       "    .dataframe tbody tr th {\n",
       "        vertical-align: top;\n",
       "    }\n",
       "\n",
       "    .dataframe thead th {\n",
       "        text-align: right;\n",
       "    }\n",
       "</style>\n",
       "<table border=\"1\" class=\"dataframe\">\n",
       "  <thead>\n",
       "    <tr style=\"text-align: right;\">\n",
       "      <th></th>\n",
       "      <th>label</th>\n",
       "      <th>predict</th>\n",
       "    </tr>\n",
       "  </thead>\n",
       "  <tbody>\n",
       "    <tr>\n",
       "      <th>340</th>\n",
       "      <td>5</td>\n",
       "      <td>3</td>\n",
       "    </tr>\n",
       "    <tr>\n",
       "      <th>1003</th>\n",
       "      <td>5</td>\n",
       "      <td>3</td>\n",
       "    </tr>\n",
       "    <tr>\n",
       "      <th>1393</th>\n",
       "      <td>5</td>\n",
       "      <td>3</td>\n",
       "    </tr>\n",
       "    <tr>\n",
       "      <th>1670</th>\n",
       "      <td>5</td>\n",
       "      <td>3</td>\n",
       "    </tr>\n",
       "    <tr>\n",
       "      <th>2035</th>\n",
       "      <td>5</td>\n",
       "      <td>3</td>\n",
       "    </tr>\n",
       "    <tr>\n",
       "      <th>2810</th>\n",
       "      <td>5</td>\n",
       "      <td>3</td>\n",
       "    </tr>\n",
       "    <tr>\n",
       "      <th>3117</th>\n",
       "      <td>5</td>\n",
       "      <td>3</td>\n",
       "    </tr>\n",
       "    <tr>\n",
       "      <th>3902</th>\n",
       "      <td>5</td>\n",
       "      <td>3</td>\n",
       "    </tr>\n",
       "    <tr>\n",
       "      <th>4271</th>\n",
       "      <td>5</td>\n",
       "      <td>3</td>\n",
       "    </tr>\n",
       "    <tr>\n",
       "      <th>4300</th>\n",
       "      <td>5</td>\n",
       "      <td>3</td>\n",
       "    </tr>\n",
       "    <tr>\n",
       "      <th>4355</th>\n",
       "      <td>5</td>\n",
       "      <td>3</td>\n",
       "    </tr>\n",
       "    <tr>\n",
       "      <th>4360</th>\n",
       "      <td>5</td>\n",
       "      <td>3</td>\n",
       "    </tr>\n",
       "    <tr>\n",
       "      <th>5937</th>\n",
       "      <td>5</td>\n",
       "      <td>3</td>\n",
       "    </tr>\n",
       "    <tr>\n",
       "      <th>5972</th>\n",
       "      <td>5</td>\n",
       "      <td>3</td>\n",
       "    </tr>\n",
       "    <tr>\n",
       "      <th>5982</th>\n",
       "      <td>5</td>\n",
       "      <td>3</td>\n",
       "    </tr>\n",
       "    <tr>\n",
       "      <th>6043</th>\n",
       "      <td>5</td>\n",
       "      <td>3</td>\n",
       "    </tr>\n",
       "    <tr>\n",
       "      <th>6598</th>\n",
       "      <td>5</td>\n",
       "      <td>3</td>\n",
       "    </tr>\n",
       "    <tr>\n",
       "      <th>8502</th>\n",
       "      <td>5</td>\n",
       "      <td>3</td>\n",
       "    </tr>\n",
       "    <tr>\n",
       "      <th>9427</th>\n",
       "      <td>5</td>\n",
       "      <td>3</td>\n",
       "    </tr>\n",
       "  </tbody>\n",
       "</table>\n",
       "</div>"
      ],
      "text/plain": [
       "      label  predict\n",
       "340       5        3\n",
       "1003      5        3\n",
       "1393      5        3\n",
       "1670      5        3\n",
       "2035      5        3\n",
       "2810      5        3\n",
       "3117      5        3\n",
       "3902      5        3\n",
       "4271      5        3\n",
       "4300      5        3\n",
       "4355      5        3\n",
       "4360      5        3\n",
       "5937      5        3\n",
       "5972      5        3\n",
       "5982      5        3\n",
       "6043      5        3\n",
       "6598      5        3\n",
       "8502      5        3\n",
       "9427      5        3"
      ]
     },
     "execution_count": 74,
     "metadata": {},
     "output_type": "execute_result"
    }
   ],
   "source": [
    "#查詢真實值為5，但是預測為3\n",
    "df[(df.label==5)&(df.predict==3)]"
   ]
  },
  {
   "cell_type": "code",
   "execution_count": 75,
   "id": "e3512aa7",
   "metadata": {},
   "outputs": [
    {
     "data": {
      "image/png": "[encoded data removed]",
      "text/plain": [
       "<Figure size 1200x1400 with 1 Axes>"
      ]
     },
     "metadata": {},
     "output_type": "display_data"
    }
   ],
   "source": [
    "#查看第340筆資料\n",
    "plot_images_labels_prediction(x_test_image,y_test_label,classes_x,idx=340,num=1)"
   ]
  },
  {
   "cell_type": "code",
   "execution_count": null,
   "id": "db8b22c9",
   "metadata": {},
   "outputs": [],
   "source": []
  }
 ],
 "metadata": {
  "kernelspec": {
   "display_name": "Python 3 (ipykernel)",
   "language": "python",
   "name": "python3"
  },
  "language_info": {
   "codemirror_mode": {
    "name": "ipython",
    "version": 3
   },
   "file_extension": ".py",
   "mimetype": "text/x-python",
   "name": "python",
   "nbconvert_exporter": "python",
   "pygments_lexer": "ipython3",
   "version": "3.9.13"
  }
 },
 "nbformat": 4,
 "nbformat_minor": 5
}
