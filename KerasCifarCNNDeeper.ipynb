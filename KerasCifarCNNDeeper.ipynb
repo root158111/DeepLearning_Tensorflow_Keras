{
 "cells": [
  {
   "cell_type": "code",
   "execution_count": 1,
   "id": "04152f4d",
   "metadata": {},
   "outputs": [],
   "source": [
    "from keras.datasets import cifar10\n",
    "import numpy as np\n",
    "np.random.seed(10)"
   ]
  },
  {
   "cell_type": "code",
   "execution_count": 2,
   "id": "001f7513",
   "metadata": {},
   "outputs": [],
   "source": [
    "#讀取cifar10資料\n",
    "(x_img_train,y_label_train),(x_img_test,y_label_test)=cifar10.load_data()"
   ]
  },
  {
   "cell_type": "code",
   "execution_count": 3,
   "id": "2b840113",
   "metadata": {},
   "outputs": [
    {
     "name": "stdout",
     "output_type": "stream",
     "text": [
      "train data: images: (50000, 32, 32, 3) labels: (50000, 1)\n",
      "test data: images: (10000, 32, 32, 3) labels: (10000, 1)\n"
     ]
    }
   ],
   "source": [
    "#顯示訓練與驗證資料的shape\n",
    "print(\"train data:\",'images:',x_img_train.shape,\"labels:\",y_label_train.shape)\n",
    "print(\"test data:\",'images:',x_img_test.shape,\"labels:\",y_label_test.shape)"
   ]
  },
  {
   "cell_type": "code",
   "execution_count": 4,
   "id": "0a61313c",
   "metadata": {},
   "outputs": [],
   "source": [
    "#將feature標準化\n",
    "x_img_train_normalize = x_img_train.astype('float32') / 255.0\n",
    "x_img_test_normalize = x_img_test.astype('float32') / 255.0"
   ]
  },
  {
   "cell_type": "code",
   "execution_count": 5,
   "id": "ed39c8d0",
   "metadata": {},
   "outputs": [],
   "source": [
    "#label以Onehot encoding轉換\n",
    "from keras.utils import np_utils\n",
    "y_label_train_OneHot = np_utils.to_categorical(y_label_train)\n",
    "y_label_test_OneHot = np_utils.to_categorical(y_label_test)"
   ]
  },
  {
   "cell_type": "code",
   "execution_count": 6,
   "id": "d3ba594b",
   "metadata": {},
   "outputs": [],
   "source": [
    "#匯入模組\n",
    "from keras.models import Sequential\n",
    "from keras.layers import Dense,Dropout,Activation,Flatten\n",
    "from keras.layers import Conv2D,MaxPooling2D,ZeroPadding2D"
   ]
  },
  {
   "cell_type": "code",
   "execution_count": 7,
   "id": "729111b9",
   "metadata": {},
   "outputs": [],
   "source": [
    "#建立模型\n",
    "model = Sequential()"
   ]
  },
  {
   "cell_type": "code",
   "execution_count": 8,
   "id": "c3e4f3f4",
   "metadata": {},
   "outputs": [],
   "source": [
    "model.add(Conv2D(\n",
    "    filters = 32,          #隨機產生32個濾鏡filter weight\n",
    "    kernel_size = (3,3),   #濾鏡大小3*3\n",
    "    input_shape =(32,32,3),#第1、2維度:影像大小 第3維度:代表RGB三原色\n",
    "    activation = 'relu',   #設定ReLU激活函數\n",
    "    padding = 'same'))     #設定讓卷積運算，產生的卷積影像大小不變"
   ]
  },
  {
   "cell_type": "code",
   "execution_count": 9,
   "id": "4fcb5135",
   "metadata": {},
   "outputs": [],
   "source": [
    "model.add(Dropout(rate=0.3))"
   ]
  },
  {
   "cell_type": "code",
   "execution_count": 10,
   "id": "5c558ff1",
   "metadata": {},
   "outputs": [],
   "source": [
    "model.add(Conv2D(\n",
    "    filters = 32,          #隨機產生32個濾鏡filter weight\n",
    "    kernel_size = (3,3),   #濾鏡大小3*3\n",
    "    activation = 'relu',   #設定ReLU激活函數\n",
    "    padding = 'same'))     #設定讓卷積運算，產生的卷積影像大小不變"
   ]
  },
  {
   "cell_type": "code",
   "execution_count": 11,
   "id": "776d931c",
   "metadata": {},
   "outputs": [],
   "source": [
    "#建立池化層\n",
    "model.add(MaxPooling2D(pool_size=(2,2))) \n",
    "#輸入參數pool_size=(2,2)，執行第1次縮減取樣，將32*32影像，所小為16*16的影像，縮減取樣不會改變數量。"
   ]
  },
  {
   "cell_type": "code",
   "execution_count": 12,
   "id": "6e241e7f",
   "metadata": {},
   "outputs": [],
   "source": [
    "#建立卷積層2\n",
    "model.add(Conv2D(\n",
    "    filters = 64,        ##隨機產生64個濾鏡filter weight\n",
    "    kernel_size = (3,3),\n",
    "    activation = 'relu',\n",
    "    padding = 'same'    \n",
    "))"
   ]
  },
  {
   "cell_type": "code",
   "execution_count": 13,
   "id": "dfc45c7d",
   "metadata": {},
   "outputs": [],
   "source": [
    "model.add(Dropout(0.3))"
   ]
  },
  {
   "cell_type": "code",
   "execution_count": 14,
   "id": "2a6f4f3f",
   "metadata": {},
   "outputs": [],
   "source": [
    "#建立卷積層2\n",
    "model.add(Conv2D(\n",
    "    filters = 64,        ##隨機產生64個濾鏡filter weight\n",
    "    kernel_size = (3,3),\n",
    "    activation = 'relu',\n",
    "    padding = 'same'    \n",
    "))"
   ]
  },
  {
   "cell_type": "code",
   "execution_count": 15,
   "id": "09352d99",
   "metadata": {},
   "outputs": [],
   "source": [
    "#建立池化層2\n",
    "model.add(MaxPooling2D(pool_size=(2,2))) "
   ]
  },
  {
   "cell_type": "code",
   "execution_count": 16,
   "id": "38f8b157",
   "metadata": {},
   "outputs": [],
   "source": [
    "#建立卷積層3與池化層3\n",
    "model.add(Conv2D(\n",
    "    filters = 128,        ##隨機產生128個濾鏡filter weight\n",
    "    kernel_size = (3,3),\n",
    "    activation = 'relu',\n",
    "    padding = 'same'    \n",
    "))"
   ]
  },
  {
   "cell_type": "code",
   "execution_count": 17,
   "id": "27c89bfd",
   "metadata": {},
   "outputs": [],
   "source": [
    "model.add(Dropout(0.3))"
   ]
  },
  {
   "cell_type": "code",
   "execution_count": 18,
   "id": "3236ddde",
   "metadata": {},
   "outputs": [],
   "source": [
    "model.add(Conv2D(\n",
    "    filters = 128,        ##隨機產生128個濾鏡filter weight\n",
    "    kernel_size = (3,3),\n",
    "    activation = 'relu',\n",
    "    padding = 'same'    \n",
    "))"
   ]
  },
  {
   "cell_type": "code",
   "execution_count": 19,
   "id": "41ab1de6",
   "metadata": {},
   "outputs": [],
   "source": [
    "#建立池化層3\n",
    "model.add(MaxPooling2D(pool_size=(2,2))) "
   ]
  },
  {
   "cell_type": "code",
   "execution_count": 20,
   "id": "d221f79c",
   "metadata": {},
   "outputs": [],
   "source": [
    "#建立平坦層\n",
    "model.add(Flatten())\n",
    "model.add(Dropout(rate=0.3))"
   ]
  },
  {
   "cell_type": "code",
   "execution_count": 21,
   "id": "f6aea70b",
   "metadata": {},
   "outputs": [],
   "source": [
    "#建立隱藏層1\n",
    "model.add(Dense(2500,activation='relu')) #共1024個神經元\n",
    "model.add(Dropout(rate=0.3))"
   ]
  },
  {
   "cell_type": "code",
   "execution_count": 22,
   "id": "cba4a355",
   "metadata": {},
   "outputs": [],
   "source": [
    "#建立隱藏層2\n",
    "model.add(Dense(1500,activation='relu')) #共1024個神經元\n",
    "model.add(Dropout(rate=0.3))"
   ]
  },
  {
   "cell_type": "code",
   "execution_count": 23,
   "id": "ec60cc13",
   "metadata": {},
   "outputs": [],
   "source": [
    "#建立輸出層\n",
    "model.add(Dense(10,activation = 'softmax'))\n",
    "#共有10個神經元，對應到0-9共10個影像類別。並且用softmax激活函數進行轉換，softmax可以將神經元的輸出，轉換維預測每一個影像類別的機率。"
   ]
  },
  {
   "cell_type": "code",
   "execution_count": 24,
   "id": "eec49e70",
   "metadata": {},
   "outputs": [
    {
     "name": "stdout",
     "output_type": "stream",
     "text": [
      "Model: \"sequential\"\n",
      "_________________________________________________________________\n",
      " Layer (type)                Output Shape              Param #   \n",
      "=================================================================\n",
      " conv2d (Conv2D)             (None, 32, 32, 32)        896       \n",
      "                                                                 \n",
      " dropout (Dropout)           (None, 32, 32, 32)        0         \n",
      "                                                                 \n",
      " conv2d_1 (Conv2D)           (None, 32, 32, 32)        9248      \n",
      "                                                                 \n",
      " max_pooling2d (MaxPooling2D  (None, 16, 16, 32)       0         \n",
      " )                                                               \n",
      "                                                                 \n",
      " conv2d_2 (Conv2D)           (None, 16, 16, 64)        18496     \n",
      "                                                                 \n",
      " dropout_1 (Dropout)         (None, 16, 16, 64)        0         \n",
      "                                                                 \n",
      " conv2d_3 (Conv2D)           (None, 16, 16, 64)        36928     \n",
      "                                                                 \n",
      " max_pooling2d_1 (MaxPooling  (None, 8, 8, 64)         0         \n",
      " 2D)                                                             \n",
      "                                                                 \n",
      " conv2d_4 (Conv2D)           (None, 8, 8, 128)         73856     \n",
      "                                                                 \n",
      " dropout_2 (Dropout)         (None, 8, 8, 128)         0         \n",
      "                                                                 \n",
      " conv2d_5 (Conv2D)           (None, 8, 8, 128)         147584    \n",
      "                                                                 \n",
      " max_pooling2d_2 (MaxPooling  (None, 4, 4, 128)        0         \n",
      " 2D)                                                             \n",
      "                                                                 \n",
      " flatten (Flatten)           (None, 2048)              0         \n",
      "                                                                 \n",
      " dropout_3 (Dropout)         (None, 2048)              0         \n",
      "                                                                 \n",
      " dense (Dense)               (None, 2500)              5122500   \n",
      "                                                                 \n",
      " dropout_4 (Dropout)         (None, 2500)              0         \n",
      "                                                                 \n",
      " dense_1 (Dense)             (None, 1500)              3751500   \n",
      "                                                                 \n",
      " dropout_5 (Dropout)         (None, 1500)              0         \n",
      "                                                                 \n",
      " dense_2 (Dense)             (None, 10)                15010     \n",
      "                                                                 \n",
      "=================================================================\n",
      "Total params: 9,176,018\n",
      "Trainable params: 9,176,018\n",
      "Non-trainable params: 0\n",
      "_________________________________________________________________\n",
      "None\n"
     ]
    }
   ],
   "source": [
    "print(model.summary())#查看模型摘要"
   ]
  },
  {
   "cell_type": "code",
   "execution_count": 25,
   "id": "f1d687fa",
   "metadata": {},
   "outputs": [],
   "source": [
    "#定義訓練方式\n",
    "model.compile(\n",
    "    loss='categorical_crossentropy',#設定損失函數\n",
    "    optimizer='adam',               #設定訓練最優化方法\n",
    "    metrics=['accuracy']            #評估模型的方式是accuracy準確率\n",
    ")"
   ]
  },
  {
   "cell_type": "markdown",
   "id": "50716c01",
   "metadata": {},
   "source": [
    "#模型的儲存與載入"
   ]
  },
  {
   "cell_type": "code",
   "execution_count": 26,
   "id": "eeeca14e",
   "metadata": {
    "scrolled": true
   },
   "outputs": [
    {
     "name": "stdout",
     "output_type": "stream",
     "text": [
      "Epoch 1/50\n",
      "313/313 [==============================] - 115s 364ms/step - loss: 1.8470 - accuracy: 0.3049 - val_loss: 1.6354 - val_accuracy: 0.4098\n",
      "Epoch 2/50\n",
      "313/313 [==============================] - 113s 362ms/step - loss: 1.4159 - accuracy: 0.4769 - val_loss: 1.3788 - val_accuracy: 0.5137\n",
      "Epoch 3/50\n",
      "313/313 [==============================] - 114s 364ms/step - loss: 1.2087 - accuracy: 0.5610 - val_loss: 1.2597 - val_accuracy: 0.5519\n",
      "Epoch 4/50\n",
      "313/313 [==============================] - 113s 361ms/step - loss: 1.0785 - accuracy: 0.6128 - val_loss: 1.0433 - val_accuracy: 0.6329\n",
      "Epoch 5/50\n",
      "313/313 [==============================] - 113s 362ms/step - loss: 0.9767 - accuracy: 0.6522 - val_loss: 0.9014 - val_accuracy: 0.6840\n",
      "Epoch 6/50\n",
      "313/313 [==============================] - 113s 361ms/step - loss: 0.8967 - accuracy: 0.6812 - val_loss: 0.8854 - val_accuracy: 0.6950\n",
      "Epoch 7/50\n",
      "313/313 [==============================] - 112s 359ms/step - loss: 0.8394 - accuracy: 0.7012 - val_loss: 0.8644 - val_accuracy: 0.6975\n",
      "Epoch 8/50\n",
      "313/313 [==============================] - 112s 359ms/step - loss: 0.7841 - accuracy: 0.7221 - val_loss: 0.8046 - val_accuracy: 0.7211\n",
      "Epoch 9/50\n",
      "313/313 [==============================] - 112s 359ms/step - loss: 0.7443 - accuracy: 0.7383 - val_loss: 0.7363 - val_accuracy: 0.7472\n",
      "Epoch 10/50\n",
      "313/313 [==============================] - 112s 358ms/step - loss: 0.7018 - accuracy: 0.7519 - val_loss: 0.7217 - val_accuracy: 0.7492\n",
      "Epoch 11/50\n",
      "313/313 [==============================] - 112s 359ms/step - loss: 0.6630 - accuracy: 0.7642 - val_loss: 0.6986 - val_accuracy: 0.7587\n",
      "Epoch 12/50\n",
      "313/313 [==============================] - 112s 358ms/step - loss: 0.6306 - accuracy: 0.7770 - val_loss: 0.6961 - val_accuracy: 0.7618\n",
      "Epoch 13/50\n",
      "313/313 [==============================] - 112s 359ms/step - loss: 0.6079 - accuracy: 0.7858 - val_loss: 0.6899 - val_accuracy: 0.7627\n",
      "Epoch 14/50\n",
      "313/313 [==============================] - 112s 359ms/step - loss: 0.5682 - accuracy: 0.7990 - val_loss: 0.6737 - val_accuracy: 0.7722\n",
      "Epoch 15/50\n",
      "313/313 [==============================] - 111s 356ms/step - loss: 0.5472 - accuracy: 0.8056 - val_loss: 0.7587 - val_accuracy: 0.7484\n",
      "Epoch 16/50\n",
      "313/313 [==============================] - 111s 354ms/step - loss: 0.5291 - accuracy: 0.8134 - val_loss: 0.6458 - val_accuracy: 0.7818\n",
      "Epoch 17/50\n",
      "313/313 [==============================] - 110s 353ms/step - loss: 0.5089 - accuracy: 0.8191 - val_loss: 0.6531 - val_accuracy: 0.7758\n",
      "Epoch 18/50\n",
      "313/313 [==============================] - 110s 353ms/step - loss: 0.4900 - accuracy: 0.8242 - val_loss: 0.6775 - val_accuracy: 0.7782\n",
      "Epoch 19/50\n",
      "313/313 [==============================] - 111s 354ms/step - loss: 0.4642 - accuracy: 0.8345 - val_loss: 0.6514 - val_accuracy: 0.7833\n",
      "Epoch 20/50\n",
      "313/313 [==============================] - 110s 353ms/step - loss: 0.4588 - accuracy: 0.8362 - val_loss: 0.7205 - val_accuracy: 0.7583\n",
      "Epoch 21/50\n",
      "313/313 [==============================] - 110s 353ms/step - loss: 0.4368 - accuracy: 0.8447 - val_loss: 0.6676 - val_accuracy: 0.7750\n",
      "Epoch 22/50\n",
      "313/313 [==============================] - 110s 353ms/step - loss: 0.4306 - accuracy: 0.8469 - val_loss: 0.6612 - val_accuracy: 0.7880\n",
      "Epoch 23/50\n",
      "313/313 [==============================] - 110s 353ms/step - loss: 0.4150 - accuracy: 0.8559 - val_loss: 0.6376 - val_accuracy: 0.7873\n",
      "Epoch 24/50\n",
      "313/313 [==============================] - 110s 352ms/step - loss: 0.4059 - accuracy: 0.8555 - val_loss: 0.6585 - val_accuracy: 0.7840\n",
      "Epoch 25/50\n",
      "313/313 [==============================] - 111s 353ms/step - loss: 0.3950 - accuracy: 0.8595 - val_loss: 0.6573 - val_accuracy: 0.7817\n",
      "Epoch 26/50\n",
      "313/313 [==============================] - 111s 353ms/step - loss: 0.3746 - accuracy: 0.8689 - val_loss: 0.6270 - val_accuracy: 0.7940\n",
      "Epoch 27/50\n",
      "313/313 [==============================] - 111s 353ms/step - loss: 0.3702 - accuracy: 0.8691 - val_loss: 0.6487 - val_accuracy: 0.7811\n",
      "Epoch 28/50\n",
      "313/313 [==============================] - 111s 353ms/step - loss: 0.3596 - accuracy: 0.8731 - val_loss: 0.7030 - val_accuracy: 0.7818\n",
      "Epoch 29/50\n",
      "313/313 [==============================] - 110s 353ms/step - loss: 0.3486 - accuracy: 0.8760 - val_loss: 0.6323 - val_accuracy: 0.7972\n",
      "Epoch 30/50\n",
      "313/313 [==============================] - 111s 353ms/step - loss: 0.3404 - accuracy: 0.8817 - val_loss: 0.6627 - val_accuracy: 0.7809\n",
      "Epoch 31/50\n",
      "313/313 [==============================] - 111s 353ms/step - loss: 0.3340 - accuracy: 0.8813 - val_loss: 0.6714 - val_accuracy: 0.7845\n",
      "Epoch 32/50\n",
      "313/313 [==============================] - 111s 353ms/step - loss: 0.3305 - accuracy: 0.8836 - val_loss: 0.6678 - val_accuracy: 0.7934\n",
      "Epoch 33/50\n",
      "313/313 [==============================] - 111s 354ms/step - loss: 0.3235 - accuracy: 0.8870 - val_loss: 0.6646 - val_accuracy: 0.7868\n",
      "Epoch 34/50\n",
      "313/313 [==============================] - 110s 353ms/step - loss: 0.3162 - accuracy: 0.8886 - val_loss: 0.6806 - val_accuracy: 0.7893\n",
      "Epoch 35/50\n",
      "313/313 [==============================] - 111s 354ms/step - loss: 0.3076 - accuracy: 0.8925 - val_loss: 0.6690 - val_accuracy: 0.7921\n",
      "Epoch 36/50\n",
      "313/313 [==============================] - 111s 354ms/step - loss: 0.3041 - accuracy: 0.8939 - val_loss: 0.7044 - val_accuracy: 0.7791\n",
      "Epoch 37/50\n",
      "313/313 [==============================] - 111s 354ms/step - loss: 0.2987 - accuracy: 0.8966 - val_loss: 0.6575 - val_accuracy: 0.7980\n",
      "Epoch 38/50\n",
      "313/313 [==============================] - 111s 354ms/step - loss: 0.3045 - accuracy: 0.8946 - val_loss: 0.6322 - val_accuracy: 0.8005\n",
      "Epoch 39/50\n",
      "313/313 [==============================] - 114s 365ms/step - loss: 0.2901 - accuracy: 0.8992 - val_loss: 0.6854 - val_accuracy: 0.7876\n",
      "Epoch 40/50\n",
      "313/313 [==============================] - 122s 391ms/step - loss: 0.2877 - accuracy: 0.8992 - val_loss: 0.6687 - val_accuracy: 0.7945\n",
      "Epoch 41/50\n",
      "313/313 [==============================] - 127s 407ms/step - loss: 0.2845 - accuracy: 0.9014 - val_loss: 0.6669 - val_accuracy: 0.7946\n",
      "Epoch 42/50\n",
      "313/313 [==============================] - 127s 404ms/step - loss: 0.2870 - accuracy: 0.9001 - val_loss: 0.6518 - val_accuracy: 0.7912\n",
      "Epoch 43/50\n",
      "313/313 [==============================] - 129s 414ms/step - loss: 0.2821 - accuracy: 0.9020 - val_loss: 0.6741 - val_accuracy: 0.7903\n",
      "Epoch 44/50\n",
      "313/313 [==============================] - 120s 384ms/step - loss: 0.2752 - accuracy: 0.9057 - val_loss: 0.6973 - val_accuracy: 0.7833\n",
      "Epoch 45/50\n",
      "313/313 [==============================] - 121s 386ms/step - loss: 0.2785 - accuracy: 0.9039 - val_loss: 0.6797 - val_accuracy: 0.7932\n",
      "Epoch 46/50\n",
      "313/313 [==============================] - 123s 394ms/step - loss: 0.2728 - accuracy: 0.9050 - val_loss: 0.6799 - val_accuracy: 0.7889\n",
      "Epoch 47/50\n",
      "313/313 [==============================] - 124s 397ms/step - loss: 0.2622 - accuracy: 0.9101 - val_loss: 0.6831 - val_accuracy: 0.7953\n",
      "Epoch 48/50\n",
      "313/313 [==============================] - 124s 396ms/step - loss: 0.2595 - accuracy: 0.9107 - val_loss: 0.7092 - val_accuracy: 0.7788\n",
      "Epoch 49/50\n",
      "313/313 [==============================] - 124s 395ms/step - loss: 0.2572 - accuracy: 0.9119 - val_loss: 0.7208 - val_accuracy: 0.7807\n",
      "Epoch 50/50\n",
      "313/313 [==============================] - 122s 390ms/step - loss: 0.2593 - accuracy: 0.9112 - val_loss: 0.6582 - val_accuracy: 0.7977\n"
     ]
    }
   ],
   "source": [
    "#開始訓練\n",
    "train_history = model.fit(\n",
    "    x_img_train_normalize,  #feature影像的特徵值，經過標準化處理\n",
    "    y_label_train_OneHot,   #label影像真實值，經過Onehot encoding轉換\n",
    "    validation_split=0.2,   #設定訓練與驗證資料比例\n",
    "    epochs=50,\n",
    "    batch_size = 128,\n",
    "    verbose=1               #0:安靜模式，1:進度條，3:每輪一行\n",
    ")"
   ]
  },
  {
   "cell_type": "code",
   "execution_count": 55,
   "id": "e98e2b18",
   "metadata": {},
   "outputs": [
    {
     "name": "stdout",
     "output_type": "stream",
     "text": [
      "Load success\n"
     ]
    }
   ],
   "source": [
    "try:\n",
    "    model.load_weights(\"SaveModel/cifarCnnModel.h5\")\n",
    "    print(\"Load success\")\n",
    "except:\n",
    "    print(\"載入失敗!開始訓練一個模型吧!\")\n",
    "#因為第一次執行，因為尚未儲存模型權重，所以會顯示{載入失敗}"
   ]
  },
  {
   "cell_type": "code",
   "execution_count": 56,
   "id": "47e526ad",
   "metadata": {},
   "outputs": [],
   "source": [
    "import matplotlib.pyplot as plt\n",
    "def show_train_history(train_acc,test_acc):\n",
    "    plt.plot(train_history.history[train_acc])\n",
    "    plt.plot(train_history.history[test_acc])\n",
    "    plt.title('Train History')\n",
    "    plt.ylabel('Accuracy')\n",
    "    plt.xlabel('Epoch')\n",
    "    plt.legend(['train', 'test'], loc='upper left')\n",
    "    plt.show()"
   ]
  },
  {
   "cell_type": "code",
   "execution_count": 57,
   "id": "35324230",
   "metadata": {},
   "outputs": [
    {
     "data": {
      "image/png": "[encoded data removed]",
      "text/plain": [
       "<Figure size 640x480 with 1 Axes>"
      ]
     },
     "metadata": {},
     "output_type": "display_data"
    }
   ],
   "source": [
    "#畫出accuracy執行結果\n",
    "show_train_history('accuracy','val_accuracy')"
   ]
  },
  {
   "cell_type": "code",
   "execution_count": 58,
   "id": "66a2d38b",
   "metadata": {},
   "outputs": [
    {
     "data": {
      "image/png": "[encoded data removed]",
      "text/plain": [
       "<Figure size 640x480 with 1 Axes>"
      ]
     },
     "metadata": {},
     "output_type": "display_data"
    }
   ],
   "source": [
    "#畫出loss誤差執行結果\n",
    "show_train_history('loss','val_loss')"
   ]
  },
  {
   "cell_type": "code",
   "execution_count": 59,
   "id": "1e1d5737",
   "metadata": {},
   "outputs": [
    {
     "data": {
      "text/plain": [
       "0.7914000153541565"
      ]
     },
     "execution_count": 59,
     "metadata": {},
     "output_type": "execute_result"
    }
   ],
   "source": [
    "#評估模型準確率\n",
    "scores = model.evaluate(x_img_test_normalize , y_label_test_OneHot,verbose=0)\n",
    "scores[1]"
   ]
  },
  {
   "cell_type": "code",
   "execution_count": 60,
   "id": "4a4d5567",
   "metadata": {},
   "outputs": [
    {
     "name": "stdout",
     "output_type": "stream",
     "text": [
      "313/313 [==============================] - 7s 21ms/step\n"
     ]
    }
   ],
   "source": [
    "#進行預測\n",
    "prediction=model.predict(x_img_test_normalize)\n",
    "classes_x=np.argmax(prediction,axis=1)"
   ]
  },
  {
   "cell_type": "code",
   "execution_count": 61,
   "id": "83ff83a3",
   "metadata": {},
   "outputs": [
    {
     "data": {
      "text/plain": [
       "array([3, 8, 8, 0, 6, 6, 1, 6, 3, 9], dtype=int64)"
      ]
     },
     "execution_count": 61,
     "metadata": {},
     "output_type": "execute_result"
    }
   ],
   "source": [
    "classes_x[:10]"
   ]
  },
  {
   "cell_type": "code",
   "execution_count": 62,
   "id": "38d229d4",
   "metadata": {},
   "outputs": [],
   "source": [
    "#定義label_dict字典\n",
    "label_dict ={0:\"airplane\",1:\"automobile\",2:\"bird\",3:\"cat\",4:\"deer\",5:\"dog\",6:\"frog\",7:\"horse\",8:\"ship\",9:\"truck\"}"
   ]
  },
  {
   "cell_type": "code",
   "execution_count": 63,
   "id": "f0133373",
   "metadata": {},
   "outputs": [],
   "source": [
    "#修改plot_images_labels_prediction\n",
    "#使用label_dict字典，將label與prediction的0~9數字轉換維圖形的類別名稱。\n",
    "import matplotlib.pyplot as plt\n",
    "def plot_images_labels_prediction(images,labels,prediction,idx,num=10): #數字影像,真實質,預測結果,開始的顯示資料index,要顯示的資料數\n",
    "    fig = plt.gcf()            #圖形大小\n",
    "    fig.set_size_inches(12,14) #圖形大小\n",
    "    if num > 25 : num=25\n",
    "    for i in range(0,num):\n",
    "        ax = plt.subplot(5,5,1+i)#建立subgraph子圖形5行5列\n",
    "        ax.imshow(images[idx],cmap='binary')#劃出subgraph子圖形\n",
    "       \n",
    "        title = str(i)+','+label_dict[labels[i][0]]\n",
    "        if len(prediction) > 0:\n",
    "            title+='=>'+label_dict[prediction[i]]\n",
    "            \n",
    "        ax.set_title(title,fontsize=10)   #設定title大小\n",
    "        ax.set_xticks([]);ax.set_yticks([]) #設定不顯示刻度\n",
    "        idx+=1\n",
    "    plt.show()"
   ]
  },
  {
   "cell_type": "code",
   "execution_count": 64,
   "id": "ff1858e0",
   "metadata": {},
   "outputs": [
    {
     "data": {
      "image/png": "[encoded data removed]",
      "text/plain": [
       "<Figure size 1200x1400 with 10 Axes>"
      ]
     },
     "metadata": {},
     "output_type": "display_data"
    }
   ],
   "source": [
    "#顯示前10筆資料\n",
    "plot_images_labels_prediction(x_img_test,y_label_test,classes_x,0,10)"
   ]
  },
  {
   "cell_type": "code",
   "execution_count": 65,
   "id": "f70aa130",
   "metadata": {},
   "outputs": [
    {
     "name": "stdout",
     "output_type": "stream",
     "text": [
      "313/313 [==============================] - 7s 21ms/step\n"
     ]
    }
   ],
   "source": [
    "#使用測試資料進行預測\n",
    "Predicted_Probability = model.predict(x_img_test_normalize)"
   ]
  },
  {
   "cell_type": "code",
   "execution_count": 66,
   "id": "f6777605",
   "metadata": {},
   "outputs": [],
   "source": [
    "#建立show_Predicted_Probability函數\n",
    "def show_Predicted_Probability(y,classes_x,x_img,Predicted_Probability,i):\n",
    "    print('label:',label_dict[y[i][0]],'predict',label_dict[classes_x[i]])\n",
    "    plt.figure(figsize=(2,2))\n",
    "    plt.imshow(np.reshape(x_img_test[i],(32,32,3)))\n",
    "    plt.show()\n",
    "    for j in range(10):\n",
    "        print(label_dict[j]+' Probability:%1.9f'%(Predicted_Probability[i][j]))\n",
    "        "
   ]
  },
  {
   "cell_type": "markdown",
   "id": "bdd67505",
   "metadata": {},
   "source": [
    "定義show_Predicted_Probability()。\n",
    "傳入    y:真實值 classes_x:預測結果 x_img:預測影像  Predicted_Probability:預測機率 \n",
    "        i:開始顯示的資料index\n",
    "- - - - - - - - \n",
    "#設定影像大小\n",
    "plt.figure(figsize=(2,2)) \n",
    "plt.imshow(np.reshape(x_img_test[i],(32,32,3)))\n",
    "plt.show()\n",
    "- - - - - - - -\n",
    "#讀取Predicted_Probability預測機率\n",
    "for j in range(10):\n",
    "        print(label_dict[j]+' Probability:%1.9f'%(Predicted_Probability[i][j]))"
   ]
  },
  {
   "cell_type": "code",
   "execution_count": 67,
   "id": "bebc076d",
   "metadata": {},
   "outputs": [
    {
     "name": "stdout",
     "output_type": "stream",
     "text": [
      "label: cat predict cat\n"
     ]
    },
    {
     "data": {
      "image/png": "[encoded data removed]",
      "text/plain": [
       "<Figure size 200x200 with 1 Axes>"
      ]
     },
     "metadata": {},
     "output_type": "display_data"
    },
    {
     "name": "stdout",
     "output_type": "stream",
     "text": [
      "airplane Probability:0.000730044\n",
      "automobile Probability:0.000230992\n",
      "bird Probability:0.000535294\n",
      "cat Probability:0.930439472\n",
      "deer Probability:0.001317507\n",
      "dog Probability:0.043272320\n",
      "frog Probability:0.000083920\n",
      "horse Probability:0.000160456\n",
      "ship Probability:0.009899726\n",
      "truck Probability:0.013330179\n"
     ]
    }
   ],
   "source": [
    "#查看第0筆資料的預測機率\n",
    "show_Predicted_Probability(y_label_test,classes_x,x_img_test,Predicted_Probability,0)"
   ]
  },
  {
   "cell_type": "code",
   "execution_count": 68,
   "id": "23902c62",
   "metadata": {},
   "outputs": [
    {
     "name": "stdout",
     "output_type": "stream",
     "text": [
      "label: airplane predict airplane\n"
     ]
    },
    {
     "data": {
      "image/png": "[encoded data removed]",
      "text/plain": [
       "<Figure size 200x200 with 1 Axes>"
      ]
     },
     "metadata": {},
     "output_type": "display_data"
    },
    {
     "name": "stdout",
     "output_type": "stream",
     "text": [
      "airplane Probability:0.954865813\n",
      "automobile Probability:0.001391578\n",
      "bird Probability:0.003393777\n",
      "cat Probability:0.000299828\n",
      "deer Probability:0.000384084\n",
      "dog Probability:0.000000873\n",
      "frog Probability:0.000007595\n",
      "horse Probability:0.000021215\n",
      "ship Probability:0.039584491\n",
      "truck Probability:0.000050884\n"
     ]
    }
   ],
   "source": [
    "#查看第3筆資料的預測機率\n",
    "show_Predicted_Probability(y_label_test,classes_x,x_img_test,Predicted_Probability,3)"
   ]
  },
  {
   "cell_type": "code",
   "execution_count": 69,
   "id": "cfde0325",
   "metadata": {},
   "outputs": [
    {
     "data": {
      "text/plain": [
       "(10000,)"
      ]
     },
     "execution_count": 69,
     "metadata": {},
     "output_type": "execute_result"
    }
   ],
   "source": [
    "#查看classes_x(prediction)預測的結果狀況\n",
    "classes_x.shape"
   ]
  },
  {
   "cell_type": "code",
   "execution_count": 70,
   "id": "6b5fa0f7",
   "metadata": {},
   "outputs": [
    {
     "data": {
      "text/plain": [
       "(10000, 1)"
      ]
     },
     "execution_count": 70,
     "metadata": {},
     "output_type": "execute_result"
    }
   ],
   "source": [
    "#查看y_label_test真實值的shape形狀\n",
    "y_label_test.shape"
   ]
  },
  {
   "cell_type": "code",
   "execution_count": 71,
   "id": "11bc4bab",
   "metadata": {},
   "outputs": [
    {
     "data": {
      "text/plain": [
       "array([3, 8, 8, ..., 5, 1, 7], dtype=uint8)"
      ]
     },
     "execution_count": 71,
     "metadata": {},
     "output_type": "execute_result"
    }
   ],
   "source": [
    "#將y_label_test真實值，轉換為1維陣列 使用reshape(-1)\n",
    "y_label_test.reshape(-1)"
   ]
  },
  {
   "cell_type": "code",
   "execution_count": 72,
   "id": "ed724109",
   "metadata": {},
   "outputs": [
    {
     "name": "stdout",
     "output_type": "stream",
     "text": [
      "{0: 'airplane', 1: 'automobile', 2: 'bird', 3: 'cat', 4: 'deer', 5: 'dog', 6: 'frog', 7: 'horse', 8: 'ship', 9: 'truck'}\n"
     ]
    },
    {
     "data": {
      "text/html": [
       "<div>\n",
       "<style scoped>\n",
       "    .dataframe tbody tr th:only-of-type {\n",
       "        vertical-align: middle;\n",
       "    }\n",
       "\n",
       "    .dataframe tbody tr th {\n",
       "        vertical-align: top;\n",
       "    }\n",
       "\n",
       "    .dataframe thead th {\n",
       "        text-align: right;\n",
       "    }\n",
       "</style>\n",
       "<table border=\"1\" class=\"dataframe\">\n",
       "  <thead>\n",
       "    <tr style=\"text-align: right;\">\n",
       "      <th>predict</th>\n",
       "      <th>0</th>\n",
       "      <th>1</th>\n",
       "      <th>2</th>\n",
       "      <th>3</th>\n",
       "      <th>4</th>\n",
       "      <th>5</th>\n",
       "      <th>6</th>\n",
       "      <th>7</th>\n",
       "      <th>8</th>\n",
       "      <th>9</th>\n",
       "    </tr>\n",
       "    <tr>\n",
       "      <th>label</th>\n",
       "      <th></th>\n",
       "      <th></th>\n",
       "      <th></th>\n",
       "      <th></th>\n",
       "      <th></th>\n",
       "      <th></th>\n",
       "      <th></th>\n",
       "      <th></th>\n",
       "      <th></th>\n",
       "      <th></th>\n",
       "    </tr>\n",
       "  </thead>\n",
       "  <tbody>\n",
       "    <tr>\n",
       "      <th>0</th>\n",
       "      <td>826</td>\n",
       "      <td>2</td>\n",
       "      <td>35</td>\n",
       "      <td>13</td>\n",
       "      <td>13</td>\n",
       "      <td>3</td>\n",
       "      <td>6</td>\n",
       "      <td>9</td>\n",
       "      <td>63</td>\n",
       "      <td>30</td>\n",
       "    </tr>\n",
       "    <tr>\n",
       "      <th>1</th>\n",
       "      <td>14</td>\n",
       "      <td>851</td>\n",
       "      <td>4</td>\n",
       "      <td>6</td>\n",
       "      <td>2</td>\n",
       "      <td>3</td>\n",
       "      <td>3</td>\n",
       "      <td>2</td>\n",
       "      <td>29</td>\n",
       "      <td>86</td>\n",
       "    </tr>\n",
       "    <tr>\n",
       "      <th>2</th>\n",
       "      <td>52</td>\n",
       "      <td>0</td>\n",
       "      <td>729</td>\n",
       "      <td>49</td>\n",
       "      <td>77</td>\n",
       "      <td>30</td>\n",
       "      <td>34</td>\n",
       "      <td>16</td>\n",
       "      <td>10</td>\n",
       "      <td>3</td>\n",
       "    </tr>\n",
       "    <tr>\n",
       "      <th>3</th>\n",
       "      <td>15</td>\n",
       "      <td>3</td>\n",
       "      <td>74</td>\n",
       "      <td>666</td>\n",
       "      <td>45</td>\n",
       "      <td>100</td>\n",
       "      <td>54</td>\n",
       "      <td>23</td>\n",
       "      <td>12</td>\n",
       "      <td>8</td>\n",
       "    </tr>\n",
       "    <tr>\n",
       "      <th>4</th>\n",
       "      <td>17</td>\n",
       "      <td>2</td>\n",
       "      <td>52</td>\n",
       "      <td>55</td>\n",
       "      <td>787</td>\n",
       "      <td>21</td>\n",
       "      <td>29</td>\n",
       "      <td>31</td>\n",
       "      <td>6</td>\n",
       "      <td>0</td>\n",
       "    </tr>\n",
       "    <tr>\n",
       "      <th>5</th>\n",
       "      <td>10</td>\n",
       "      <td>1</td>\n",
       "      <td>48</td>\n",
       "      <td>220</td>\n",
       "      <td>42</td>\n",
       "      <td>615</td>\n",
       "      <td>20</td>\n",
       "      <td>34</td>\n",
       "      <td>9</td>\n",
       "      <td>1</td>\n",
       "    </tr>\n",
       "    <tr>\n",
       "      <th>6</th>\n",
       "      <td>5</td>\n",
       "      <td>2</td>\n",
       "      <td>44</td>\n",
       "      <td>55</td>\n",
       "      <td>24</td>\n",
       "      <td>14</td>\n",
       "      <td>834</td>\n",
       "      <td>4</td>\n",
       "      <td>13</td>\n",
       "      <td>5</td>\n",
       "    </tr>\n",
       "    <tr>\n",
       "      <th>7</th>\n",
       "      <td>11</td>\n",
       "      <td>1</td>\n",
       "      <td>26</td>\n",
       "      <td>57</td>\n",
       "      <td>58</td>\n",
       "      <td>31</td>\n",
       "      <td>3</td>\n",
       "      <td>803</td>\n",
       "      <td>2</td>\n",
       "      <td>8</td>\n",
       "    </tr>\n",
       "    <tr>\n",
       "      <th>8</th>\n",
       "      <td>32</td>\n",
       "      <td>4</td>\n",
       "      <td>13</td>\n",
       "      <td>10</td>\n",
       "      <td>3</td>\n",
       "      <td>3</td>\n",
       "      <td>2</td>\n",
       "      <td>1</td>\n",
       "      <td>916</td>\n",
       "      <td>16</td>\n",
       "    </tr>\n",
       "    <tr>\n",
       "      <th>9</th>\n",
       "      <td>24</td>\n",
       "      <td>24</td>\n",
       "      <td>4</td>\n",
       "      <td>14</td>\n",
       "      <td>3</td>\n",
       "      <td>2</td>\n",
       "      <td>5</td>\n",
       "      <td>8</td>\n",
       "      <td>29</td>\n",
       "      <td>887</td>\n",
       "    </tr>\n",
       "  </tbody>\n",
       "</table>\n",
       "</div>"
      ],
      "text/plain": [
       "predict    0    1    2    3    4    5    6    7    8    9\n",
       "label                                                    \n",
       "0        826    2   35   13   13    3    6    9   63   30\n",
       "1         14  851    4    6    2    3    3    2   29   86\n",
       "2         52    0  729   49   77   30   34   16   10    3\n",
       "3         15    3   74  666   45  100   54   23   12    8\n",
       "4         17    2   52   55  787   21   29   31    6    0\n",
       "5         10    1   48  220   42  615   20   34    9    1\n",
       "6          5    2   44   55   24   14  834    4   13    5\n",
       "7         11    1   26   57   58   31    3  803    2    8\n",
       "8         32    4   13   10    3    3    2    1  916   16\n",
       "9         24   24    4   14    3    2    5    8   29  887"
      ]
     },
     "execution_count": 72,
     "metadata": {},
     "output_type": "execute_result"
    }
   ],
   "source": [
    "#建立混淆矩陣\n",
    "import pandas as pd\n",
    "print(label_dict)\n",
    "pd.crosstab(y_label_test.reshape(-1),classes_x,rownames=['label'],colnames=['predict'])"
   ]
  },
  {
   "cell_type": "code",
   "execution_count": 48,
   "id": "8658f9b8",
   "metadata": {},
   "outputs": [
    {
     "name": "stdout",
     "output_type": "stream",
     "text": [
      "Save model to disk\n"
     ]
    }
   ],
   "source": [
    "model.save_weights(\"SaveModel/cifarCnnModel.h5\")\n",
    "print(\"Save model to disk\")"
   ]
  },
  {
   "cell_type": "code",
   "execution_count": null,
   "id": "df171552",
   "metadata": {},
   "outputs": [],
   "source": []
  }
 ],
 "metadata": {
  "kernelspec": {
   "display_name": "Python 3 (ipykernel)",
   "language": "python",
   "name": "python3"
  },
  "language_info": {
   "codemirror_mode": {
    "name": "ipython",
    "version": 3
   },
   "file_extension": ".py",
   "mimetype": "text/x-python",
   "name": "python",
   "nbconvert_exporter": "python",
   "pygments_lexer": "ipython3",
   "version": "3.9.13"
  }
 },
 "nbformat": 4,
 "nbformat_minor": 5
}
